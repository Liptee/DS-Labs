{
 "cells": [
  {
   "cell_type": "markdown",
   "metadata": {},
   "source": [
    "# Лабараторная работа №5\n",
    "## Градиентный бустинг с CatBoost\n",
    "**Выполнил**: 6131-010402D, Музыка Артем"
   ]
  },
  {
   "cell_type": "markdown",
   "metadata": {},
   "source": [
    "### Импорт данных"
   ]
  },
  {
   "cell_type": "code",
   "execution_count": 1,
   "metadata": {},
   "outputs": [],
   "source": [
    "import pandas as pd\n",
    "import numpy as np\n",
    "from catboost import CatBoostClassifier\n",
    "from catboost import *\n",
    "from sklearn.metrics import (accuracy_score, PrecisionRecallDisplay, mean_absolute_error, mean_squared_error,\n",
    "                            plot_roc_curve, roc_auc_score, recall_score, precision_score)\n",
    "from sklearn.utils import shuffle\n",
    "from warnings import filterwarnings\n",
    "filterwarnings(\"ignore\")"
   ]
  },
  {
   "cell_type": "code",
   "execution_count": 2,
   "metadata": {},
   "outputs": [],
   "source": [
    "df = pd.read_csv(\"data\\spotify.csv\")"
   ]
  },
  {
   "cell_type": "markdown",
   "metadata": {},
   "source": [
    "### Обработка данных"
   ]
  },
  {
   "cell_type": "markdown",
   "metadata": {},
   "source": [
    "Удаление ненужных колонок"
   ]
  },
  {
   "cell_type": "code",
   "execution_count": 3,
   "metadata": {},
   "outputs": [],
   "source": [
    "for_delete = ['type','uri','track_href','analysis_url','song_name','Unnamed: 0', 'title', 'id']\n",
    "for f in for_delete:\n",
    "    df.pop(f)"
   ]
  },
  {
   "cell_type": "markdown",
   "metadata": {},
   "source": [
    "Создание набора данных и меток классов"
   ]
  },
  {
   "cell_type": "code",
   "execution_count": 4,
   "metadata": {},
   "outputs": [],
   "source": [
    "genres = list(df[\"genre\"])\n",
    "\n",
    "def repitless(lst):\n",
    "    new_list = []\n",
    "    for g in lst:\n",
    "        if g not in new_list:\n",
    "            new_list.append(g)\n",
    "    return new_list\n",
    "\n",
    "def str_to_int(lst):\n",
    "    less = repitless(lst)\n",
    "    for g in range(len(less)):\n",
    "        for genre in range(len(lst)):\n",
    "            if lst[genre] == less[g]:\n",
    "                lst[genre] = g\n",
    "    return lst\n",
    "\n",
    "Y_spotify = str_to_int(list(df[\"genre\"]))\n",
    "df.pop('genre')\n",
    "\n",
    "X_spotify = []\n",
    "for i in range(len(df)):\n",
    "    X_spotify.append([])\n",
    "for column in list(df):\n",
    "    new_list = list(df[column])\n",
    "    for i in range(len(new_list)):\n",
    "        X_spotify[i].append(new_list[i])\n",
    "\n",
    "data_spotify, labels_spotify = shuffle(X_spotify, Y_spotify)"
   ]
  },
  {
   "cell_type": "code",
   "execution_count": 5,
   "metadata": {},
   "outputs": [],
   "source": [
    "test_size = int(len(data_spotify) * 0.9)\n",
    "Xtrain = data_spotify[:test_size]\n",
    "Ytrain = labels_spotify[:test_size]\n",
    "Xtest = data_spotify[test_size:]\n",
    "Ytest = labels_spotify[test_size:]"
   ]
  },
  {
   "cell_type": "markdown",
   "metadata": {},
   "source": [
    "### 1. Применить классификатор ```CatBoostClassifier```\n",
    "Обратите внимание, что **catboost** умеет работать с категориальными признаками (параметр ```cat_features``` - список индексов категориальных признаков), поэтому использование ```pd.factorize```/```pd.get_dummies``` здесь лишнее.\n",
    "- вывести итерацию с наилучшим значением **AUC (для бинарной классификации) или наилучшим значением Logloss.\n",
    "- вывести значения метрик качества классификации на тестовых данных (*accuracy* и *precision* / *recall* / *AUC*, если применимо).\n",
    "- в случае бинарной классификации на основе CatBoostClassifier построить кривые **PRC** и **ROC**. Вычислить значения **PRC-AUC** и **ROC-AUC**."
   ]
  },
  {
   "cell_type": "code",
   "execution_count": 8,
   "metadata": {},
   "outputs": [
    {
     "ename": "KeyboardInterrupt",
     "evalue": "",
     "output_type": "error",
     "traceback": [
      "\u001b[1;31m---------------------------------------------------------------------------\u001b[0m",
      "\u001b[1;31mKeyboardInterrupt\u001b[0m                         Traceback (most recent call last)",
      "\u001b[1;32mc:\\Users\\muzzo\\OneDrive\\Рабочий стол\\2 семестр\\DS\\DS-Labs\\LAB5.ipynb Cell 12'\u001b[0m in \u001b[0;36m<cell line: 2>\u001b[1;34m()\u001b[0m\n\u001b[0;32m      <a href='vscode-notebook-cell:/c%3A/Users/muzzo/OneDrive/%D0%A0%D0%B0%D0%B1%D0%BE%D1%87%D0%B8%D0%B9%20%D1%81%D1%82%D0%BE%D0%BB/2%20%D1%81%D0%B5%D0%BC%D0%B5%D1%81%D1%82%D1%80/DS/DS-Labs/LAB5.ipynb#ch0000011?line=0'>1</a>\u001b[0m cat \u001b[39m=\u001b[39m CatBoostClassifier(eval_metric\u001b[39m=\u001b[39m\u001b[39m\"\u001b[39m\u001b[39mAUC\u001b[39m\u001b[39m\"\u001b[39m)\n\u001b[1;32m----> <a href='vscode-notebook-cell:/c%3A/Users/muzzo/OneDrive/%D0%A0%D0%B0%D0%B1%D0%BE%D1%87%D0%B8%D0%B9%20%D1%81%D1%82%D0%BE%D0%BB/2%20%D1%81%D0%B5%D0%BC%D0%B5%D1%81%D1%82%D1%80/DS/DS-Labs/LAB5.ipynb#ch0000011?line=1'>2</a>\u001b[0m cat\u001b[39m.\u001b[39;49mfit(Xtrain, Ytrain, eval_set\u001b[39m=\u001b[39;49m(Xtest, Ytest), verbose\u001b[39m=\u001b[39;49m\u001b[39mFalse\u001b[39;49;00m)\n",
      "File \u001b[1;32mc:\\Users\\muzzo\\.virtualenvs\\DS-Labs-ai7-yjzp\\lib\\site-packages\\catboost\\core.py:4921\u001b[0m, in \u001b[0;36mCatBoostClassifier.fit\u001b[1;34m(self, X, y, cat_features, text_features, embedding_features, sample_weight, baseline, use_best_model, eval_set, verbose, logging_level, plot, column_description, verbose_eval, metric_period, silent, early_stopping_rounds, save_snapshot, snapshot_file, snapshot_interval, init_model, callbacks, log_cout, log_cerr)\u001b[0m\n\u001b[0;32m   <a href='file:///c%3A/Users/muzzo/.virtualenvs/DS-Labs-ai7-yjzp/lib/site-packages/catboost/core.py?line=4917'>4918</a>\u001b[0m \u001b[39mif\u001b[39;00m \u001b[39m'\u001b[39m\u001b[39mloss_function\u001b[39m\u001b[39m'\u001b[39m \u001b[39min\u001b[39;00m params:\n\u001b[0;32m   <a href='file:///c%3A/Users/muzzo/.virtualenvs/DS-Labs-ai7-yjzp/lib/site-packages/catboost/core.py?line=4918'>4919</a>\u001b[0m     CatBoostClassifier\u001b[39m.\u001b[39m_check_is_compatible_loss(params[\u001b[39m'\u001b[39m\u001b[39mloss_function\u001b[39m\u001b[39m'\u001b[39m])\n\u001b[1;32m-> <a href='file:///c%3A/Users/muzzo/.virtualenvs/DS-Labs-ai7-yjzp/lib/site-packages/catboost/core.py?line=4920'>4921</a>\u001b[0m \u001b[39mself\u001b[39;49m\u001b[39m.\u001b[39;49m_fit(X, y, cat_features, text_features, embedding_features, \u001b[39mNone\u001b[39;49;00m, sample_weight, \u001b[39mNone\u001b[39;49;00m, \u001b[39mNone\u001b[39;49;00m, \u001b[39mNone\u001b[39;49;00m, \u001b[39mNone\u001b[39;49;00m, baseline, use_best_model,\n\u001b[0;32m   <a href='file:///c%3A/Users/muzzo/.virtualenvs/DS-Labs-ai7-yjzp/lib/site-packages/catboost/core.py?line=4921'>4922</a>\u001b[0m           eval_set, verbose, logging_level, plot, column_description, verbose_eval, metric_period,\n\u001b[0;32m   <a href='file:///c%3A/Users/muzzo/.virtualenvs/DS-Labs-ai7-yjzp/lib/site-packages/catboost/core.py?line=4922'>4923</a>\u001b[0m           silent, early_stopping_rounds, save_snapshot, snapshot_file, snapshot_interval, init_model, callbacks, log_cout, log_cerr)\n\u001b[0;32m   <a href='file:///c%3A/Users/muzzo/.virtualenvs/DS-Labs-ai7-yjzp/lib/site-packages/catboost/core.py?line=4923'>4924</a>\u001b[0m \u001b[39mreturn\u001b[39;00m \u001b[39mself\u001b[39m\n",
      "File \u001b[1;32mc:\\Users\\muzzo\\.virtualenvs\\DS-Labs-ai7-yjzp\\lib\\site-packages\\catboost\\core.py:2192\u001b[0m, in \u001b[0;36mCatBoost._fit\u001b[1;34m(self, X, y, cat_features, text_features, embedding_features, pairs, sample_weight, group_id, group_weight, subgroup_id, pairs_weight, baseline, use_best_model, eval_set, verbose, logging_level, plot, column_description, verbose_eval, metric_period, silent, early_stopping_rounds, save_snapshot, snapshot_file, snapshot_interval, init_model, callbacks, log_cout, log_cerr)\u001b[0m\n\u001b[0;32m   <a href='file:///c%3A/Users/muzzo/.virtualenvs/DS-Labs-ai7-yjzp/lib/site-packages/catboost/core.py?line=2187'>2188</a>\u001b[0m allow_clear_pool \u001b[39m=\u001b[39m train_params[\u001b[39m\"\u001b[39m\u001b[39mallow_clear_pool\u001b[39m\u001b[39m\"\u001b[39m]\n\u001b[0;32m   <a href='file:///c%3A/Users/muzzo/.virtualenvs/DS-Labs-ai7-yjzp/lib/site-packages/catboost/core.py?line=2189'>2190</a>\u001b[0m \u001b[39mwith\u001b[39;00m log_fixup(log_cout, log_cerr), \\\n\u001b[0;32m   <a href='file:///c%3A/Users/muzzo/.virtualenvs/DS-Labs-ai7-yjzp/lib/site-packages/catboost/core.py?line=2190'>2191</a>\u001b[0m     plot_wrapper(plot, [_get_train_dir(\u001b[39mself\u001b[39m\u001b[39m.\u001b[39mget_params())]):\n\u001b[1;32m-> <a href='file:///c%3A/Users/muzzo/.virtualenvs/DS-Labs-ai7-yjzp/lib/site-packages/catboost/core.py?line=2191'>2192</a>\u001b[0m     \u001b[39mself\u001b[39;49m\u001b[39m.\u001b[39;49m_train(\n\u001b[0;32m   <a href='file:///c%3A/Users/muzzo/.virtualenvs/DS-Labs-ai7-yjzp/lib/site-packages/catboost/core.py?line=2192'>2193</a>\u001b[0m         train_pool,\n\u001b[0;32m   <a href='file:///c%3A/Users/muzzo/.virtualenvs/DS-Labs-ai7-yjzp/lib/site-packages/catboost/core.py?line=2193'>2194</a>\u001b[0m         train_params[\u001b[39m\"\u001b[39;49m\u001b[39meval_sets\u001b[39;49m\u001b[39m\"\u001b[39;49m],\n\u001b[0;32m   <a href='file:///c%3A/Users/muzzo/.virtualenvs/DS-Labs-ai7-yjzp/lib/site-packages/catboost/core.py?line=2194'>2195</a>\u001b[0m         params,\n\u001b[0;32m   <a href='file:///c%3A/Users/muzzo/.virtualenvs/DS-Labs-ai7-yjzp/lib/site-packages/catboost/core.py?line=2195'>2196</a>\u001b[0m         allow_clear_pool,\n\u001b[0;32m   <a href='file:///c%3A/Users/muzzo/.virtualenvs/DS-Labs-ai7-yjzp/lib/site-packages/catboost/core.py?line=2196'>2197</a>\u001b[0m         train_params[\u001b[39m\"\u001b[39;49m\u001b[39minit_model\u001b[39;49m\u001b[39m\"\u001b[39;49m]\n\u001b[0;32m   <a href='file:///c%3A/Users/muzzo/.virtualenvs/DS-Labs-ai7-yjzp/lib/site-packages/catboost/core.py?line=2197'>2198</a>\u001b[0m     )\n\u001b[0;32m   <a href='file:///c%3A/Users/muzzo/.virtualenvs/DS-Labs-ai7-yjzp/lib/site-packages/catboost/core.py?line=2199'>2200</a>\u001b[0m \u001b[39m# Have property feature_importance possibly set\u001b[39;00m\n\u001b[0;32m   <a href='file:///c%3A/Users/muzzo/.virtualenvs/DS-Labs-ai7-yjzp/lib/site-packages/catboost/core.py?line=2200'>2201</a>\u001b[0m loss \u001b[39m=\u001b[39m \u001b[39mself\u001b[39m\u001b[39m.\u001b[39m_object\u001b[39m.\u001b[39m_get_loss_function_name()\n",
      "File \u001b[1;32mc:\\Users\\muzzo\\.virtualenvs\\DS-Labs-ai7-yjzp\\lib\\site-packages\\catboost\\core.py:1619\u001b[0m, in \u001b[0;36m_CatBoostBase._train\u001b[1;34m(self, train_pool, test_pool, params, allow_clear_pool, init_model)\u001b[0m\n\u001b[0;32m   <a href='file:///c%3A/Users/muzzo/.virtualenvs/DS-Labs-ai7-yjzp/lib/site-packages/catboost/core.py?line=1617'>1618</a>\u001b[0m \u001b[39mdef\u001b[39;00m \u001b[39m_train\u001b[39m(\u001b[39mself\u001b[39m, train_pool, test_pool, params, allow_clear_pool, init_model):\n\u001b[1;32m-> <a href='file:///c%3A/Users/muzzo/.virtualenvs/DS-Labs-ai7-yjzp/lib/site-packages/catboost/core.py?line=1618'>1619</a>\u001b[0m     \u001b[39mself\u001b[39;49m\u001b[39m.\u001b[39;49m_object\u001b[39m.\u001b[39;49m_train(train_pool, test_pool, params, allow_clear_pool, init_model\u001b[39m.\u001b[39;49m_object \u001b[39mif\u001b[39;49;00m init_model \u001b[39melse\u001b[39;49;00m \u001b[39mNone\u001b[39;49;00m)\n\u001b[0;32m   <a href='file:///c%3A/Users/muzzo/.virtualenvs/DS-Labs-ai7-yjzp/lib/site-packages/catboost/core.py?line=1619'>1620</a>\u001b[0m     \u001b[39mself\u001b[39m\u001b[39m.\u001b[39m_set_trained_model_attributes()\n",
      "File \u001b[1;32m_catboost.pyx:4408\u001b[0m, in \u001b[0;36m_catboost._CatBoost._train\u001b[1;34m()\u001b[0m\n",
      "File \u001b[1;32m_catboost.pyx:4457\u001b[0m, in \u001b[0;36m_catboost._CatBoost._train\u001b[1;34m()\u001b[0m\n",
      "\u001b[1;31mKeyboardInterrupt\u001b[0m: "
     ]
    }
   ],
   "source": [
    "cat = CatBoostClassifier(eval_metric=\"AUC\")\n",
    "cat.fit(Xtrain, Ytrain, eval_set=(Xtest, Ytest), verbose=False)"
   ]
  },
  {
   "cell_type": "code",
   "execution_count": 27,
   "metadata": {},
   "outputs": [
    {
     "name": "stdout",
     "output_type": "stream",
     "text": [
      "Model is fitted: True\n",
      "Model params: {'iterations': 100, 'learning_rate': 0.15, 'random_seed': 63, 'custom_loss': ['AUC', 'Accuracy']}\n",
      "Best iteration: 99\n",
      "Best score: {'learn': {'Accuracy': 0.7051531228659977, 'MultiClass': 0.826761694309309}, 'validation': {'Accuracy': 0.6832900023635075, 'AUC:type=Mu': 0.9739030307057599, 'MultiClass': 0.8942949236761298}}\n"
     ]
    }
   ],
   "source": [
    "print(f\"Model is fitted: {model.is_fitted()}\")\n",
    "print(f\"Model params: {model.get_params()}\")\n",
    "print(f\"Best iteration: {model.get_best_iteration()}\")\n",
    "print(f\"Best score: {model.best_score_}\")"
   ]
  },
  {
   "cell_type": "code",
   "execution_count": 28,
   "metadata": {},
   "outputs": [],
   "source": [
    "pred = model.predict(Xtest_spotify)"
   ]
  },
  {
   "cell_type": "code",
   "execution_count": 29,
   "metadata": {},
   "outputs": [
    {
     "name": "stdout",
     "output_type": "stream",
     "text": [
      "Accuracy: 0.6828173008744978\n",
      "Precision: 0.6890007111815011\n",
      "Recall: 0.6828173008744978\n"
     ]
    }
   ],
   "source": [
    "print(f\"Accuracy: {accuracy_score(Ytest_spotify, pred)}\")\n",
    "print(f\"Precision: {precision_score(Ytest_spotify, pred, average='weighted')}\")\n",
    "print(f\"Recall: {recall_score(Ytest_spotify, pred, average='weighted')}\")"
   ]
  },
  {
   "cell_type": "code",
   "execution_count": 30,
   "metadata": {},
   "outputs": [
    {
     "ename": "ValueError",
     "evalue": "Expected 'estimator' to be a binary classifier, but got CatBoostClassifier fit on multiclass (15 classes) data",
     "output_type": "error",
     "traceback": [
      "\u001b[1;31m---------------------------------------------------------------------------\u001b[0m",
      "\u001b[1;31mValueError\u001b[0m                                Traceback (most recent call last)",
      "\u001b[1;32mc:\\Users\\muzzo\\OneDrive\\Рабочий стол\\2 семестр\\DS\\DS-Labs\\LAB5.ipynb Cell 16'\u001b[0m in \u001b[0;36m<cell line: 1>\u001b[1;34m()\u001b[0m\n\u001b[1;32m----> <a href='vscode-notebook-cell:/c%3A/Users/muzzo/OneDrive/%D0%A0%D0%B0%D0%B1%D0%BE%D1%87%D0%B8%D0%B9%20%D1%81%D1%82%D0%BE%D0%BB/2%20%D1%81%D0%B5%D0%BC%D0%B5%D1%81%D1%82%D1%80/DS/DS-Labs/LAB5.ipynb#ch0000016?line=0'>1</a>\u001b[0m plot_roc_curve(model, Xtest_spotify, Ytest_spotify)\n",
      "File \u001b[1;32mc:\\Users\\muzzo\\.virtualenvs\\DS-Labs-ai7-yjzp\\lib\\site-packages\\sklearn\\utils\\deprecation.py:88\u001b[0m, in \u001b[0;36mdeprecated._decorate_fun.<locals>.wrapped\u001b[1;34m(*args, **kwargs)\u001b[0m\n\u001b[0;32m     <a href='file:///c%3A/Users/muzzo/.virtualenvs/DS-Labs-ai7-yjzp/lib/site-packages/sklearn/utils/deprecation.py?line=84'>85</a>\u001b[0m \u001b[39m@functools\u001b[39m\u001b[39m.\u001b[39mwraps(fun)\n\u001b[0;32m     <a href='file:///c%3A/Users/muzzo/.virtualenvs/DS-Labs-ai7-yjzp/lib/site-packages/sklearn/utils/deprecation.py?line=85'>86</a>\u001b[0m \u001b[39mdef\u001b[39;00m \u001b[39mwrapped\u001b[39m(\u001b[39m*\u001b[39margs, \u001b[39m*\u001b[39m\u001b[39m*\u001b[39mkwargs):\n\u001b[0;32m     <a href='file:///c%3A/Users/muzzo/.virtualenvs/DS-Labs-ai7-yjzp/lib/site-packages/sklearn/utils/deprecation.py?line=86'>87</a>\u001b[0m     warnings\u001b[39m.\u001b[39mwarn(msg, category\u001b[39m=\u001b[39m\u001b[39mFutureWarning\u001b[39;00m)\n\u001b[1;32m---> <a href='file:///c%3A/Users/muzzo/.virtualenvs/DS-Labs-ai7-yjzp/lib/site-packages/sklearn/utils/deprecation.py?line=87'>88</a>\u001b[0m     \u001b[39mreturn\u001b[39;00m fun(\u001b[39m*\u001b[39margs, \u001b[39m*\u001b[39m\u001b[39m*\u001b[39mkwargs)\n",
      "File \u001b[1;32mc:\\Users\\muzzo\\.virtualenvs\\DS-Labs-ai7-yjzp\\lib\\site-packages\\sklearn\\metrics\\_plot\\roc_curve.py:451\u001b[0m, in \u001b[0;36mplot_roc_curve\u001b[1;34m(estimator, X, y, sample_weight, drop_intermediate, response_method, name, ax, pos_label, **kwargs)\u001b[0m\n\u001b[0;32m    <a href='file:///c%3A/Users/muzzo/.virtualenvs/DS-Labs-ai7-yjzp/lib/site-packages/sklearn/metrics/_plot/roc_curve.py?line=370'>371</a>\u001b[0m \u001b[39m\"\"\"Plot Receiver operating characteristic (ROC) curve.\u001b[39;00m\n\u001b[0;32m    <a href='file:///c%3A/Users/muzzo/.virtualenvs/DS-Labs-ai7-yjzp/lib/site-packages/sklearn/metrics/_plot/roc_curve.py?line=371'>372</a>\u001b[0m \n\u001b[0;32m    <a href='file:///c%3A/Users/muzzo/.virtualenvs/DS-Labs-ai7-yjzp/lib/site-packages/sklearn/metrics/_plot/roc_curve.py?line=372'>373</a>\u001b[0m \u001b[39mExtra keyword arguments will be passed to matplotlib's `plot`.\u001b[39;00m\n\u001b[1;32m   (...)\u001b[0m\n\u001b[0;32m    <a href='file:///c%3A/Users/muzzo/.virtualenvs/DS-Labs-ai7-yjzp/lib/site-packages/sklearn/metrics/_plot/roc_curve.py?line=446'>447</a>\u001b[0m \u001b[39m>>> plt.show()\u001b[39;00m\n\u001b[0;32m    <a href='file:///c%3A/Users/muzzo/.virtualenvs/DS-Labs-ai7-yjzp/lib/site-packages/sklearn/metrics/_plot/roc_curve.py?line=447'>448</a>\u001b[0m \u001b[39m\"\"\"\u001b[39;00m\n\u001b[0;32m    <a href='file:///c%3A/Users/muzzo/.virtualenvs/DS-Labs-ai7-yjzp/lib/site-packages/sklearn/metrics/_plot/roc_curve.py?line=448'>449</a>\u001b[0m check_matplotlib_support(\u001b[39m\"\u001b[39m\u001b[39mplot_roc_curve\u001b[39m\u001b[39m\"\u001b[39m)\n\u001b[1;32m--> <a href='file:///c%3A/Users/muzzo/.virtualenvs/DS-Labs-ai7-yjzp/lib/site-packages/sklearn/metrics/_plot/roc_curve.py?line=450'>451</a>\u001b[0m y_pred, pos_label \u001b[39m=\u001b[39m _get_response(\n\u001b[0;32m    <a href='file:///c%3A/Users/muzzo/.virtualenvs/DS-Labs-ai7-yjzp/lib/site-packages/sklearn/metrics/_plot/roc_curve.py?line=451'>452</a>\u001b[0m     X, estimator, response_method, pos_label\u001b[39m=\u001b[39;49mpos_label\n\u001b[0;32m    <a href='file:///c%3A/Users/muzzo/.virtualenvs/DS-Labs-ai7-yjzp/lib/site-packages/sklearn/metrics/_plot/roc_curve.py?line=452'>453</a>\u001b[0m )\n\u001b[0;32m    <a href='file:///c%3A/Users/muzzo/.virtualenvs/DS-Labs-ai7-yjzp/lib/site-packages/sklearn/metrics/_plot/roc_curve.py?line=454'>455</a>\u001b[0m fpr, tpr, _ \u001b[39m=\u001b[39m roc_curve(\n\u001b[0;32m    <a href='file:///c%3A/Users/muzzo/.virtualenvs/DS-Labs-ai7-yjzp/lib/site-packages/sklearn/metrics/_plot/roc_curve.py?line=455'>456</a>\u001b[0m     y,\n\u001b[0;32m    <a href='file:///c%3A/Users/muzzo/.virtualenvs/DS-Labs-ai7-yjzp/lib/site-packages/sklearn/metrics/_plot/roc_curve.py?line=456'>457</a>\u001b[0m     y_pred,\n\u001b[1;32m   (...)\u001b[0m\n\u001b[0;32m    <a href='file:///c%3A/Users/muzzo/.virtualenvs/DS-Labs-ai7-yjzp/lib/site-packages/sklearn/metrics/_plot/roc_curve.py?line=459'>460</a>\u001b[0m     drop_intermediate\u001b[39m=\u001b[39mdrop_intermediate,\n\u001b[0;32m    <a href='file:///c%3A/Users/muzzo/.virtualenvs/DS-Labs-ai7-yjzp/lib/site-packages/sklearn/metrics/_plot/roc_curve.py?line=460'>461</a>\u001b[0m )\n\u001b[0;32m    <a href='file:///c%3A/Users/muzzo/.virtualenvs/DS-Labs-ai7-yjzp/lib/site-packages/sklearn/metrics/_plot/roc_curve.py?line=461'>462</a>\u001b[0m roc_auc \u001b[39m=\u001b[39m auc(fpr, tpr)\n",
      "File \u001b[1;32mc:\\Users\\muzzo\\.virtualenvs\\DS-Labs-ai7-yjzp\\lib\\site-packages\\sklearn\\metrics\\_plot\\base.py:108\u001b[0m, in \u001b[0;36m_get_response\u001b[1;34m(X, estimator, response_method, pos_label)\u001b[0m\n\u001b[0;32m    <a href='file:///c%3A/Users/muzzo/.virtualenvs/DS-Labs-ai7-yjzp/lib/site-packages/sklearn/metrics/_plot/base.py?line=105'>106</a>\u001b[0m     y_pred_shape \u001b[39m=\u001b[39m y_pred\u001b[39m.\u001b[39mshape[\u001b[39m1\u001b[39m]\n\u001b[0;32m    <a href='file:///c%3A/Users/muzzo/.virtualenvs/DS-Labs-ai7-yjzp/lib/site-packages/sklearn/metrics/_plot/base.py?line=106'>107</a>\u001b[0m     \u001b[39mif\u001b[39;00m y_pred_shape \u001b[39m!=\u001b[39m \u001b[39m2\u001b[39m:\n\u001b[1;32m--> <a href='file:///c%3A/Users/muzzo/.virtualenvs/DS-Labs-ai7-yjzp/lib/site-packages/sklearn/metrics/_plot/base.py?line=107'>108</a>\u001b[0m         \u001b[39mraise\u001b[39;00m \u001b[39mValueError\u001b[39;00m(\n\u001b[0;32m    <a href='file:///c%3A/Users/muzzo/.virtualenvs/DS-Labs-ai7-yjzp/lib/site-packages/sklearn/metrics/_plot/base.py?line=108'>109</a>\u001b[0m             \u001b[39mf\u001b[39m\u001b[39m\"\u001b[39m\u001b[39m{\u001b[39;00mclassification_error\u001b[39m}\u001b[39;00m\u001b[39m fit on multiclass (\u001b[39m\u001b[39m{\u001b[39;00my_pred_shape\u001b[39m}\u001b[39;00m\u001b[39m classes)\u001b[39m\u001b[39m\"\u001b[39m\n\u001b[0;32m    <a href='file:///c%3A/Users/muzzo/.virtualenvs/DS-Labs-ai7-yjzp/lib/site-packages/sklearn/metrics/_plot/base.py?line=109'>110</a>\u001b[0m             \u001b[39m\"\u001b[39m\u001b[39m data\u001b[39m\u001b[39m\"\u001b[39m\n\u001b[0;32m    <a href='file:///c%3A/Users/muzzo/.virtualenvs/DS-Labs-ai7-yjzp/lib/site-packages/sklearn/metrics/_plot/base.py?line=110'>111</a>\u001b[0m         )\n\u001b[0;32m    <a href='file:///c%3A/Users/muzzo/.virtualenvs/DS-Labs-ai7-yjzp/lib/site-packages/sklearn/metrics/_plot/base.py?line=111'>112</a>\u001b[0m     y_pred \u001b[39m=\u001b[39m y_pred[:, class_idx]\n\u001b[0;32m    <a href='file:///c%3A/Users/muzzo/.virtualenvs/DS-Labs-ai7-yjzp/lib/site-packages/sklearn/metrics/_plot/base.py?line=112'>113</a>\u001b[0m \u001b[39melif\u001b[39;00m pos_label \u001b[39m==\u001b[39m estimator\u001b[39m.\u001b[39mclasses_[\u001b[39m0\u001b[39m]:  \u001b[39m# `decision_function`\u001b[39;00m\n",
      "\u001b[1;31mValueError\u001b[0m: Expected 'estimator' to be a binary classifier, but got CatBoostClassifier fit on multiclass (15 classes) data"
     ]
    }
   ],
   "source": [
    "plot_roc_curve(model, Xtest_spotify, Ytest_spotify)"
   ]
  },
  {
   "cell_type": "markdown",
   "metadata": {},
   "source": [
    "### 2. Применить регрессию `CatBoostRegressor` к набору данных для регрессии.\n",
    "Вывести номер итерации и значения метрик (**MAE** и **MSE**) для наилучшей итерации. Обратите внимание, что в задаче восстановления регрессии целевая переменная имеет непрерывные значения."
   ]
  }
 ],
 "metadata": {
  "interpreter": {
   "hash": "f9d3f6d31f61b0226408d6026db74fa7a1cbb8ae8226cd71459d0ebf3211ea97"
  },
  "kernelspec": {
   "display_name": "Python 3.10.4 ('DS-Labs-ai7-yjzp')",
   "language": "python",
   "name": "python3"
  },
  "language_info": {
   "codemirror_mode": {
    "name": "ipython",
    "version": 3
   },
   "file_extension": ".py",
   "mimetype": "text/x-python",
   "name": "python",
   "nbconvert_exporter": "python",
   "pygments_lexer": "ipython3",
   "version": "3.10.4"
  },
  "orig_nbformat": 4
 },
 "nbformat": 4,
 "nbformat_minor": 2
}
