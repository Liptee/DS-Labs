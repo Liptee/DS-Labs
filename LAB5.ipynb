{
 "cells": [
  {
   "cell_type": "markdown",
   "metadata": {},
   "source": [
    "# Лабараторная работа №5\n",
    "## Градиентный бустинг с CatBoost\n",
    "**Выполнил**: 6131-010402D, Музыка Артем"
   ]
  },
  {
   "cell_type": "markdown",
   "metadata": {},
   "source": [
    "### Импорт данных"
   ]
  },
  {
   "cell_type": "code",
   "execution_count": 36,
   "metadata": {},
   "outputs": [],
   "source": [
    "import pandas as pd\n",
    "import numpy as np\n",
    "from catboost import CatBoostRegressor \n",
    "from catboost import CatBoostClassifier\n",
    "\n",
    "from sklearn.model_selection import train_test_split\n",
    "from sklearn.metrics import accuracy_score\n",
    "from sklearn.metrics import PrecisionRecallDisplay\n",
    "from sklearn.metrics import mean_absolute_error\n",
    "from sklearn.metrics import mean_squared_error\n",
    "from sklearn.metrics import plot_precision_recall_curve\n",
    "from sklearn.metrics import plot_roc_curve\n",
    "from sklearn.metrics import roc_auc_score\n",
    "from sklearn.metrics import recall_score\n",
    "from sklearn.metrics import precision_score\n",
    "from sklearn.utils import shuffle\n",
    "from warnings import filterwarnings\n",
    "filterwarnings(\"ignore\")"
   ]
  },
  {
   "cell_type": "code",
   "execution_count": 22,
   "metadata": {},
   "outputs": [
    {
     "data": {
      "text/html": [
       "<div>\n",
       "<style scoped>\n",
       "    .dataframe tbody tr th:only-of-type {\n",
       "        vertical-align: middle;\n",
       "    }\n",
       "\n",
       "    .dataframe tbody tr th {\n",
       "        vertical-align: top;\n",
       "    }\n",
       "\n",
       "    .dataframe thead th {\n",
       "        text-align: right;\n",
       "    }\n",
       "</style>\n",
       "<table border=\"1\" class=\"dataframe\">\n",
       "  <thead>\n",
       "    <tr style=\"text-align: right;\">\n",
       "      <th></th>\n",
       "      <th>AnalysisDate</th>\n",
       "      <th>Date Of Death Year</th>\n",
       "      <th>Date Of Death Month</th>\n",
       "      <th>Start Date</th>\n",
       "      <th>End Date</th>\n",
       "      <th>Jurisdiction of Occurrence</th>\n",
       "      <th>Sex</th>\n",
       "      <th>Race/Ethnicity</th>\n",
       "      <th>AgeGroup</th>\n",
       "      <th>AllCause</th>\n",
       "      <th>...</th>\n",
       "      <th>Alzheimer disease (G30)</th>\n",
       "      <th>Influenza and pneumonia (J09-J18)</th>\n",
       "      <th>Chronic lower respiratory diseases (J40-J47)</th>\n",
       "      <th>Other diseases of respiratory system (J00-J06,J30-J39,J67,J70-J98)</th>\n",
       "      <th>Nephritis, nephrotic syndrome and nephrosis (N00-N07,N17-N19,N25-N27)</th>\n",
       "      <th>Symptoms, signs and abnormal clinical and laboratory findings, not elsewhere classified (R00-R99)</th>\n",
       "      <th>Diseases of heart (I00-I09,I11,I13,I20-I51)</th>\n",
       "      <th>Cerebrovascular diseases (I60-I69)</th>\n",
       "      <th>COVID-19 (U071, Multiple Cause of Death)</th>\n",
       "      <th>COVID-19 (U071, Underlying Cause of Death)</th>\n",
       "    </tr>\n",
       "  </thead>\n",
       "  <tbody>\n",
       "    <tr>\n",
       "      <th>0</th>\n",
       "      <td>10/13/2021</td>\n",
       "      <td>2019</td>\n",
       "      <td>1</td>\n",
       "      <td>01/01/2019</td>\n",
       "      <td>01/31/2019</td>\n",
       "      <td>United States</td>\n",
       "      <td>F</td>\n",
       "      <td>Hispanic</td>\n",
       "      <td>0-4 years</td>\n",
       "      <td>182</td>\n",
       "      <td>...</td>\n",
       "      <td>0</td>\n",
       "      <td>4</td>\n",
       "      <td>0</td>\n",
       "      <td>1</td>\n",
       "      <td>0</td>\n",
       "      <td>22</td>\n",
       "      <td>1</td>\n",
       "      <td>0</td>\n",
       "      <td>0</td>\n",
       "      <td>0</td>\n",
       "    </tr>\n",
       "    <tr>\n",
       "      <th>1</th>\n",
       "      <td>10/13/2021</td>\n",
       "      <td>2019</td>\n",
       "      <td>1</td>\n",
       "      <td>01/01/2019</td>\n",
       "      <td>01/31/2019</td>\n",
       "      <td>United States</td>\n",
       "      <td>F</td>\n",
       "      <td>Hispanic</td>\n",
       "      <td>5-14 years</td>\n",
       "      <td>44</td>\n",
       "      <td>...</td>\n",
       "      <td>0</td>\n",
       "      <td>4</td>\n",
       "      <td>1</td>\n",
       "      <td>0</td>\n",
       "      <td>0</td>\n",
       "      <td>0</td>\n",
       "      <td>0</td>\n",
       "      <td>0</td>\n",
       "      <td>0</td>\n",
       "      <td>0</td>\n",
       "    </tr>\n",
       "    <tr>\n",
       "      <th>2</th>\n",
       "      <td>10/13/2021</td>\n",
       "      <td>2019</td>\n",
       "      <td>1</td>\n",
       "      <td>01/01/2019</td>\n",
       "      <td>01/31/2019</td>\n",
       "      <td>United States</td>\n",
       "      <td>F</td>\n",
       "      <td>Hispanic</td>\n",
       "      <td>15-24 years</td>\n",
       "      <td>122</td>\n",
       "      <td>...</td>\n",
       "      <td>0</td>\n",
       "      <td>0</td>\n",
       "      <td>2</td>\n",
       "      <td>1</td>\n",
       "      <td>2</td>\n",
       "      <td>4</td>\n",
       "      <td>6</td>\n",
       "      <td>1</td>\n",
       "      <td>0</td>\n",
       "      <td>0</td>\n",
       "    </tr>\n",
       "    <tr>\n",
       "      <th>3</th>\n",
       "      <td>10/13/2021</td>\n",
       "      <td>2019</td>\n",
       "      <td>1</td>\n",
       "      <td>01/01/2019</td>\n",
       "      <td>01/31/2019</td>\n",
       "      <td>United States</td>\n",
       "      <td>F</td>\n",
       "      <td>Hispanic</td>\n",
       "      <td>25-34 years</td>\n",
       "      <td>198</td>\n",
       "      <td>...</td>\n",
       "      <td>0</td>\n",
       "      <td>5</td>\n",
       "      <td>2</td>\n",
       "      <td>3</td>\n",
       "      <td>0</td>\n",
       "      <td>2</td>\n",
       "      <td>8</td>\n",
       "      <td>2</td>\n",
       "      <td>0</td>\n",
       "      <td>0</td>\n",
       "    </tr>\n",
       "    <tr>\n",
       "      <th>4</th>\n",
       "      <td>10/13/2021</td>\n",
       "      <td>2019</td>\n",
       "      <td>1</td>\n",
       "      <td>01/01/2019</td>\n",
       "      <td>01/31/2019</td>\n",
       "      <td>United States</td>\n",
       "      <td>F</td>\n",
       "      <td>Hispanic</td>\n",
       "      <td>35-44 years</td>\n",
       "      <td>334</td>\n",
       "      <td>...</td>\n",
       "      <td>0</td>\n",
       "      <td>11</td>\n",
       "      <td>6</td>\n",
       "      <td>4</td>\n",
       "      <td>4</td>\n",
       "      <td>5</td>\n",
       "      <td>25</td>\n",
       "      <td>10</td>\n",
       "      <td>0</td>\n",
       "      <td>0</td>\n",
       "    </tr>\n",
       "    <tr>\n",
       "      <th>...</th>\n",
       "      <td>...</td>\n",
       "      <td>...</td>\n",
       "      <td>...</td>\n",
       "      <td>...</td>\n",
       "      <td>...</td>\n",
       "      <td>...</td>\n",
       "      <td>...</td>\n",
       "      <td>...</td>\n",
       "      <td>...</td>\n",
       "      <td>...</td>\n",
       "      <td>...</td>\n",
       "      <td>...</td>\n",
       "      <td>...</td>\n",
       "      <td>...</td>\n",
       "      <td>...</td>\n",
       "      <td>...</td>\n",
       "      <td>...</td>\n",
       "      <td>...</td>\n",
       "      <td>...</td>\n",
       "      <td>...</td>\n",
       "      <td>...</td>\n",
       "    </tr>\n",
       "    <tr>\n",
       "      <th>3955</th>\n",
       "      <td>10/13/2021</td>\n",
       "      <td>2021</td>\n",
       "      <td>9</td>\n",
       "      <td>09/01/2021</td>\n",
       "      <td>09/30/2021</td>\n",
       "      <td>United States</td>\n",
       "      <td>Male</td>\n",
       "      <td>Other</td>\n",
       "      <td>45-54 years</td>\n",
       "      <td>179</td>\n",
       "      <td>...</td>\n",
       "      <td>1</td>\n",
       "      <td>1</td>\n",
       "      <td>0</td>\n",
       "      <td>0</td>\n",
       "      <td>2</td>\n",
       "      <td>34</td>\n",
       "      <td>18</td>\n",
       "      <td>2</td>\n",
       "      <td>70</td>\n",
       "      <td>68</td>\n",
       "    </tr>\n",
       "    <tr>\n",
       "      <th>3956</th>\n",
       "      <td>10/13/2021</td>\n",
       "      <td>2021</td>\n",
       "      <td>9</td>\n",
       "      <td>09/01/2021</td>\n",
       "      <td>09/30/2021</td>\n",
       "      <td>United States</td>\n",
       "      <td>Male</td>\n",
       "      <td>Other</td>\n",
       "      <td>55-64 years</td>\n",
       "      <td>237</td>\n",
       "      <td>...</td>\n",
       "      <td>0</td>\n",
       "      <td>3</td>\n",
       "      <td>8</td>\n",
       "      <td>3</td>\n",
       "      <td>2</td>\n",
       "      <td>36</td>\n",
       "      <td>40</td>\n",
       "      <td>8</td>\n",
       "      <td>55</td>\n",
       "      <td>55</td>\n",
       "    </tr>\n",
       "    <tr>\n",
       "      <th>3957</th>\n",
       "      <td>10/13/2021</td>\n",
       "      <td>2021</td>\n",
       "      <td>9</td>\n",
       "      <td>09/01/2021</td>\n",
       "      <td>09/30/2021</td>\n",
       "      <td>United States</td>\n",
       "      <td>Male</td>\n",
       "      <td>Other</td>\n",
       "      <td>65-74 years</td>\n",
       "      <td>263</td>\n",
       "      <td>...</td>\n",
       "      <td>3</td>\n",
       "      <td>4</td>\n",
       "      <td>8</td>\n",
       "      <td>3</td>\n",
       "      <td>4</td>\n",
       "      <td>25</td>\n",
       "      <td>60</td>\n",
       "      <td>7</td>\n",
       "      <td>55</td>\n",
       "      <td>49</td>\n",
       "    </tr>\n",
       "    <tr>\n",
       "      <th>3958</th>\n",
       "      <td>10/13/2021</td>\n",
       "      <td>2021</td>\n",
       "      <td>9</td>\n",
       "      <td>09/01/2021</td>\n",
       "      <td>09/30/2021</td>\n",
       "      <td>United States</td>\n",
       "      <td>Male</td>\n",
       "      <td>Other</td>\n",
       "      <td>75-84 years</td>\n",
       "      <td>203</td>\n",
       "      <td>...</td>\n",
       "      <td>5</td>\n",
       "      <td>2</td>\n",
       "      <td>6</td>\n",
       "      <td>4</td>\n",
       "      <td>4</td>\n",
       "      <td>17</td>\n",
       "      <td>37</td>\n",
       "      <td>8</td>\n",
       "      <td>36</td>\n",
       "      <td>34</td>\n",
       "    </tr>\n",
       "    <tr>\n",
       "      <th>3959</th>\n",
       "      <td>10/13/2021</td>\n",
       "      <td>2021</td>\n",
       "      <td>9</td>\n",
       "      <td>09/01/2021</td>\n",
       "      <td>09/30/2021</td>\n",
       "      <td>United States</td>\n",
       "      <td>Male</td>\n",
       "      <td>Other</td>\n",
       "      <td>85 years and over</td>\n",
       "      <td>116</td>\n",
       "      <td>...</td>\n",
       "      <td>7</td>\n",
       "      <td>1</td>\n",
       "      <td>9</td>\n",
       "      <td>2</td>\n",
       "      <td>1</td>\n",
       "      <td>1</td>\n",
       "      <td>23</td>\n",
       "      <td>7</td>\n",
       "      <td>18</td>\n",
       "      <td>18</td>\n",
       "    </tr>\n",
       "  </tbody>\n",
       "</table>\n",
       "<p>3960 rows × 24 columns</p>\n",
       "</div>"
      ],
      "text/plain": [
       "     AnalysisDate  Date Of Death Year  Date Of Death Month  Start Date  \\\n",
       "0      10/13/2021                2019                    1  01/01/2019   \n",
       "1      10/13/2021                2019                    1  01/01/2019   \n",
       "2      10/13/2021                2019                    1  01/01/2019   \n",
       "3      10/13/2021                2019                    1  01/01/2019   \n",
       "4      10/13/2021                2019                    1  01/01/2019   \n",
       "...           ...                 ...                  ...         ...   \n",
       "3955   10/13/2021                2021                    9  09/01/2021   \n",
       "3956   10/13/2021                2021                    9  09/01/2021   \n",
       "3957   10/13/2021                2021                    9  09/01/2021   \n",
       "3958   10/13/2021                2021                    9  09/01/2021   \n",
       "3959   10/13/2021                2021                    9  09/01/2021   \n",
       "\n",
       "        End Date Jurisdiction of Occurrence   Sex Race/Ethnicity  \\\n",
       "0     01/31/2019              United States     F       Hispanic   \n",
       "1     01/31/2019              United States     F       Hispanic   \n",
       "2     01/31/2019              United States     F       Hispanic   \n",
       "3     01/31/2019              United States     F       Hispanic   \n",
       "4     01/31/2019              United States     F       Hispanic   \n",
       "...          ...                        ...   ...            ...   \n",
       "3955  09/30/2021              United States  Male          Other   \n",
       "3956  09/30/2021              United States  Male          Other   \n",
       "3957  09/30/2021              United States  Male          Other   \n",
       "3958  09/30/2021              United States  Male          Other   \n",
       "3959  09/30/2021              United States  Male          Other   \n",
       "\n",
       "               AgeGroup  AllCause  ...  Alzheimer disease (G30)  \\\n",
       "0             0-4 years       182  ...                        0   \n",
       "1            5-14 years        44  ...                        0   \n",
       "2           15-24 years       122  ...                        0   \n",
       "3           25-34 years       198  ...                        0   \n",
       "4           35-44 years       334  ...                        0   \n",
       "...                 ...       ...  ...                      ...   \n",
       "3955        45-54 years       179  ...                        1   \n",
       "3956        55-64 years       237  ...                        0   \n",
       "3957        65-74 years       263  ...                        3   \n",
       "3958        75-84 years       203  ...                        5   \n",
       "3959  85 years and over       116  ...                        7   \n",
       "\n",
       "      Influenza and pneumonia (J09-J18)  \\\n",
       "0                                     4   \n",
       "1                                     4   \n",
       "2                                     0   \n",
       "3                                     5   \n",
       "4                                    11   \n",
       "...                                 ...   \n",
       "3955                                  1   \n",
       "3956                                  3   \n",
       "3957                                  4   \n",
       "3958                                  2   \n",
       "3959                                  1   \n",
       "\n",
       "      Chronic lower respiratory diseases (J40-J47)  \\\n",
       "0                                                0   \n",
       "1                                                1   \n",
       "2                                                2   \n",
       "3                                                2   \n",
       "4                                                6   \n",
       "...                                            ...   \n",
       "3955                                             0   \n",
       "3956                                             8   \n",
       "3957                                             8   \n",
       "3958                                             6   \n",
       "3959                                             9   \n",
       "\n",
       "      Other diseases of respiratory system (J00-J06,J30-J39,J67,J70-J98)  \\\n",
       "0                                                     1                    \n",
       "1                                                     0                    \n",
       "2                                                     1                    \n",
       "3                                                     3                    \n",
       "4                                                     4                    \n",
       "...                                                 ...                    \n",
       "3955                                                  0                    \n",
       "3956                                                  3                    \n",
       "3957                                                  3                    \n",
       "3958                                                  4                    \n",
       "3959                                                  2                    \n",
       "\n",
       "      Nephritis, nephrotic syndrome and nephrosis (N00-N07,N17-N19,N25-N27)  \\\n",
       "0                                                     0                       \n",
       "1                                                     0                       \n",
       "2                                                     2                       \n",
       "3                                                     0                       \n",
       "4                                                     4                       \n",
       "...                                                 ...                       \n",
       "3955                                                  2                       \n",
       "3956                                                  2                       \n",
       "3957                                                  4                       \n",
       "3958                                                  4                       \n",
       "3959                                                  1                       \n",
       "\n",
       "      Symptoms, signs and abnormal clinical and laboratory findings, not elsewhere classified (R00-R99)  \\\n",
       "0                                                    22                                                   \n",
       "1                                                     0                                                   \n",
       "2                                                     4                                                   \n",
       "3                                                     2                                                   \n",
       "4                                                     5                                                   \n",
       "...                                                 ...                                                   \n",
       "3955                                                 34                                                   \n",
       "3956                                                 36                                                   \n",
       "3957                                                 25                                                   \n",
       "3958                                                 17                                                   \n",
       "3959                                                  1                                                   \n",
       "\n",
       "      Diseases of heart (I00-I09,I11,I13,I20-I51)  \\\n",
       "0                                               1   \n",
       "1                                               0   \n",
       "2                                               6   \n",
       "3                                               8   \n",
       "4                                              25   \n",
       "...                                           ...   \n",
       "3955                                           18   \n",
       "3956                                           40   \n",
       "3957                                           60   \n",
       "3958                                           37   \n",
       "3959                                           23   \n",
       "\n",
       "      Cerebrovascular diseases (I60-I69)  \\\n",
       "0                                      0   \n",
       "1                                      0   \n",
       "2                                      1   \n",
       "3                                      2   \n",
       "4                                     10   \n",
       "...                                  ...   \n",
       "3955                                   2   \n",
       "3956                                   8   \n",
       "3957                                   7   \n",
       "3958                                   8   \n",
       "3959                                   7   \n",
       "\n",
       "      COVID-19 (U071, Multiple Cause of Death)  \\\n",
       "0                                            0   \n",
       "1                                            0   \n",
       "2                                            0   \n",
       "3                                            0   \n",
       "4                                            0   \n",
       "...                                        ...   \n",
       "3955                                        70   \n",
       "3956                                        55   \n",
       "3957                                        55   \n",
       "3958                                        36   \n",
       "3959                                        18   \n",
       "\n",
       "      COVID-19 (U071, Underlying Cause of Death)  \n",
       "0                                              0  \n",
       "1                                              0  \n",
       "2                                              0  \n",
       "3                                              0  \n",
       "4                                              0  \n",
       "...                                          ...  \n",
       "3955                                          68  \n",
       "3956                                          55  \n",
       "3957                                          49  \n",
       "3958                                          34  \n",
       "3959                                          18  \n",
       "\n",
       "[3960 rows x 24 columns]"
      ]
     },
     "execution_count": 22,
     "metadata": {},
     "output_type": "execute_result"
    }
   ],
   "source": [
    "df = pd.read_csv('data\\deaths.csv')\n",
    "df"
   ]
  },
  {
   "cell_type": "markdown",
   "metadata": {},
   "source": [
    "### Обработка данных"
   ]
  },
  {
   "cell_type": "markdown",
   "metadata": {},
   "source": [
    "Удаление ненужных колонок"
   ]
  },
  {
   "cell_type": "code",
   "execution_count": 23,
   "metadata": {},
   "outputs": [],
   "source": [
    "L_del = ['AnalysisDate', 'Start Date', 'End Date']\n",
    "try:\n",
    "    for i in L_del:\n",
    "        df.pop(i)\n",
    "except:\n",
    "    pass"
   ]
  },
  {
   "cell_type": "code",
   "execution_count": 25,
   "metadata": {},
   "outputs": [],
   "source": [
    "def sex_replce(S):\n",
    "    if S == 'Female':\n",
    "        S = S.replace('emale','')\n",
    "    if S == \"Male\":\n",
    "        S = S.replace('ale','')\n",
    "    return S\n",
    "\n",
    "df['Sex'] = df['Sex'].apply(sex_replce)"
   ]
  },
  {
   "cell_type": "code",
   "execution_count": 26,
   "metadata": {},
   "outputs": [],
   "source": [
    "L_object = ['Jurisdiction of Occurrence','Sex','Race/Ethnicity','AgeGroup']\n",
    "for i in L_object:\n",
    "    code, unique = pd.factorize(df[i])\n",
    "    df[i] = code"
   ]
  },
  {
   "cell_type": "markdown",
   "metadata": {},
   "source": [
    "Создание набора данных и меток классов"
   ]
  },
  {
   "cell_type": "code",
   "execution_count": 29,
   "metadata": {},
   "outputs": [],
   "source": [
    "Y = df.pop('Sex')\n",
    "X = df"
   ]
  },
  {
   "cell_type": "code",
   "execution_count": 30,
   "metadata": {},
   "outputs": [],
   "source": [
    "X_train, X_test, y_train, y_test = train_test_split(X, Y, test_size=0.1, random_state=0)\n"
   ]
  },
  {
   "cell_type": "markdown",
   "metadata": {},
   "source": [
    "### 1. Применить классификатор ```CatBoostClassifier```\n",
    "Обратите внимание, что **catboost** умеет работать с категориальными признаками (параметр ```cat_features``` - список индексов категориальных признаков), поэтому использование ```pd.factorize```/```pd.get_dummies``` здесь лишнее.\n",
    "- вывести итерацию с наилучшим значением **AUC (для бинарной классификации) или наилучшим значением Logloss.\n",
    "- вывести значения метрик качества классификации на тестовых данных (*accuracy* и *precision* / *recall* / *AUC*, если применимо).\n",
    "- в случае бинарной классификации на основе CatBoostClassifier построить кривые **PRC** и **ROC**. Вычислить значения **PRC-AUC** и **ROC-AUC**."
   ]
  },
  {
   "cell_type": "code",
   "execution_count": 32,
   "metadata": {},
   "outputs": [
    {
     "data": {
      "application/vnd.jupyter.widget-view+json": {
       "model_id": "fa190c1784c4469e8c3bff73958ccc13",
       "version_major": 2,
       "version_minor": 0
      },
      "text/plain": [
       "MetricVisualizer(layout=Layout(align_self='stretch', height='500px'))"
      ]
     },
     "metadata": {},
     "output_type": "display_data"
    },
    {
     "data": {
      "text/plain": [
       "<catboost.core.CatBoostClassifier at 0x2065b7fded0>"
      ]
     },
     "execution_count": 32,
     "metadata": {},
     "output_type": "execute_result"
    }
   ],
   "source": [
    "model = CatBoostClassifier(\n",
    "    iterations=100,\n",
    "    loss_function='Logloss'\n",
    ")\n",
    "model.fit(\n",
    "    X_train, y_train,\n",
    "    eval_set=(X_test, y_test),\n",
    "    verbose=False,\n",
    "    plot=True\n",
    ")"
   ]
  },
  {
   "cell_type": "code",
   "execution_count": 33,
   "metadata": {},
   "outputs": [
    {
     "name": "stdout",
     "output_type": "stream",
     "text": [
      "Model is fitted: True\n",
      "Model params: {'iterations': 100, 'loss_function': 'Logloss'}\n",
      "Best iteration: 99\n",
      "Best score: {'learn': {'Logloss': 0.2325921021192831}, 'validation': {'Logloss': 0.2834786367588174}}\n",
      "Accuracy: 0.9090909090909091\n",
      "AUC: 0.9088541666666666\n",
      "Precision: 0.9105263157894737\n",
      "Recall: 0.9010416666666666\n"
     ]
    }
   ],
   "source": [
    "print(f\"Model is fitted: {model.is_fitted()}\")\n",
    "print(f\"Model params: {model.get_params()}\")\n",
    "print(f\"Best iteration: {model.get_best_iteration()}\")\n",
    "print(f\"Best score: {model.best_score_}\")\n",
    "print(f\"Accuracy: {accuracy_score(y_test, model.predict(X_test))}\")\n",
    "print(f\"AUC: {roc_auc_score(y_test, model.predict(X_test))}\")\n",
    "print(f\"Precision: {precision_score(y_test, model.predict(X_test))}\")\n",
    "print(f\"Recall: {recall_score(y_test, model.predict(X_test))}\")"
   ]
  },
  {
   "cell_type": "code",
   "execution_count": 34,
   "metadata": {},
   "outputs": [
    {
     "data": {
      "text/plain": [
       "<sklearn.metrics._plot.roc_curve.RocCurveDisplay at 0x2065b7feaa0>"
      ]
     },
     "execution_count": 34,
     "metadata": {},
     "output_type": "execute_result"
    },
    {
     "data": {
      "image/png": "[encoded data removed]",
      "text/plain": [
       "<Figure size 432x288 with 1 Axes>"
      ]
     },
     "metadata": {
      "needs_background": "light"
     },
     "output_type": "display_data"
    }
   ],
   "source": [
    "plot_roc_curve(model, X_test, y_test)\n"
   ]
  },
  {
   "cell_type": "code",
   "execution_count": 37,
   "metadata": {},
   "outputs": [
    {
     "data": {
      "text/plain": [
       "<sklearn.metrics._plot.precision_recall_curve.PrecisionRecallDisplay at 0x2065e4abee0>"
      ]
     },
     "execution_count": 37,
     "metadata": {},
     "output_type": "execute_result"
    },
    {
     "data": {
      "image/png": "[encoded data removed]",
      "text/plain": [
       "<Figure size 432x288 with 1 Axes>"
      ]
     },
     "metadata": {
      "needs_background": "light"
     },
     "output_type": "display_data"
    }
   ],
   "source": [
    "plot_precision_recall_curve(model, X_test, y_test, name=\"CatBoostClassifier\")"
   ]
  },
  {
   "cell_type": "markdown",
   "metadata": {},
   "source": [
    "### 2. Применить регрессию `CatBoostRegressor` к набору данных для регрессии.\n",
    "Вывести номер итерации и значения метрик (**MAE** и **MSE**) для наилучшей итерации. Обратите внимание, что в задаче восстановления регрессии целевая переменная имеет непрерывные значения."
   ]
  },
  {
   "cell_type": "code",
   "execution_count": 39,
   "metadata": {},
   "outputs": [
    {
     "data": {
      "application/vnd.jupyter.widget-view+json": {
       "model_id": "b614ba0ebaae4af697e0bed3d0829e31",
       "version_major": 2,
       "version_minor": 0
      },
      "text/plain": [
       "MetricVisualizer(layout=Layout(align_self='stretch', height='500px'))"
      ]
     },
     "metadata": {},
     "output_type": "display_data"
    },
    {
     "data": {
      "text/plain": [
       "<catboost.core.CatBoostRegressor at 0x2065f549f00>"
      ]
     },
     "execution_count": 39,
     "metadata": {},
     "output_type": "execute_result"
    }
   ],
   "source": [
    "model_regressor = CatBoostRegressor(\n",
    "    custom_metric=[\"MAE\", \"RMSE\"])\n",
    "\n",
    "model_regressor.fit(\n",
    "    X_train, y_train,\n",
    "    eval_set=(X_test, y_test),\n",
    "    verbose=False,\n",
    "    plot=True\n",
    ")"
   ]
  },
  {
   "cell_type": "code",
   "execution_count": 40,
   "metadata": {},
   "outputs": [
    {
     "name": "stdout",
     "output_type": "stream",
     "text": [
      "Best iteration: 977\n",
      "Best score: {'learn': {'MAE': 0.10119539758151766, 'RMSE': 0.14453718070910945}, 'validation': {'MAE': 0.18556917615333826, 'RMSE': 0.2619288104031102}}\n",
      "Model params: {'loss_function': 'RMSE', 'custom_metric': ['MAE', 'RMSE']}\n",
      "MAE: 0.1856076218354603\n",
      "MSE: 0.06860670171918841\n"
     ]
    }
   ],
   "source": [
    "print(f\"Best iteration: {model_regressor.get_best_iteration()}\")\n",
    "print(f\"Best score: {model_regressor.get_best_score()}\")\n",
    "print(f\"Model params: {model_regressor.get_params()}\")\n",
    "print(f\"MAE: {mean_absolute_error(y_test, model_regressor.predict(X_test))}\")\n",
    "print(f\"MSE: {mean_squared_error(y_test, model_regressor.predict(X_test))}\")"
   ]
  }
 ],
 "metadata": {
  "interpreter": {
   "hash": "dbce27adb2ab877a2158da408b3aeeff83491eafc7a68bf4170d3bb522766954"
  },
  "kernelspec": {
   "display_name": "Python 3.10.4 64-bit",
   "language": "python",
   "name": "python3"
  },
  "language_info": {
   "codemirror_mode": {
    "name": "ipython",
    "version": 3
   },
   "file_extension": ".py",
   "mimetype": "text/x-python",
   "name": "python",
   "nbconvert_exporter": "python",
   "pygments_lexer": "ipython3",
   "version": "3.10.4"
  },
  "orig_nbformat": 4
 },
 "nbformat": 4,
 "nbformat_minor": 2
}
