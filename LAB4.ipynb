{
 "cells": [
  {
   "cell_type": "markdown",
   "metadata": {},
   "source": [
    "# Лабораторная работа №4\n",
    "## Деревья решений\n",
    "**Выполнил**: 6131-010402D, Музыка Артем"
   ]
  },
  {
   "cell_type": "markdown",
   "metadata": {},
   "source": [
    "### Иморт набора данных и описания датасета"
   ]
  },
  {
   "cell_type": "code",
   "execution_count": 1,
   "metadata": {},
   "outputs": [],
   "source": [
    "import pandas as pd\n",
    "import numpy as np"
   ]
  },
  {
   "cell_type": "markdown",
   "metadata": {},
   "source": [
    "Предварительные данные о количестве смертей по месяцам смерти в разбивке по возрастным группам, полу и расе/этнической принадлежности для отдельных основных причин смерти за период 2020 - 2021 годов. Окончательные данные представлены за 2019 год. Набор данных также включает в себя ежемесячные предварительные подсчеты смертей от КОВИД-19, кодируемые кодом МКБ-10 U07.1 в качестве основной или одной из причины смерти."
   ]
  },
  {
   "cell_type": "code",
   "execution_count": 2,
   "metadata": {},
   "outputs": [
    {
     "data": {
      "text/html": [
       "<div>\n",
       "<style scoped>\n",
       "    .dataframe tbody tr th:only-of-type {\n",
       "        vertical-align: middle;\n",
       "    }\n",
       "\n",
       "    .dataframe tbody tr th {\n",
       "        vertical-align: top;\n",
       "    }\n",
       "\n",
       "    .dataframe thead th {\n",
       "        text-align: right;\n",
       "    }\n",
       "</style>\n",
       "<table border=\"1\" class=\"dataframe\">\n",
       "  <thead>\n",
       "    <tr style=\"text-align: right;\">\n",
       "      <th></th>\n",
       "      <th>AnalysisDate</th>\n",
       "      <th>Date Of Death Year</th>\n",
       "      <th>Date Of Death Month</th>\n",
       "      <th>Start Date</th>\n",
       "      <th>End Date</th>\n",
       "      <th>Jurisdiction of Occurrence</th>\n",
       "      <th>Sex</th>\n",
       "      <th>Race/Ethnicity</th>\n",
       "      <th>AgeGroup</th>\n",
       "      <th>AllCause</th>\n",
       "      <th>...</th>\n",
       "      <th>Alzheimer disease (G30)</th>\n",
       "      <th>Influenza and pneumonia (J09-J18)</th>\n",
       "      <th>Chronic lower respiratory diseases (J40-J47)</th>\n",
       "      <th>Other diseases of respiratory system (J00-J06,J30-J39,J67,J70-J98)</th>\n",
       "      <th>Nephritis, nephrotic syndrome and nephrosis (N00-N07,N17-N19,N25-N27)</th>\n",
       "      <th>Symptoms, signs and abnormal clinical and laboratory findings, not elsewhere classified (R00-R99)</th>\n",
       "      <th>Diseases of heart (I00-I09,I11,I13,I20-I51)</th>\n",
       "      <th>Cerebrovascular diseases (I60-I69)</th>\n",
       "      <th>COVID-19 (U071, Multiple Cause of Death)</th>\n",
       "      <th>COVID-19 (U071, Underlying Cause of Death)</th>\n",
       "    </tr>\n",
       "  </thead>\n",
       "  <tbody>\n",
       "    <tr>\n",
       "      <th>0</th>\n",
       "      <td>10/13/2021</td>\n",
       "      <td>2019</td>\n",
       "      <td>1</td>\n",
       "      <td>01/01/2019</td>\n",
       "      <td>01/31/2019</td>\n",
       "      <td>United States</td>\n",
       "      <td>F</td>\n",
       "      <td>Hispanic</td>\n",
       "      <td>0-4 years</td>\n",
       "      <td>182</td>\n",
       "      <td>...</td>\n",
       "      <td>0</td>\n",
       "      <td>4</td>\n",
       "      <td>0</td>\n",
       "      <td>1</td>\n",
       "      <td>0</td>\n",
       "      <td>22</td>\n",
       "      <td>1</td>\n",
       "      <td>0</td>\n",
       "      <td>0</td>\n",
       "      <td>0</td>\n",
       "    </tr>\n",
       "    <tr>\n",
       "      <th>1</th>\n",
       "      <td>10/13/2021</td>\n",
       "      <td>2019</td>\n",
       "      <td>1</td>\n",
       "      <td>01/01/2019</td>\n",
       "      <td>01/31/2019</td>\n",
       "      <td>United States</td>\n",
       "      <td>F</td>\n",
       "      <td>Hispanic</td>\n",
       "      <td>5-14 years</td>\n",
       "      <td>44</td>\n",
       "      <td>...</td>\n",
       "      <td>0</td>\n",
       "      <td>4</td>\n",
       "      <td>1</td>\n",
       "      <td>0</td>\n",
       "      <td>0</td>\n",
       "      <td>0</td>\n",
       "      <td>0</td>\n",
       "      <td>0</td>\n",
       "      <td>0</td>\n",
       "      <td>0</td>\n",
       "    </tr>\n",
       "    <tr>\n",
       "      <th>2</th>\n",
       "      <td>10/13/2021</td>\n",
       "      <td>2019</td>\n",
       "      <td>1</td>\n",
       "      <td>01/01/2019</td>\n",
       "      <td>01/31/2019</td>\n",
       "      <td>United States</td>\n",
       "      <td>F</td>\n",
       "      <td>Hispanic</td>\n",
       "      <td>15-24 years</td>\n",
       "      <td>122</td>\n",
       "      <td>...</td>\n",
       "      <td>0</td>\n",
       "      <td>0</td>\n",
       "      <td>2</td>\n",
       "      <td>1</td>\n",
       "      <td>2</td>\n",
       "      <td>4</td>\n",
       "      <td>6</td>\n",
       "      <td>1</td>\n",
       "      <td>0</td>\n",
       "      <td>0</td>\n",
       "    </tr>\n",
       "  </tbody>\n",
       "</table>\n",
       "<p>3 rows × 24 columns</p>\n",
       "</div>"
      ],
      "text/plain": [
       "  AnalysisDate  Date Of Death Year  Date Of Death Month  Start Date  \\\n",
       "0   10/13/2021                2019                    1  01/01/2019   \n",
       "1   10/13/2021                2019                    1  01/01/2019   \n",
       "2   10/13/2021                2019                    1  01/01/2019   \n",
       "\n",
       "     End Date Jurisdiction of Occurrence Sex Race/Ethnicity     AgeGroup  \\\n",
       "0  01/31/2019              United States   F       Hispanic    0-4 years   \n",
       "1  01/31/2019              United States   F       Hispanic   5-14 years   \n",
       "2  01/31/2019              United States   F       Hispanic  15-24 years   \n",
       "\n",
       "   AllCause  ...  Alzheimer disease (G30)  Influenza and pneumonia (J09-J18)  \\\n",
       "0       182  ...                        0                                  4   \n",
       "1        44  ...                        0                                  4   \n",
       "2       122  ...                        0                                  0   \n",
       "\n",
       "   Chronic lower respiratory diseases (J40-J47)  \\\n",
       "0                                             0   \n",
       "1                                             1   \n",
       "2                                             2   \n",
       "\n",
       "   Other diseases of respiratory system (J00-J06,J30-J39,J67,J70-J98)  \\\n",
       "0                                                  1                    \n",
       "1                                                  0                    \n",
       "2                                                  1                    \n",
       "\n",
       "   Nephritis, nephrotic syndrome and nephrosis (N00-N07,N17-N19,N25-N27)  \\\n",
       "0                                                  0                       \n",
       "1                                                  0                       \n",
       "2                                                  2                       \n",
       "\n",
       "   Symptoms, signs and abnormal clinical and laboratory findings, not elsewhere classified (R00-R99)  \\\n",
       "0                                                 22                                                   \n",
       "1                                                  0                                                   \n",
       "2                                                  4                                                   \n",
       "\n",
       "   Diseases of heart (I00-I09,I11,I13,I20-I51)  \\\n",
       "0                                            1   \n",
       "1                                            0   \n",
       "2                                            6   \n",
       "\n",
       "   Cerebrovascular diseases (I60-I69)  \\\n",
       "0                                   0   \n",
       "1                                   0   \n",
       "2                                   1   \n",
       "\n",
       "   COVID-19 (U071, Multiple Cause of Death)  \\\n",
       "0                                         0   \n",
       "1                                         0   \n",
       "2                                         0   \n",
       "\n",
       "   COVID-19 (U071, Underlying Cause of Death)  \n",
       "0                                           0  \n",
       "1                                           0  \n",
       "2                                           0  \n",
       "\n",
       "[3 rows x 24 columns]"
      ]
     },
     "execution_count": 2,
     "metadata": {},
     "output_type": "execute_result"
    }
   ],
   "source": [
    "df = pd.read_csv('data/deaths.csv')\n",
    "df.head(3)"
   ]
  },
  {
   "cell_type": "markdown",
   "metadata": {},
   "source": [
    "1.   AnalysisDate                                                                                       `object`\n",
    "2.  Date Of Death Year                                                                                  `int64` \n",
    "3.   Date Of Death Month                                                                                `int64` \n",
    "4.   Start Date                                                                                         `object`\n",
    "5.   End Date                                                                                           `object`\n",
    "6.   Jurisdiction of Occurrence                                                                         `object`\n",
    "7.   Sex                                                                                                `object`\n",
    "8.   Race/Ethnicity                                                                                     `object`\n",
    "9.   AgeGroup                                                                                           `object`\n",
    "10.  AllCause                                                                                           `int64 `\n",
    "11.  NaturalCause                                                                                       `int64 `\n",
    "12.  Septicemia (A40-A41)                                                                               `int64 `\n",
    "13.  Malignant neoplasms (C00-C97)                                                                      `int64 `\n",
    "14.  Diabetes mellitus (E10-E14)                                                                        `int64 `\n",
    "15.  Alzheimer disease (G30)                                                                            `int64 `\n",
    "16.  Influenza and pneumonia (J09-J18)                                                                  `int64 `\n",
    "17.  Chronic lower respiratory diseases (J40-J47)                                                       `int64 `\n",
    "18.  Other diseases of respiratory system (J00-J06,J30-J39,J67,J70-J98)                                 `int64 `\n",
    "19.  Nephritis, nephrotic syndrome and nephrosis (N00-N07,N17-N19,N25-N27)                              `int64 `\n",
    "20.  Symptoms, signs and abnormal clinical and laboratory findings, not elsewhere classified (R00-R99)  `int64 `\n",
    "21.  Diseases of heart (I00-I09,I11,I13,I20-I51)                                                        `int64 `\n",
    "22.  Cerebrovascular diseases (I60-I69)                                                                 `int64 `\n",
    "23.  COVID-19 (U071, Multiple Cause of Death)                                                           `int64 `\n",
    "24.  COVID-19 (U071, Underlying Cause of Death)                                                         `int64 `"
   ]
  },
  {
   "cell_type": "markdown",
   "metadata": {},
   "source": [
    "Удалим неинтересующие нас столбцы"
   ]
  },
  {
   "cell_type": "code",
   "execution_count": 3,
   "metadata": {},
   "outputs": [],
   "source": [
    "L_del = ['AnalysisDate', 'Start Date', 'End Date']\n",
    "try:\n",
    "    for i in L_del:\n",
    "        df.pop(i)\n",
    "except:\n",
    "    pass"
   ]
  },
  {
   "cell_type": "markdown",
   "metadata": {},
   "source": [
    "При работе с датасетом было обнаружено, что пол обозначается неоднородно. Исправим это:"
   ]
  },
  {
   "cell_type": "code",
   "execution_count": 4,
   "metadata": {},
   "outputs": [],
   "source": [
    "def sex_replce(S):\n",
    "    if S == 'Female':\n",
    "        S = S.replace('emale','')\n",
    "    if S == \"Male\":\n",
    "        S = S.replace('ale','')\n",
    "    return S"
   ]
  },
  {
   "cell_type": "code",
   "execution_count": 5,
   "metadata": {},
   "outputs": [],
   "source": [
    "df['Sex'] = df['Sex'].apply(sex_replce)"
   ]
  },
  {
   "cell_type": "markdown",
   "metadata": {},
   "source": [
    "### 1. Для вашего датасета преобразовать категориальные признаки в бинарные с помощью `pd.factorize` / `pd.get_dummies`"
   ]
  },
  {
   "cell_type": "code",
   "execution_count": 6,
   "metadata": {},
   "outputs": [],
   "source": [
    "L_object = ['Jurisdiction of Occurrence','Sex','Race/Ethnicity','AgeGroup']\n",
    "for i in L_object:\n",
    "    code, unique = pd.factorize(df[i])\n",
    "    df[i] = code"
   ]
  },
  {
   "cell_type": "code",
   "execution_count": 7,
   "metadata": {},
   "outputs": [],
   "source": [
    "Y = df['Sex']\n",
    "df.pop('Sex')\n",
    "X = df"
   ]
  },
  {
   "cell_type": "markdown",
   "metadata": {},
   "source": [
    "#### 1.1 С помощью `sklearn.preprocesssing.StandartScaler` нормализовать значения признаков и построить для нормализованного датасета `KNeighborsClassifier` (без использования конвееров)"
   ]
  },
  {
   "cell_type": "code",
   "execution_count": 8,
   "metadata": {},
   "outputs": [],
   "source": [
    "from sklearn.preprocessing import StandardScaler\n",
    "scaler = StandardScaler()\n",
    "scaler.fit(X)\n",
    "scaled_X = pd.DataFrame(scaler.transform(df))"
   ]
  },
  {
   "cell_type": "code",
   "execution_count": 9,
   "metadata": {},
   "outputs": [],
   "source": [
    "from sklearn.utils import shuffle\n",
    "data_s, labels_s = shuffle(scaled_X, Y)\n",
    "test_size = int(len(data_s) * 0.9)\n",
    "Xtrain_s = data_s[:test_size]\n",
    "Ytrain_s = labels_s[:test_size]\n",
    "Xtest_s = data_s[test_size:]\n",
    "Ytest_s = labels_s[test_size:]"
   ]
  },
  {
   "cell_type": "code",
   "execution_count": 10,
   "metadata": {},
   "outputs": [
    {
     "name": "stdout",
     "output_type": "stream",
     "text": [
      "0.5\n"
     ]
    }
   ],
   "source": [
    "from sklearn.neighbors import KNeighborsClassifier\n",
    "from sklearn.metrics import accuracy_score\n",
    "classifier = KNeighborsClassifier(n_neighbors=2)\n",
    "classifier.fit(Xtrain_s, Ytrain_s)\n",
    "predict = classifier.predict(Xtest_s)\n",
    "print(accuracy_score(Ytest_s, predict))"
   ]
  },
  {
   "cell_type": "markdown",
   "metadata": {},
   "source": [
    "Разочаровающий результат. Чисто интересно, что будет на необработанных данных"
   ]
  },
  {
   "cell_type": "code",
   "execution_count": 11,
   "metadata": {},
   "outputs": [
    {
     "name": "stdout",
     "output_type": "stream",
     "text": [
      "0.8333333333333334\n"
     ]
    }
   ],
   "source": [
    "data, labels = shuffle(X, Y)\n",
    "test_size = int(len(data) * 0.9)\n",
    "Xtrain = data[:test_size]\n",
    "Ytrain = labels[:test_size]\n",
    "Xtest = data[test_size:]\n",
    "Ytest = labels[test_size:]\n",
    "\n",
    "classifier = KNeighborsClassifier(n_neighbors=2)\n",
    "classifier.fit(Xtrain, Ytrain)\n",
    "predict = classifier.predict(Xtest)\n",
    "print(accuracy_score(Ytest, predict))"
   ]
  },
  {
   "cell_type": "markdown",
   "metadata": {},
   "source": [
    "#### 1.2 То же самое с использованием `sklearn.pipeline.Pipeline`"
   ]
  },
  {
   "cell_type": "code",
   "execution_count": 12,
   "metadata": {},
   "outputs": [
    {
     "data": {
      "text/plain": [
       "0.4898989898989899"
      ]
     },
     "execution_count": 12,
     "metadata": {},
     "output_type": "execute_result"
    }
   ],
   "source": [
    "from sklearn.pipeline import Pipeline\n",
    "\n",
    "pipe = Pipeline([('scaler', scaler),('svc', classifier)])\n",
    "pipe.fit(Xtrain, Ytrain)\n",
    "Pipeline(steps=[('scaler', scaler),('svc', classifier)])\n",
    "pipe.score(Xtest, Ytest)"
   ]
  },
  {
   "cell_type": "markdown",
   "metadata": {},
   "source": [
    "#### 1.3 С помощью `GridSearchCV` произвести подбор гиперпараметра `KNeighboorsClassifier`(`n_neighbord`) и выведите значение гиперпараметра и метрику для наилучшей модели"
   ]
  },
  {
   "cell_type": "code",
   "execution_count": 13,
   "metadata": {},
   "outputs": [
    {
     "name": "stdout",
     "output_type": "stream",
     "text": [
      "{'n_neighbors': 3}\n",
      "0.8585858585858586\n"
     ]
    }
   ],
   "source": [
    "from sklearn.model_selection import GridSearchCV\n",
    "parameters = {'n_neighbors': range(1,10)}\n",
    "grid = GridSearchCV(KNeighborsClassifier(), parameters, cv=5)\n",
    "grid.fit(np.array(Xtrain), np.array(Ytrain))\n",
    "best_param = grid.best_params_\n",
    "print(best_param)\n",
    "classifier = KNeighborsClassifier(n_neighbors=best_param['n_neighbors'])\n",
    "classifier.fit(Xtrain, Ytrain)\n",
    "predict = classifier.predict(Xtest)\n",
    "print(accuracy_score(Ytest, predict))"
   ]
  },
  {
   "cell_type": "markdown",
   "metadata": {},
   "source": [
    "#### 2.1 Продемонстрировать работу `DecisionTreeClassifier`, посчитать метрики качесвта на отложенной выборке"
   ]
  },
  {
   "cell_type": "code",
   "execution_count": 14,
   "metadata": {},
   "outputs": [
    {
     "data": {
      "text/plain": [
       "array([0.87373737, 0.85858586, 0.87878788, 0.85858586, 0.85353535,\n",
       "       0.9040404 , 0.85858586, 0.87373737, 0.85353535, 0.85858586,\n",
       "       0.8989899 , 0.85353535, 0.88888889, 0.84848485, 0.82828283,\n",
       "       0.85858586, 0.9040404 , 0.86363636, 0.87373737, 0.71212121])"
      ]
     },
     "execution_count": 14,
     "metadata": {},
     "output_type": "execute_result"
    }
   ],
   "source": [
    "from sklearn.model_selection import cross_val_score\n",
    "from sklearn.tree import DecisionTreeClassifier\n",
    "tree_clf = DecisionTreeClassifier()\n",
    "cross_val_score(tree_clf, X, Y, cv=20)"
   ]
  },
  {
   "cell_type": "markdown",
   "metadata": {},
   "source": [
    "#### 2.2 С помощью `GridSearhCV` произвести подбор гиперпараметров для поиска наилучшего дерева (перебрать `max_depth`, `max_features` и может быть что-то еще)"
   ]
  },
  {
   "cell_type": "code",
   "execution_count": 17,
   "metadata": {},
   "outputs": [
    {
     "name": "stderr",
     "output_type": "stream",
     "text": [
      "c:\\Users\\muzzo\\AppData\\Local\\Programs\\Python\\Python310\\lib\\site-packages\\sklearn\\model_selection\\_validation.py:372: FitFailedWarning: \n",
      "3600 fits failed out of a total of 68400.\n",
      "The score on these train-test partitions for these parameters will be set to nan.\n",
      "If these failures are not expected, you can try to debug them by setting error_score='raise'.\n",
      "\n",
      "Below are more details about the failures:\n",
      "--------------------------------------------------------------------------------\n",
      "3600 fits failed with the following error:\n",
      "Traceback (most recent call last):\n",
      "  File \"c:\\Users\\muzzo\\AppData\\Local\\Programs\\Python\\Python310\\lib\\site-packages\\sklearn\\model_selection\\_validation.py\", line 680, in _fit_and_score\n",
      "    estimator.fit(X_train, y_train, **fit_params)\n",
      "  File \"c:\\Users\\muzzo\\AppData\\Local\\Programs\\Python\\Python310\\lib\\site-packages\\sklearn\\tree\\_classes.py\", line 937, in fit\n",
      "    super().fit(\n",
      "  File \"c:\\Users\\muzzo\\AppData\\Local\\Programs\\Python\\Python310\\lib\\site-packages\\sklearn\\tree\\_classes.py\", line 314, in fit\n",
      "    raise ValueError(\n",
      "ValueError: max_leaf_nodes 1 must be either None or larger than 1\n",
      "\n",
      "  warnings.warn(some_fits_failed_message, FitFailedWarning)\n",
      "c:\\Users\\muzzo\\AppData\\Local\\Programs\\Python\\Python310\\lib\\site-packages\\sklearn\\model_selection\\_search.py:969: UserWarning: One or more of the test scores are non-finite: [       nan        nan        nan ... 0.60044518 0.70398104 0.6186914 ]\n",
      "  warnings.warn(\n"
     ]
    },
    {
     "data": {
      "text/plain": [
       "GridSearchCV(cv=5, estimator=DecisionTreeClassifier(),\n",
       "             param_grid={'criterion': ['gini', 'entropy'],\n",
       "                         'max_depth': range(1, 10),\n",
       "                         'max_features': ['auto', 'sqrt', 'log2', None],\n",
       "                         'max_leaf_nodes': range(1, 20),\n",
       "                         'random_state': range(0, 5),\n",
       "                         'splitter': ['best', 'random']})"
      ]
     },
     "execution_count": 17,
     "metadata": {},
     "output_type": "execute_result"
    }
   ],
   "source": [
    "tree_parameters = {'max_depth': range(1,10),\n",
    "                    'max_features': ['auto', 'sqrt', 'log2', None],\n",
    "                    'criterion': ['gini','entropy'],\n",
    "                    'splitter': ['best', 'random'],\n",
    "                    'random_state': range(0,5),\n",
    "                    'max_leaf_nodes': range(1,20)\n",
    "                    }\n",
    "grid_tree = GridSearchCV(DecisionTreeClassifier(), tree_parameters, cv=5)\n",
    "grid_tree.fit(np.array(Xtrain), np.array(Ytrain))"
   ]
  },
  {
   "cell_type": "code",
   "execution_count": 18,
   "metadata": {},
   "outputs": [
    {
     "name": "stdout",
     "output_type": "stream",
     "text": [
      "{'criterion': 'gini', 'max_depth': 9, 'max_features': None, 'max_leaf_nodes': 19, 'random_state': 0, 'splitter': 'best'}\n"
     ]
    }
   ],
   "source": [
    "tree_best_param = grid_tree.best_params_\n",
    "print(tree_best_param)"
   ]
  },
  {
   "cell_type": "markdown",
   "metadata": {},
   "source": [
    "#### 2.3 Для полученного наилучшего дерева построить график `feature_importances` и дополнительно напечатать 3 наиболее важных признака, отсортировав их по убыванию важности"
   ]
  },
  {
   "cell_type": "code",
   "execution_count": 21,
   "metadata": {},
   "outputs": [
    {
     "data": {
      "text/plain": [
       "DecisionTreeClassifier(max_depth=9, max_leaf_nodes=19, random_state=0)"
      ]
     },
     "execution_count": 21,
     "metadata": {},
     "output_type": "execute_result"
    }
   ],
   "source": [
    "best_tree_model = DecisionTreeClassifier(max_depth=9,\n",
    "                                        max_features=None, \n",
    "                                        criterion='gini',\n",
    "                                        splitter='best',\n",
    "                                        random_state=0,\n",
    "                                        max_leaf_nodes=19)\n",
    "best_tree_model.fit(Xtrain, Ytrain)"
   ]
  },
  {
   "cell_type": "code",
   "execution_count": 22,
   "metadata": {},
   "outputs": [
    {
     "data": {
      "text/plain": [
       "0.7196969696969697"
      ]
     },
     "execution_count": 22,
     "metadata": {},
     "output_type": "execute_result"
    }
   ],
   "source": [
    "accuracy_score(best_tree_model.predict(Xtest), Ytest)"
   ]
  },
  {
   "cell_type": "code",
   "execution_count": 23,
   "metadata": {},
   "outputs": [],
   "source": [
    "importances = best_tree_model.feature_importances_"
   ]
  },
  {
   "cell_type": "code",
   "execution_count": 24,
   "metadata": {},
   "outputs": [],
   "source": [
    "tree_importances = pd.Series(importances, index=X.columns)"
   ]
  },
  {
   "cell_type": "code",
   "execution_count": 25,
   "metadata": {},
   "outputs": [
    {
     "name": "stderr",
     "output_type": "stream",
     "text": [
      "C:\\Users\\muzzo\\AppData\\Local\\Temp\\ipykernel_5860\\919183710.py:6: UserWarning: Tight layout not applied. The bottom and top margins cannot be made large enough to accommodate all axes decorations.\n",
      "  fig.tight_layout()\n"
     ]
    },
    {
     "data": {
      "image/png": "[encoded data removed]",
      "text/plain": [
       "<Figure size 432x288 with 1 Axes>"
      ]
     },
     "metadata": {
      "needs_background": "light"
     },
     "output_type": "display_data"
    }
   ],
   "source": [
    "import matplotlib.pyplot as plt\n",
    "fig, ax = plt.subplots()\n",
    "tree_importances.plot.bar(ax=ax)\n",
    "ax.set_title(\"Feature importances using MDI\")\n",
    "ax.set_ylabel(\"Mean decrease in impurity\")\n",
    "fig.tight_layout()"
   ]
  },
  {
   "cell_type": "markdown",
   "metadata": {},
   "source": [
    "#### 3.1 Продемонстрировать работу случайного леса `RandomForestClassifier`"
   ]
  },
  {
   "cell_type": "code",
   "execution_count": 26,
   "metadata": {},
   "outputs": [
    {
     "data": {
      "text/plain": [
       "0.8914141414141414"
      ]
     },
     "execution_count": 26,
     "metadata": {},
     "output_type": "execute_result"
    }
   ],
   "source": [
    "from sklearn.ensemble import RandomForestClassifier\n",
    "forest = RandomForestClassifier()\n",
    "forest.fit(Xtrain, Ytrain)\n",
    "accuracy_score(forest.predict(Xtest), Ytest)"
   ]
  },
  {
   "cell_type": "markdown",
   "metadata": {},
   "source": [
    "#### 3.2 С помощью `GtidSearchCV` произвести подбор гиперпараметров для поиска наилучшего леса, посмотреть насколько улучшились метрики"
   ]
  },
  {
   "cell_type": "code",
   "execution_count": 27,
   "metadata": {},
   "outputs": [
    {
     "name": "stderr",
     "output_type": "stream",
     "text": [
      "c:\\Users\\muzzo\\AppData\\Local\\Programs\\Python\\Python310\\lib\\site-packages\\sklearn\\model_selection\\_validation.py:372: FitFailedWarning: \n",
      "1200 fits failed out of a total of 3000.\n",
      "The score on these train-test partitions for these parameters will be set to nan.\n",
      "If these failures are not expected, you can try to debug them by setting error_score='raise'.\n",
      "\n",
      "Below are more details about the failures:\n",
      "--------------------------------------------------------------------------------\n",
      "600 fits failed with the following error:\n",
      "Traceback (most recent call last):\n",
      "  File \"c:\\Users\\muzzo\\AppData\\Local\\Programs\\Python\\Python310\\lib\\site-packages\\sklearn\\model_selection\\_validation.py\", line 680, in _fit_and_score\n",
      "    estimator.fit(X_train, y_train, **fit_params)\n",
      "  File \"c:\\Users\\muzzo\\AppData\\Local\\Programs\\Python\\Python310\\lib\\site-packages\\sklearn\\ensemble\\_forest.py\", line 450, in fit\n",
      "    trees = Parallel(\n",
      "  File \"c:\\Users\\muzzo\\AppData\\Local\\Programs\\Python\\Python310\\lib\\site-packages\\joblib\\parallel.py\", line 1043, in __call__\n",
      "    if self.dispatch_one_batch(iterator):\n",
      "  File \"c:\\Users\\muzzo\\AppData\\Local\\Programs\\Python\\Python310\\lib\\site-packages\\joblib\\parallel.py\", line 861, in dispatch_one_batch\n",
      "    self._dispatch(tasks)\n",
      "  File \"c:\\Users\\muzzo\\AppData\\Local\\Programs\\Python\\Python310\\lib\\site-packages\\joblib\\parallel.py\", line 779, in _dispatch\n",
      "    job = self._backend.apply_async(batch, callback=cb)\n",
      "  File \"c:\\Users\\muzzo\\AppData\\Local\\Programs\\Python\\Python310\\lib\\site-packages\\joblib\\_parallel_backends.py\", line 208, in apply_async\n",
      "    result = ImmediateResult(func)\n",
      "  File \"c:\\Users\\muzzo\\AppData\\Local\\Programs\\Python\\Python310\\lib\\site-packages\\joblib\\_parallel_backends.py\", line 572, in __init__\n",
      "    self.results = batch()\n",
      "  File \"c:\\Users\\muzzo\\AppData\\Local\\Programs\\Python\\Python310\\lib\\site-packages\\joblib\\parallel.py\", line 262, in __call__\n",
      "    return [func(*args, **kwargs)\n",
      "  File \"c:\\Users\\muzzo\\AppData\\Local\\Programs\\Python\\Python310\\lib\\site-packages\\joblib\\parallel.py\", line 262, in <listcomp>\n",
      "    return [func(*args, **kwargs)\n",
      "  File \"c:\\Users\\muzzo\\AppData\\Local\\Programs\\Python\\Python310\\lib\\site-packages\\sklearn\\utils\\fixes.py\", line 216, in __call__\n",
      "    return self.function(*args, **kwargs)\n",
      "  File \"c:\\Users\\muzzo\\AppData\\Local\\Programs\\Python\\Python310\\lib\\site-packages\\sklearn\\ensemble\\_forest.py\", line 185, in _parallel_build_trees\n",
      "    tree.fit(X, y, sample_weight=curr_sample_weight, check_input=False)\n",
      "  File \"c:\\Users\\muzzo\\AppData\\Local\\Programs\\Python\\Python310\\lib\\site-packages\\sklearn\\tree\\_classes.py\", line 937, in fit\n",
      "    super().fit(\n",
      "  File \"c:\\Users\\muzzo\\AppData\\Local\\Programs\\Python\\Python310\\lib\\site-packages\\sklearn\\tree\\_classes.py\", line 235, in fit\n",
      "    raise ValueError(\n",
      "ValueError: min_samples_leaf must be at least 1 or in (0, 0.5], got 0\n",
      "\n",
      "--------------------------------------------------------------------------------\n",
      "600 fits failed with the following error:\n",
      "Traceback (most recent call last):\n",
      "  File \"c:\\Users\\muzzo\\AppData\\Local\\Programs\\Python\\Python310\\lib\\site-packages\\sklearn\\model_selection\\_validation.py\", line 680, in _fit_and_score\n",
      "    estimator.fit(X_train, y_train, **fit_params)\n",
      "  File \"c:\\Users\\muzzo\\AppData\\Local\\Programs\\Python\\Python310\\lib\\site-packages\\sklearn\\ensemble\\_forest.py\", line 450, in fit\n",
      "    trees = Parallel(\n",
      "  File \"c:\\Users\\muzzo\\AppData\\Local\\Programs\\Python\\Python310\\lib\\site-packages\\joblib\\parallel.py\", line 1043, in __call__\n",
      "    if self.dispatch_one_batch(iterator):\n",
      "  File \"c:\\Users\\muzzo\\AppData\\Local\\Programs\\Python\\Python310\\lib\\site-packages\\joblib\\parallel.py\", line 861, in dispatch_one_batch\n",
      "    self._dispatch(tasks)\n",
      "  File \"c:\\Users\\muzzo\\AppData\\Local\\Programs\\Python\\Python310\\lib\\site-packages\\joblib\\parallel.py\", line 779, in _dispatch\n",
      "    job = self._backend.apply_async(batch, callback=cb)\n",
      "  File \"c:\\Users\\muzzo\\AppData\\Local\\Programs\\Python\\Python310\\lib\\site-packages\\joblib\\_parallel_backends.py\", line 208, in apply_async\n",
      "    result = ImmediateResult(func)\n",
      "  File \"c:\\Users\\muzzo\\AppData\\Local\\Programs\\Python\\Python310\\lib\\site-packages\\joblib\\_parallel_backends.py\", line 572, in __init__\n",
      "    self.results = batch()\n",
      "  File \"c:\\Users\\muzzo\\AppData\\Local\\Programs\\Python\\Python310\\lib\\site-packages\\joblib\\parallel.py\", line 262, in __call__\n",
      "    return [func(*args, **kwargs)\n",
      "  File \"c:\\Users\\muzzo\\AppData\\Local\\Programs\\Python\\Python310\\lib\\site-packages\\joblib\\parallel.py\", line 262, in <listcomp>\n",
      "    return [func(*args, **kwargs)\n",
      "  File \"c:\\Users\\muzzo\\AppData\\Local\\Programs\\Python\\Python310\\lib\\site-packages\\sklearn\\utils\\fixes.py\", line 216, in __call__\n",
      "    return self.function(*args, **kwargs)\n",
      "  File \"c:\\Users\\muzzo\\AppData\\Local\\Programs\\Python\\Python310\\lib\\site-packages\\sklearn\\ensemble\\_forest.py\", line 185, in _parallel_build_trees\n",
      "    tree.fit(X, y, sample_weight=curr_sample_weight, check_input=False)\n",
      "  File \"c:\\Users\\muzzo\\AppData\\Local\\Programs\\Python\\Python310\\lib\\site-packages\\sklearn\\tree\\_classes.py\", line 937, in fit\n",
      "    super().fit(\n",
      "  File \"c:\\Users\\muzzo\\AppData\\Local\\Programs\\Python\\Python310\\lib\\site-packages\\sklearn\\tree\\_classes.py\", line 250, in fit\n",
      "    raise ValueError(\n",
      "ValueError: min_samples_split must be an integer greater than 1 or a float in (0.0, 1.0]; got the integer 1\n",
      "\n",
      "  warnings.warn(some_fits_failed_message, FitFailedWarning)\n",
      "c:\\Users\\muzzo\\AppData\\Local\\Programs\\Python\\Python310\\lib\\site-packages\\sklearn\\model_selection\\_search.py:969: UserWarning: One or more of the test scores are non-finite: [       nan        nan        nan        nan        nan        nan\n",
      "        nan        nan        nan        nan        nan        nan\n",
      "        nan        nan        nan        nan        nan        nan\n",
      "        nan        nan        nan        nan        nan        nan\n",
      "        nan 0.89141702 0.89113849 0.8886104  0.88524316 0.88580614\n",
      " 0.88468215 0.88608507 0.88973202 0.88496344 0.88945309 0.88580653\n",
      " 0.88636596 0.88861079 0.88692816 0.88833029        nan        nan\n",
      "        nan        nan        nan 0.8858085  0.88496305 0.88692697\n",
      " 0.88636715 0.88636557 0.88889287 0.88244087 0.88833068 0.8815962\n",
      " 0.88468372 0.88440164 0.88215642 0.88664411 0.88580535 0.88580495\n",
      "        nan        nan        nan        nan        nan 0.87682762\n",
      " 0.88159462 0.87851065 0.88131372 0.88664883 0.8832812  0.88103243\n",
      " 0.87934861 0.88271901 0.88271625 0.87907165 0.88019328 0.88103558\n",
      " 0.88384063 0.88159659        nan        nan        nan        nan\n",
      "        nan 0.87766716 0.88187631 0.88243771 0.8765416  0.8807535\n",
      " 0.87794806 0.88215681 0.882158   0.87823093 0.87654435 0.87738744\n",
      " 0.87822935 0.87850986 0.88103243 0.88047182        nan        nan\n",
      "        nan        nan        nan        nan        nan        nan\n",
      "        nan        nan        nan        nan        nan        nan\n",
      "        nan        nan        nan        nan        nan        nan\n",
      "        nan        nan        nan        nan        nan 0.88917377\n",
      " 0.8905759  0.88664883 0.88412114 0.88832871 0.88664647 0.8874872\n",
      " 0.8888913  0.88720905 0.8894527  0.88777046 0.8900141  0.88412311\n",
      " 0.88355973 0.88664765        nan        nan        nan        nan\n",
      "        nan 0.88440282 0.88300109 0.88496226 0.88805175 0.8883291\n",
      " 0.88440085 0.88355934 0.88664805 0.88608625 0.88496462 0.88552445\n",
      " 0.88580338 0.88384142 0.88187592 0.88215721        nan        nan\n",
      "        nan        nan        nan 0.88384142 0.87907165 0.8810344\n",
      " 0.87402099 0.88440322 0.8801917  0.88524355 0.8790689  0.87935098\n",
      " 0.88103558 0.87822817 0.88243929 0.88692697 0.88131569 0.8801921\n",
      "        nan        nan        nan        nan        nan 0.87598531\n",
      " 0.88440046 0.88075193 0.8793494  0.87850986 0.87626503 0.87710773\n",
      " 0.87822975 0.87822935 0.87794727 0.87850986 0.88131491 0.88103637\n",
      " 0.88019289 0.87682722        nan        nan        nan        nan\n",
      "        nan        nan        nan        nan        nan        nan\n",
      "        nan        nan        nan        nan        nan        nan\n",
      "        nan        nan        nan        nan        nan        nan\n",
      "        nan        nan        nan 0.89141426 0.88860922 0.89197567\n",
      " 0.89057472 0.88804978 0.88580298 0.89141742 0.88580456 0.88945073\n",
      " 0.88720866 0.88636518 0.89085325 0.88552484 0.88664568 0.8891718\n",
      "        nan        nan        nan        nan        nan 0.88159541\n",
      " 0.88047497 0.88608388 0.88440046 0.88271822 0.88468451 0.8813153\n",
      " 0.88888933 0.88552524 0.88075311 0.8852471  0.88496344 0.88384142\n",
      " 0.88664489 0.88692737        nan        nan        nan        nan\n",
      "        nan 0.88019525 0.88159502 0.88103598 0.8832812  0.88328041\n",
      " 0.87963148 0.88271782 0.87963188 0.8776711  0.88047339 0.87935255\n",
      " 0.88496226 0.88552484 0.8804726  0.88608546        nan        nan\n",
      "        nan        nan        nan 0.87795042 0.87710654 0.87570284\n",
      " 0.87794964 0.87682486 0.87963306 0.87766677 0.87794609 0.87795003\n",
      " 0.87710694 0.87822935 0.87542273 0.87794727 0.87458121 0.87542312\n",
      "        nan        nan        nan        nan        nan        nan\n",
      "        nan        nan        nan        nan        nan        nan\n",
      "        nan        nan        nan        nan        nan        nan\n",
      "        nan        nan        nan        nan        nan        nan\n",
      "        nan 0.88973321 0.89253904 0.89141663 0.89197803 0.89337977\n",
      " 0.88608585 0.89225933 0.89365949 0.89310005 0.89169635 0.88833068\n",
      " 0.88580298 0.88860764 0.89169713 0.89197606        nan        nan\n",
      "        nan        nan        nan 0.88720669 0.88804663 0.88720669\n",
      " 0.89001332 0.88833068 0.89197646 0.89141505 0.89085365 0.88889169\n",
      " 0.89253983 0.89113573 0.88861    0.88776849 0.8905763  0.88384024\n",
      "        nan        nan        nan        nan        nan 0.88496265\n",
      " 0.8897336  0.88636439 0.88580259 0.88720748 0.88440085 0.88692737\n",
      " 0.88608507 0.88440361 0.88552169 0.8883295  0.88047379 0.88664332\n",
      " 0.88580417 0.88636439        nan        nan        nan        nan\n",
      "        nan 0.87935098 0.88468097 0.88636439 0.88103401 0.88103598\n",
      " 0.88271861 0.8801917  0.8880486  0.88271861 0.88327883 0.88159423\n",
      " 0.88636596 0.88524394 0.88468215 0.8858022         nan        nan\n",
      "        nan        nan        nan        nan        nan        nan\n",
      "        nan        nan        nan        nan        nan        nan\n",
      "        nan        nan        nan        nan        nan        nan\n",
      "        nan        nan        nan        nan        nan 0.89113731\n",
      " 0.89646611 0.88777046 0.88776928 0.8888913  0.89253747 0.89281837\n",
      " 0.88973321 0.88412114 0.88748877 0.89338095 0.89169635 0.89281994\n",
      " 0.89394235 0.89562617        nan        nan        nan        nan\n",
      "        nan 0.89225775 0.89085404 0.88973478 0.88945428 0.8900145\n",
      " 0.88580259 0.89001489 0.88860922 0.89197803 0.89169635 0.89197803\n",
      " 0.88748759 0.88973163 0.89141545 0.8877677         nan        nan\n",
      "        nan        nan        nan 0.8877677  0.89029618 0.88720827\n",
      " 0.88468372 0.88860882 0.88720709 0.88552248 0.88131333 0.88468293\n",
      " 0.88580338 0.88411996 0.88524355 0.88580298 0.8872063  0.88776691\n",
      "        nan        nan        nan        nan        nan 0.88440164\n",
      " 0.88832753 0.88187631 0.88215603 0.88468293 0.87963148 0.88356092\n",
      " 0.88496423 0.88159423 0.88664608 0.88187434 0.88636557 0.88496305\n",
      " 0.88131451 0.87794727        nan        nan        nan        nan\n",
      "        nan        nan        nan        nan        nan        nan\n",
      "        nan        nan        nan        nan        nan        nan\n",
      "        nan        nan        nan        nan        nan        nan\n",
      "        nan        nan        nan 0.89169713 0.88833029 0.8908568\n",
      " 0.89366303 0.89169792 0.89001213 0.88861119 0.89057472 0.88748601\n",
      " 0.88776928 0.89197527 0.89394157 0.89197803 0.89029382 0.89253983\n",
      "        nan        nan        nan        nan        nan 0.88832871\n",
      " 0.88804899 0.88608625 0.88861079 0.88692697 0.88833029 0.88917141\n",
      " 0.88636833 0.89029146 0.89197882 0.88468175 0.88468254 0.89365949\n",
      " 0.89226051 0.88945034        nan        nan        nan        nan\n",
      "        nan 0.88664529 0.88636754 0.88776928 0.88692697 0.88355855\n",
      " 0.88692619 0.88945191 0.88468372 0.8860827  0.8880486  0.88636636\n",
      " 0.88580259 0.88496383 0.88412311 0.88832753        nan        nan\n",
      "        nan        nan        nan 0.88327805 0.88608546 0.8813153\n",
      " 0.88384024 0.88552484 0.88327765 0.88047497 0.88355895 0.88327726\n",
      " 0.88411917 0.88552169 0.88215603 0.88215681 0.88328041 0.88355973]\n",
      "  warnings.warn(\n"
     ]
    },
    {
     "name": "stdout",
     "output_type": "stream",
     "text": [
      "{'criterion': 'entropy', 'max_features': 'sqrt', 'min_samples_leaf': 1, 'min_samples_split': 2, 'n_estimators': 101}\n"
     ]
    }
   ],
   "source": [
    "forest_parameters = {'n_estimators': range (100, 105),\n",
    "                    'criterion': ['gini','entropy'],\n",
    "                    'min_samples_split': range(1,5),\n",
    "                    'min_samples_leaf': range(0,5),\n",
    "                    'max_features': ['auto','sqrt', 'log2']\n",
    "                    }\n",
    "grid_forest = GridSearchCV(RandomForestClassifier(), forest_parameters, cv=5)\n",
    "grid_forest.fit(np.array(Xtrain), np.array(Ytrain))\n",
    "forest_best_param = grid_forest.best_params_\n",
    "print(forest_best_param)"
   ]
  },
  {
   "cell_type": "code",
   "execution_count": 29,
   "metadata": {},
   "outputs": [
    {
     "data": {
      "text/plain": [
       "0.8863636363636364"
      ]
     },
     "execution_count": 29,
     "metadata": {},
     "output_type": "execute_result"
    }
   ],
   "source": [
    "best_forest_model = RandomForestClassifier(n_estimators=101,\n",
    "                                            criterion='entropy',\n",
    "                                            min_samples_split=2,\n",
    "                                            min_samples_leaf=1,\n",
    "                                            max_features='sqrt',\n",
    "                                            )\n",
    "best_forest_model.fit(Xtrain, Ytrain)\n",
    "accuracy_score(best_forest_model.predict(Xtest), Ytest)"
   ]
  },
  {
   "cell_type": "markdown",
   "metadata": {},
   "source": [
    "### 4. Сделать выводы. Какой классификатор и с какими гиперпараметрами дал в итоге наилучший результат для выбранного датасета на отложенной выбоке"
   ]
  },
  {
   "cell_type": "code",
   "execution_count": null,
   "metadata": {},
   "outputs": [],
   "source": []
  }
 ],
 "metadata": {
  "interpreter": {
   "hash": "dbce27adb2ab877a2158da408b3aeeff83491eafc7a68bf4170d3bb522766954"
  },
  "kernelspec": {
   "display_name": "Python 3.10.4 64-bit",
   "language": "python",
   "name": "python3"
  },
  "language_info": {
   "codemirror_mode": {
    "name": "ipython",
    "version": 3
   },
   "file_extension": ".py",
   "mimetype": "text/x-python",
   "name": "python",
   "nbconvert_exporter": "python",
   "pygments_lexer": "ipython3",
   "version": "3.10.4"
  },
  "orig_nbformat": 4
 },
 "nbformat": 4,
 "nbformat_minor": 2
}
