{
 "cells": [
  {
   "cell_type": "markdown",
   "metadata": {},
   "source": [
    "# Лабараторная работа 3\n",
    "## Классификация в sklearn. Метрики классификации.\n",
    "Выполнил: 6131-010402D, **Музыка Артем Алексеевич**"
   ]
  },
  {
   "cell_type": "markdown",
   "metadata": {},
   "source": [
    "### Выбор и описание набора данных"
   ]
  },
  {
   "cell_type": "code",
   "execution_count": 1,
   "metadata": {},
   "outputs": [],
   "source": [
    "import pandas as pd"
   ]
  },
  {
   "cell_type": "code",
   "execution_count": 2,
   "metadata": {},
   "outputs": [
    {
     "name": "stderr",
     "output_type": "stream",
     "text": [
      "C:\\Temp/ipykernel_1640/810925950.py:1: DtypeWarning: Columns (19) have mixed types. Specify dtype option on import or set low_memory=False.\n",
      "  df = pd.read_csv('data/spotify.csv')\n"
     ]
    }
   ],
   "source": [
    "df = pd.read_csv('data/spotify.csv')"
   ]
  },
  {
   "cell_type": "code",
   "execution_count": 3,
   "metadata": {},
   "outputs": [
    {
     "data": {
      "text/html": [
       "<div>\n",
       "<style scoped>\n",
       "    .dataframe tbody tr th:only-of-type {\n",
       "        vertical-align: middle;\n",
       "    }\n",
       "\n",
       "    .dataframe tbody tr th {\n",
       "        vertical-align: top;\n",
       "    }\n",
       "\n",
       "    .dataframe thead th {\n",
       "        text-align: right;\n",
       "    }\n",
       "</style>\n",
       "<table border=\"1\" class=\"dataframe\">\n",
       "  <thead>\n",
       "    <tr style=\"text-align: right;\">\n",
       "      <th></th>\n",
       "      <th>danceability</th>\n",
       "      <th>energy</th>\n",
       "      <th>key</th>\n",
       "      <th>loudness</th>\n",
       "      <th>mode</th>\n",
       "      <th>speechiness</th>\n",
       "      <th>acousticness</th>\n",
       "      <th>instrumentalness</th>\n",
       "      <th>liveness</th>\n",
       "      <th>valence</th>\n",
       "      <th>...</th>\n",
       "      <th>id</th>\n",
       "      <th>uri</th>\n",
       "      <th>track_href</th>\n",
       "      <th>analysis_url</th>\n",
       "      <th>duration_ms</th>\n",
       "      <th>time_signature</th>\n",
       "      <th>genre</th>\n",
       "      <th>song_name</th>\n",
       "      <th>Unnamed: 0</th>\n",
       "      <th>title</th>\n",
       "    </tr>\n",
       "  </thead>\n",
       "  <tbody>\n",
       "    <tr>\n",
       "      <th>0</th>\n",
       "      <td>0.831</td>\n",
       "      <td>0.814</td>\n",
       "      <td>2</td>\n",
       "      <td>-7.364</td>\n",
       "      <td>1</td>\n",
       "      <td>0.4200</td>\n",
       "      <td>0.0598</td>\n",
       "      <td>0.013400</td>\n",
       "      <td>0.0556</td>\n",
       "      <td>0.3890</td>\n",
       "      <td>...</td>\n",
       "      <td>2Vc6NJ9PW9gD9q343XFRKx</td>\n",
       "      <td>spotify:track:2Vc6NJ9PW9gD9q343XFRKx</td>\n",
       "      <td>https://api.spotify.com/v1/tracks/2Vc6NJ9PW9gD...</td>\n",
       "      <td>https://api.spotify.com/v1/audio-analysis/2Vc6...</td>\n",
       "      <td>124539</td>\n",
       "      <td>4</td>\n",
       "      <td>Dark Trap</td>\n",
       "      <td>Mercury: Retrograde</td>\n",
       "      <td>NaN</td>\n",
       "      <td>NaN</td>\n",
       "    </tr>\n",
       "    <tr>\n",
       "      <th>1</th>\n",
       "      <td>0.719</td>\n",
       "      <td>0.493</td>\n",
       "      <td>8</td>\n",
       "      <td>-7.230</td>\n",
       "      <td>1</td>\n",
       "      <td>0.0794</td>\n",
       "      <td>0.4010</td>\n",
       "      <td>0.000000</td>\n",
       "      <td>0.1180</td>\n",
       "      <td>0.1240</td>\n",
       "      <td>...</td>\n",
       "      <td>7pgJBLVz5VmnL7uGHmRj6p</td>\n",
       "      <td>spotify:track:7pgJBLVz5VmnL7uGHmRj6p</td>\n",
       "      <td>https://api.spotify.com/v1/tracks/7pgJBLVz5Vmn...</td>\n",
       "      <td>https://api.spotify.com/v1/audio-analysis/7pgJ...</td>\n",
       "      <td>224427</td>\n",
       "      <td>4</td>\n",
       "      <td>Dark Trap</td>\n",
       "      <td>Pathology</td>\n",
       "      <td>NaN</td>\n",
       "      <td>NaN</td>\n",
       "    </tr>\n",
       "    <tr>\n",
       "      <th>2</th>\n",
       "      <td>0.850</td>\n",
       "      <td>0.893</td>\n",
       "      <td>5</td>\n",
       "      <td>-4.783</td>\n",
       "      <td>1</td>\n",
       "      <td>0.0623</td>\n",
       "      <td>0.0138</td>\n",
       "      <td>0.000004</td>\n",
       "      <td>0.3720</td>\n",
       "      <td>0.0391</td>\n",
       "      <td>...</td>\n",
       "      <td>0vSWgAlfpye0WCGeNmuNhy</td>\n",
       "      <td>spotify:track:0vSWgAlfpye0WCGeNmuNhy</td>\n",
       "      <td>https://api.spotify.com/v1/tracks/0vSWgAlfpye0...</td>\n",
       "      <td>https://api.spotify.com/v1/audio-analysis/0vSW...</td>\n",
       "      <td>98821</td>\n",
       "      <td>4</td>\n",
       "      <td>Dark Trap</td>\n",
       "      <td>Symbiote</td>\n",
       "      <td>NaN</td>\n",
       "      <td>NaN</td>\n",
       "    </tr>\n",
       "  </tbody>\n",
       "</table>\n",
       "<p>3 rows × 22 columns</p>\n",
       "</div>"
      ],
      "text/plain": [
       "   danceability  energy  key  loudness  mode  speechiness  acousticness  \\\n",
       "0         0.831   0.814    2    -7.364     1       0.4200        0.0598   \n",
       "1         0.719   0.493    8    -7.230     1       0.0794        0.4010   \n",
       "2         0.850   0.893    5    -4.783     1       0.0623        0.0138   \n",
       "\n",
       "   instrumentalness  liveness  valence  ...                      id  \\\n",
       "0          0.013400    0.0556   0.3890  ...  2Vc6NJ9PW9gD9q343XFRKx   \n",
       "1          0.000000    0.1180   0.1240  ...  7pgJBLVz5VmnL7uGHmRj6p   \n",
       "2          0.000004    0.3720   0.0391  ...  0vSWgAlfpye0WCGeNmuNhy   \n",
       "\n",
       "                                    uri  \\\n",
       "0  spotify:track:2Vc6NJ9PW9gD9q343XFRKx   \n",
       "1  spotify:track:7pgJBLVz5VmnL7uGHmRj6p   \n",
       "2  spotify:track:0vSWgAlfpye0WCGeNmuNhy   \n",
       "\n",
       "                                          track_href  \\\n",
       "0  https://api.spotify.com/v1/tracks/2Vc6NJ9PW9gD...   \n",
       "1  https://api.spotify.com/v1/tracks/7pgJBLVz5Vmn...   \n",
       "2  https://api.spotify.com/v1/tracks/0vSWgAlfpye0...   \n",
       "\n",
       "                                        analysis_url duration_ms  \\\n",
       "0  https://api.spotify.com/v1/audio-analysis/2Vc6...      124539   \n",
       "1  https://api.spotify.com/v1/audio-analysis/7pgJ...      224427   \n",
       "2  https://api.spotify.com/v1/audio-analysis/0vSW...       98821   \n",
       "\n",
       "  time_signature      genre            song_name Unnamed: 0 title  \n",
       "0              4  Dark Trap  Mercury: Retrograde        NaN   NaN  \n",
       "1              4  Dark Trap            Pathology        NaN   NaN  \n",
       "2              4  Dark Trap             Symbiote        NaN   NaN  \n",
       "\n",
       "[3 rows x 22 columns]"
      ]
     },
     "execution_count": 3,
     "metadata": {},
     "output_type": "execute_result"
    }
   ],
   "source": [
    "df.head(3)"
   ]
  },
  {
   "cell_type": "markdown",
   "metadata": {},
   "source": [
    "10. Колонки с 0 по 10 являются характеристиками песен, представленнные в `float64` или `int64` типе. \n",
    "11. **type** - тип файла в экосистеме spotify. Тип: `object` \n",
    "12.  **id** - является буквенно-численным идентификатором песни. Тип: `object`\n",
    "13.  **uri** - своего рода ссылка на файл. Тип: `object` \n",
    "14.  **track_href** своего рода https-ссылка на файл. Тип: `object` \n",
    "15.  **analysis_url** своего рода https-ссылка на анализ. Тип: `object` \n",
    "16.  **duration_ms** - продолжительность трека в милисекундах. Тип: `int64`\n",
    "17.  **time_signature** - размер песни. Тип:  `int64`  \n",
    "18.  **genre** - жанр песни. Будет выступать в роли классов для классификации. Тип: `object`\n",
    "19.  **song_name** - название песни. Тип: `object`\n",
    "20.  **Unnamed: 0** - безыменные треки. Тип: `int64`\n",
    "21.  **title** - название плейлиста в котором хранится трек. Тип: `object` "
   ]
  },
  {
   "cell_type": "markdown",
   "metadata": {},
   "source": [
    "### Преобработка наборов данных\n",
    "Сначала удалим колонки, которые не имеют для нас значения. "
   ]
  },
  {
   "cell_type": "code",
   "execution_count": 4,
   "metadata": {},
   "outputs": [],
   "source": [
    "for_delete = ['type','uri','track_href','analysis_url','song_name','Unnamed: 0', 'title', 'id']\n",
    "for f in for_delete:\n",
    "    df.pop(f)"
   ]
  },
  {
   "cell_type": "markdown",
   "metadata": {},
   "source": [
    "Теперь создадим отдельно список жанров и преобразуем его в целочисленный вид."
   ]
  },
  {
   "cell_type": "code",
   "execution_count": 5,
   "metadata": {},
   "outputs": [],
   "source": [
    "genres = list(df[\"genre\"])"
   ]
  },
  {
   "cell_type": "code",
   "execution_count": 6,
   "metadata": {},
   "outputs": [],
   "source": [
    "def repitless(lst):\n",
    "    new_list = []\n",
    "    for g in lst:\n",
    "        if g not in new_list:\n",
    "            new_list.append(g)\n",
    "    return new_list\n",
    "\n",
    "def str_to_int(lst):\n",
    "    less = repitless(lst)\n",
    "    for g in range(len(less)):\n",
    "        for genre in range(len(lst)):\n",
    "            if lst[genre] == less[g]:\n",
    "                lst[genre] = g\n",
    "    return lst"
   ]
  },
  {
   "cell_type": "code",
   "execution_count": 7,
   "metadata": {},
   "outputs": [],
   "source": [
    "Y_spotify = str_to_int(list(df[\"genre\"]))"
   ]
  },
  {
   "cell_type": "code",
   "execution_count": 8,
   "metadata": {},
   "outputs": [
    {
     "data": {
      "text/plain": [
       "0        Dark Trap\n",
       "1        Dark Trap\n",
       "2        Dark Trap\n",
       "3        Dark Trap\n",
       "4        Dark Trap\n",
       "           ...    \n",
       "42300    hardstyle\n",
       "42301    hardstyle\n",
       "42302    hardstyle\n",
       "42303    hardstyle\n",
       "42304    hardstyle\n",
       "Name: genre, Length: 42305, dtype: object"
      ]
     },
     "execution_count": 8,
     "metadata": {},
     "output_type": "execute_result"
    }
   ],
   "source": [
    "df.pop('genre')"
   ]
  },
  {
   "cell_type": "markdown",
   "metadata": {},
   "source": [
    "## 1. Многоклассовая классификация\n",
    "### 1.1 Простой пример с оценкой accuracy.\n",
    "Задача состоит в следующем. Делим датасет на тестовую и тренирочную выборки. Обучаем классификатор распозновать жанр на основе характеристик песен. Проверяем результативность. Всего в датасете представлено 15 жанров (классов). В качестве модели используем простой линейный классификатор."
   ]
  },
  {
   "cell_type": "code",
   "execution_count": 9,
   "metadata": {},
   "outputs": [],
   "source": [
    "from sklearn.utils import shuffle\n",
    "from sklearn.linear_model import LogisticRegression\n",
    "from sklearn.metrics import accuracy_score"
   ]
  },
  {
   "cell_type": "code",
   "execution_count": 10,
   "metadata": {},
   "outputs": [],
   "source": [
    "X_spotify = []\n",
    "for i in range(len(df)):\n",
    "    X_spotify.append([])\n",
    "for column in list(df):\n",
    "    new_list = list(df[column])\n",
    "    for i in range(len(new_list)):\n",
    "        X_spotify[i].append(new_list[i])\n"
   ]
  },
  {
   "cell_type": "code",
   "execution_count": 11,
   "metadata": {},
   "outputs": [],
   "source": [
    "data_spotify, labels_spotify = shuffle(X_spotify, Y_spotify)"
   ]
  },
  {
   "cell_type": "code",
   "execution_count": 12,
   "metadata": {},
   "outputs": [],
   "source": [
    "test_size = int(len(data_spotify) * 0.9)\n",
    "Xtrain_spotify = data_spotify[:test_size]\n",
    "Ytrain_spotify = labels_spotify[:test_size]\n",
    "Xtest_spotify = data_spotify[test_size:]\n",
    "Ytest_spotify = labels_spotify[test_size:]"
   ]
  },
  {
   "cell_type": "code",
   "execution_count": 13,
   "metadata": {},
   "outputs": [
    {
     "data": {
      "text/plain": [
       "0.22406050579059325"
      ]
     },
     "execution_count": 13,
     "metadata": {},
     "output_type": "execute_result"
    }
   ],
   "source": [
    "clf = LogisticRegression()\n",
    "clf.fit(Xtrain_spotify, Ytrain_spotify)\n",
    "predictions = clf.predict(Xtest_spotify)\n",
    "accuracy_score(Ytest_spotify, predictions)"
   ]
  },
  {
   "cell_type": "markdown",
   "metadata": {},
   "source": [
    "### 1.2 С применением кросс-валидации"
   ]
  },
  {
   "cell_type": "code",
   "execution_count": 14,
   "metadata": {},
   "outputs": [],
   "source": [
    "from sklearn.model_selection import cross_validate"
   ]
  },
  {
   "cell_type": "code",
   "execution_count": 15,
   "metadata": {},
   "outputs": [
    {
     "data": {
      "text/plain": [
       "{'fit_time': array([2.70150208, 4.27140784, 3.91179252, 3.81708336, 3.05927587]),\n",
       " 'score_time': array([0.03720999, 0.03199887, 0.03201151, 0.03198576, 0.03357267]),\n",
       " 'test_score': array([0.22219596, 0.22810542, 0.22715991, 0.22763267, 0.22432337])}"
      ]
     },
     "execution_count": 15,
     "metadata": {},
     "output_type": "execute_result"
    }
   ],
   "source": [
    "cross_validate(clf, data_spotify, labels_spotify, cv=5)"
   ]
  },
  {
   "cell_type": "markdown",
   "metadata": {},
   "source": [
    "### 1.3 Работа с гиперпараметрами"
   ]
  },
  {
   "cell_type": "markdown",
   "metadata": {},
   "source": [
    "`LogisticRegression` имеет следующие гиперпараметры:\n",
    "1. **penalty:**{‘l1’, ‘l2’, ‘elasticnet’, ‘none’}, default=’l2’\n",
    "2. **dual**: bool, default=False\n",
    "3. **tolf:** loat, default=1e-4\n",
    "4. **C:** float, default=1.0\n",
    "5. **fit_intercept:** bool, default=True\n",
    "6. **intercept_scaling:** float, default=1\n",
    "7. **class_weight:** dict or ‘balanced’, default=None\n",
    "8. **random_state:** int, RandomState instance, default=None\n",
    "9. **solver:** {‘newton-cg’, ‘lbfgs’, ‘liblinear’, ‘sag’, ‘saga’}, default=’lbfgs’"
   ]
  },
  {
   "cell_type": "code",
   "execution_count": 16,
   "metadata": {},
   "outputs": [],
   "source": [
    "from random import randint"
   ]
  },
  {
   "cell_type": "code",
   "execution_count": 17,
   "metadata": {},
   "outputs": [],
   "source": [
    "penalty = ['l2','none']\n",
    "dual = [False,True]\n",
    "c = 1\n",
    "fit_intercept = [False, True]\n",
    "intercept_scaling_p = 1\n",
    "class_weight = ['balanced', None]\n",
    "solver = ['sag','saga', 'liblinear']"
   ]
  },
  {
   "cell_type": "code",
   "execution_count": 18,
   "metadata": {},
   "outputs": [
    {
     "name": "stderr",
     "output_type": "stream",
     "text": [
      "C:\\Users\\Liptee\\AppData\\Local\\Programs\\Python\\Python39\\lib\\site-packages\\sklearn\\linear_model\\_sag.py:352: ConvergenceWarning: The max_iter was reached which means the coef_ did not converge\n",
      "  warnings.warn(\n"
     ]
    },
    {
     "name": "stdout",
     "output_type": "stream",
     "text": [
      "LogisticRegression(C=1, class_weight='balanced', fit_intercept=False,\n",
      "                   random_state=5, solver='sag') score 0.06523280548333728\n"
     ]
    },
    {
     "name": "stderr",
     "output_type": "stream",
     "text": [
      "C:\\Users\\Liptee\\AppData\\Local\\Programs\\Python\\Python39\\lib\\site-packages\\sklearn\\linear_model\\_sag.py:352: ConvergenceWarning: The max_iter was reached which means the coef_ did not converge\n",
      "  warnings.warn(\n"
     ]
    },
    {
     "name": "stdout",
     "output_type": "stream",
     "text": [
      "LogisticRegression(C=1.1, class_weight='balanced', fit_intercept=False,\n",
      "                   intercept_scaling=1.1, random_state=1, solver='saga') score 0.06523280548333728\n",
      "LogisticRegression(C=1.2000000000000002, class_weight='balanced',\n",
      "                   fit_intercept=False, intercept_scaling=1.2000000000000002,\n",
      "                   random_state=3, solver='liblinear') score 0.19309855826045852\n"
     ]
    },
    {
     "name": "stderr",
     "output_type": "stream",
     "text": [
      "C:\\Users\\Liptee\\AppData\\Local\\Programs\\Python\\Python39\\lib\\site-packages\\sklearn\\linear_model\\_sag.py:352: ConvergenceWarning: The max_iter was reached which means the coef_ did not converge\n",
      "  warnings.warn(\n"
     ]
    },
    {
     "name": "stdout",
     "output_type": "stream",
     "text": [
      "LogisticRegression(C=1.3000000000000003, fit_intercept=False,\n",
      "                   intercept_scaling=1.3000000000000003, random_state=9,\n",
      "                   solver='sag') score 0.06523280548333728\n"
     ]
    },
    {
     "name": "stderr",
     "output_type": "stream",
     "text": [
      "C:\\Users\\Liptee\\AppData\\Local\\Programs\\Python\\Python39\\lib\\site-packages\\sklearn\\linear_model\\_sag.py:352: ConvergenceWarning: The max_iter was reached which means the coef_ did not converge\n",
      "  warnings.warn(\n"
     ]
    },
    {
     "name": "stdout",
     "output_type": "stream",
     "text": [
      "LogisticRegression(C=1.4000000000000004, fit_intercept=False,\n",
      "                   intercept_scaling=1.4000000000000004, random_state=4,\n",
      "                   solver='saga') score 0.06523280548333728\n",
      "LogisticRegression(C=1.5000000000000004, fit_intercept=False,\n",
      "                   intercept_scaling=1.5000000000000004, random_state=6,\n",
      "                   solver='liblinear') score 0.2384779012053888\n"
     ]
    },
    {
     "name": "stderr",
     "output_type": "stream",
     "text": [
      "C:\\Users\\Liptee\\AppData\\Local\\Programs\\Python\\Python39\\lib\\site-packages\\sklearn\\linear_model\\_sag.py:352: ConvergenceWarning: The max_iter was reached which means the coef_ did not converge\n",
      "  warnings.warn(\n"
     ]
    },
    {
     "name": "stdout",
     "output_type": "stream",
     "text": [
      "LogisticRegression(C=1.6000000000000005, class_weight='balanced',\n",
      "                   fit_intercept=False, intercept_scaling=1.6000000000000005,\n",
      "                   random_state=4, solver='sag') score 0.06523280548333728\n"
     ]
    },
    {
     "name": "stderr",
     "output_type": "stream",
     "text": [
      "C:\\Users\\Liptee\\AppData\\Local\\Programs\\Python\\Python39\\lib\\site-packages\\sklearn\\linear_model\\_sag.py:352: ConvergenceWarning: The max_iter was reached which means the coef_ did not converge\n",
      "  warnings.warn(\n"
     ]
    },
    {
     "name": "stdout",
     "output_type": "stream",
     "text": [
      "LogisticRegression(C=1.7000000000000006, class_weight='balanced',\n",
      "                   fit_intercept=False, intercept_scaling=1.7000000000000006,\n",
      "                   random_state=2, solver='saga') score 0.06523280548333728\n",
      "LogisticRegression(C=1.8000000000000007, class_weight='balanced',\n",
      "                   fit_intercept=False, intercept_scaling=1.8000000000000007,\n",
      "                   random_state=3, solver='liblinear') score 0.19309855826045852\n"
     ]
    },
    {
     "name": "stderr",
     "output_type": "stream",
     "text": [
      "C:\\Users\\Liptee\\AppData\\Local\\Programs\\Python\\Python39\\lib\\site-packages\\sklearn\\linear_model\\_sag.py:352: ConvergenceWarning: The max_iter was reached which means the coef_ did not converge\n",
      "  warnings.warn(\n"
     ]
    },
    {
     "name": "stdout",
     "output_type": "stream",
     "text": [
      "LogisticRegression(C=1.9000000000000008, fit_intercept=False,\n",
      "                   intercept_scaling=1.9000000000000008, random_state=6,\n",
      "                   solver='sag') score 0.06523280548333728\n"
     ]
    },
    {
     "name": "stderr",
     "output_type": "stream",
     "text": [
      "C:\\Users\\Liptee\\AppData\\Local\\Programs\\Python\\Python39\\lib\\site-packages\\sklearn\\linear_model\\_sag.py:352: ConvergenceWarning: The max_iter was reached which means the coef_ did not converge\n",
      "  warnings.warn(\n"
     ]
    },
    {
     "name": "stdout",
     "output_type": "stream",
     "text": [
      "LogisticRegression(C=2.000000000000001, fit_intercept=False,\n",
      "                   intercept_scaling=2.000000000000001, random_state=5,\n",
      "                   solver='saga') score 0.06523280548333728\n",
      "LogisticRegression(C=2.100000000000001, fit_intercept=False,\n",
      "                   intercept_scaling=2.100000000000001, random_state=10,\n",
      "                   solver='liblinear') score 0.2384779012053888\n"
     ]
    },
    {
     "name": "stderr",
     "output_type": "stream",
     "text": [
      "C:\\Users\\Liptee\\AppData\\Local\\Programs\\Python\\Python39\\lib\\site-packages\\sklearn\\linear_model\\_sag.py:352: ConvergenceWarning: The max_iter was reached which means the coef_ did not converge\n",
      "  warnings.warn(\n"
     ]
    },
    {
     "name": "stdout",
     "output_type": "stream",
     "text": [
      "LogisticRegression(C=2.200000000000001, class_weight='balanced',\n",
      "                   fit_intercept=False, intercept_scaling=2.200000000000001,\n",
      "                   random_state=4, solver='sag') score 0.06523280548333728\n"
     ]
    },
    {
     "name": "stderr",
     "output_type": "stream",
     "text": [
      "C:\\Users\\Liptee\\AppData\\Local\\Programs\\Python\\Python39\\lib\\site-packages\\sklearn\\linear_model\\_sag.py:352: ConvergenceWarning: The max_iter was reached which means the coef_ did not converge\n",
      "  warnings.warn(\n"
     ]
    },
    {
     "name": "stdout",
     "output_type": "stream",
     "text": [
      "LogisticRegression(C=2.300000000000001, class_weight='balanced',\n",
      "                   fit_intercept=False, intercept_scaling=2.300000000000001,\n",
      "                   random_state=8, solver='saga') score 0.06523280548333728\n",
      "LogisticRegression(C=2.4000000000000012, class_weight='balanced',\n",
      "                   fit_intercept=False, intercept_scaling=2.4000000000000012,\n",
      "                   random_state=8, solver='liblinear') score 0.19309855826045852\n"
     ]
    },
    {
     "name": "stderr",
     "output_type": "stream",
     "text": [
      "C:\\Users\\Liptee\\AppData\\Local\\Programs\\Python\\Python39\\lib\\site-packages\\sklearn\\linear_model\\_sag.py:352: ConvergenceWarning: The max_iter was reached which means the coef_ did not converge\n",
      "  warnings.warn(\n"
     ]
    },
    {
     "name": "stdout",
     "output_type": "stream",
     "text": [
      "LogisticRegression(C=2.5000000000000013, fit_intercept=False,\n",
      "                   intercept_scaling=2.5000000000000013, random_state=5,\n",
      "                   solver='sag') score 0.06523280548333728\n"
     ]
    },
    {
     "name": "stderr",
     "output_type": "stream",
     "text": [
      "C:\\Users\\Liptee\\AppData\\Local\\Programs\\Python\\Python39\\lib\\site-packages\\sklearn\\linear_model\\_sag.py:352: ConvergenceWarning: The max_iter was reached which means the coef_ did not converge\n",
      "  warnings.warn(\n"
     ]
    },
    {
     "name": "stdout",
     "output_type": "stream",
     "text": [
      "LogisticRegression(C=2.6000000000000014, fit_intercept=False,\n",
      "                   intercept_scaling=2.6000000000000014, random_state=4,\n",
      "                   solver='saga') score 0.06523280548333728\n",
      "LogisticRegression(C=2.7000000000000015, fit_intercept=False,\n",
      "                   intercept_scaling=2.7000000000000015, random_state=10,\n",
      "                   solver='liblinear') score 0.2384779012053888\n"
     ]
    },
    {
     "name": "stderr",
     "output_type": "stream",
     "text": [
      "C:\\Users\\Liptee\\AppData\\Local\\Programs\\Python\\Python39\\lib\\site-packages\\sklearn\\linear_model\\_sag.py:352: ConvergenceWarning: The max_iter was reached which means the coef_ did not converge\n",
      "  warnings.warn(\n"
     ]
    },
    {
     "name": "stdout",
     "output_type": "stream",
     "text": [
      "LogisticRegression(C=2.8000000000000016, class_weight='balanced',\n",
      "                   fit_intercept=False, intercept_scaling=2.8000000000000016,\n",
      "                   random_state=9, solver='sag') score 0.06523280548333728\n"
     ]
    },
    {
     "name": "stderr",
     "output_type": "stream",
     "text": [
      "C:\\Users\\Liptee\\AppData\\Local\\Programs\\Python\\Python39\\lib\\site-packages\\sklearn\\linear_model\\_sag.py:352: ConvergenceWarning: The max_iter was reached which means the coef_ did not converge\n",
      "  warnings.warn(\n"
     ]
    },
    {
     "name": "stdout",
     "output_type": "stream",
     "text": [
      "LogisticRegression(C=2.9000000000000017, class_weight='balanced',\n",
      "                   fit_intercept=False, intercept_scaling=2.9000000000000017,\n",
      "                   random_state=6, solver='saga') score 0.06523280548333728\n",
      "LogisticRegression(C=3.0000000000000018, class_weight='balanced',\n",
      "                   fit_intercept=False, intercept_scaling=3.0000000000000018,\n",
      "                   random_state=2, solver='liblinear') score 0.19309855826045852\n"
     ]
    },
    {
     "name": "stderr",
     "output_type": "stream",
     "text": [
      "C:\\Users\\Liptee\\AppData\\Local\\Programs\\Python\\Python39\\lib\\site-packages\\sklearn\\linear_model\\_sag.py:352: ConvergenceWarning: The max_iter was reached which means the coef_ did not converge\n",
      "  warnings.warn(\n"
     ]
    },
    {
     "name": "stdout",
     "output_type": "stream",
     "text": [
      "LogisticRegression(C=3.100000000000002, fit_intercept=False,\n",
      "                   intercept_scaling=3.100000000000002, random_state=6,\n",
      "                   solver='sag') score 0.06523280548333728\n"
     ]
    },
    {
     "name": "stderr",
     "output_type": "stream",
     "text": [
      "C:\\Users\\Liptee\\AppData\\Local\\Programs\\Python\\Python39\\lib\\site-packages\\sklearn\\linear_model\\_sag.py:352: ConvergenceWarning: The max_iter was reached which means the coef_ did not converge\n",
      "  warnings.warn(\n"
     ]
    },
    {
     "name": "stdout",
     "output_type": "stream",
     "text": [
      "LogisticRegression(C=3.200000000000002, fit_intercept=False,\n",
      "                   intercept_scaling=3.200000000000002, random_state=6,\n",
      "                   solver='saga') score 0.06523280548333728\n",
      "LogisticRegression(C=3.300000000000002, fit_intercept=False,\n",
      "                   intercept_scaling=3.300000000000002, random_state=10,\n",
      "                   solver='liblinear') score 0.2384779012053888\n"
     ]
    },
    {
     "name": "stderr",
     "output_type": "stream",
     "text": [
      "C:\\Users\\Liptee\\AppData\\Local\\Programs\\Python\\Python39\\lib\\site-packages\\sklearn\\linear_model\\_sag.py:352: ConvergenceWarning: The max_iter was reached which means the coef_ did not converge\n",
      "  warnings.warn(\n"
     ]
    },
    {
     "name": "stdout",
     "output_type": "stream",
     "text": [
      "LogisticRegression(C=3.400000000000002, class_weight='balanced',\n",
      "                   fit_intercept=False, intercept_scaling=3.400000000000002,\n",
      "                   random_state=3, solver='sag') score 0.06523280548333728\n"
     ]
    },
    {
     "name": "stderr",
     "output_type": "stream",
     "text": [
      "C:\\Users\\Liptee\\AppData\\Local\\Programs\\Python\\Python39\\lib\\site-packages\\sklearn\\linear_model\\_sag.py:352: ConvergenceWarning: The max_iter was reached which means the coef_ did not converge\n",
      "  warnings.warn(\n"
     ]
    },
    {
     "name": "stdout",
     "output_type": "stream",
     "text": [
      "LogisticRegression(C=3.500000000000002, class_weight='balanced',\n",
      "                   fit_intercept=False, intercept_scaling=3.500000000000002,\n",
      "                   random_state=9, solver='saga') score 0.06523280548333728\n",
      "LogisticRegression(C=3.6000000000000023, class_weight='balanced',\n",
      "                   fit_intercept=False, intercept_scaling=3.6000000000000023,\n",
      "                   random_state=6, solver='liblinear') score 0.19309855826045852\n"
     ]
    },
    {
     "name": "stderr",
     "output_type": "stream",
     "text": [
      "C:\\Users\\Liptee\\AppData\\Local\\Programs\\Python\\Python39\\lib\\site-packages\\sklearn\\linear_model\\_sag.py:352: ConvergenceWarning: The max_iter was reached which means the coef_ did not converge\n",
      "  warnings.warn(\n"
     ]
    },
    {
     "name": "stdout",
     "output_type": "stream",
     "text": [
      "LogisticRegression(C=3.7000000000000024, fit_intercept=False,\n",
      "                   intercept_scaling=3.7000000000000024, random_state=8,\n",
      "                   solver='sag') score 0.06523280548333728\n"
     ]
    },
    {
     "name": "stderr",
     "output_type": "stream",
     "text": [
      "C:\\Users\\Liptee\\AppData\\Local\\Programs\\Python\\Python39\\lib\\site-packages\\sklearn\\linear_model\\_sag.py:352: ConvergenceWarning: The max_iter was reached which means the coef_ did not converge\n",
      "  warnings.warn(\n"
     ]
    },
    {
     "name": "stdout",
     "output_type": "stream",
     "text": [
      "LogisticRegression(C=3.8000000000000025, fit_intercept=False,\n",
      "                   intercept_scaling=3.8000000000000025, random_state=9,\n",
      "                   solver='saga') score 0.06523280548333728\n",
      "LogisticRegression(C=3.9000000000000026, fit_intercept=False,\n",
      "                   intercept_scaling=3.9000000000000026, random_state=9,\n",
      "                   solver='liblinear') score 0.2384779012053888\n"
     ]
    },
    {
     "name": "stderr",
     "output_type": "stream",
     "text": [
      "C:\\Users\\Liptee\\AppData\\Local\\Programs\\Python\\Python39\\lib\\site-packages\\sklearn\\linear_model\\_sag.py:352: ConvergenceWarning: The max_iter was reached which means the coef_ did not converge\n",
      "  warnings.warn(\n"
     ]
    },
    {
     "name": "stdout",
     "output_type": "stream",
     "text": [
      "LogisticRegression(C=4.000000000000003, class_weight='balanced',\n",
      "                   fit_intercept=False, intercept_scaling=4.000000000000003,\n",
      "                   random_state=4, solver='sag') score 0.06523280548333728\n"
     ]
    },
    {
     "name": "stderr",
     "output_type": "stream",
     "text": [
      "C:\\Users\\Liptee\\AppData\\Local\\Programs\\Python\\Python39\\lib\\site-packages\\sklearn\\linear_model\\_sag.py:352: ConvergenceWarning: The max_iter was reached which means the coef_ did not converge\n",
      "  warnings.warn(\n"
     ]
    },
    {
     "name": "stdout",
     "output_type": "stream",
     "text": [
      "LogisticRegression(C=4.100000000000002, class_weight='balanced',\n",
      "                   fit_intercept=False, intercept_scaling=4.100000000000002,\n",
      "                   random_state=8, solver='saga') score 0.06523280548333728\n",
      "LogisticRegression(C=4.200000000000002, class_weight='balanced',\n",
      "                   fit_intercept=False, intercept_scaling=4.200000000000002,\n",
      "                   random_state=6, solver='liblinear') score 0.19309855826045852\n"
     ]
    },
    {
     "name": "stderr",
     "output_type": "stream",
     "text": [
      "C:\\Users\\Liptee\\AppData\\Local\\Programs\\Python\\Python39\\lib\\site-packages\\sklearn\\linear_model\\_sag.py:352: ConvergenceWarning: The max_iter was reached which means the coef_ did not converge\n",
      "  warnings.warn(\n"
     ]
    },
    {
     "name": "stdout",
     "output_type": "stream",
     "text": [
      "LogisticRegression(C=4.300000000000002, fit_intercept=False,\n",
      "                   intercept_scaling=4.300000000000002, random_state=9,\n",
      "                   solver='sag') score 0.06523280548333728\n"
     ]
    },
    {
     "name": "stderr",
     "output_type": "stream",
     "text": [
      "C:\\Users\\Liptee\\AppData\\Local\\Programs\\Python\\Python39\\lib\\site-packages\\sklearn\\linear_model\\_sag.py:352: ConvergenceWarning: The max_iter was reached which means the coef_ did not converge\n",
      "  warnings.warn(\n"
     ]
    },
    {
     "name": "stdout",
     "output_type": "stream",
     "text": [
      "LogisticRegression(C=4.400000000000001, fit_intercept=False,\n",
      "                   intercept_scaling=4.400000000000001, random_state=3,\n",
      "                   solver='saga') score 0.06523280548333728\n",
      "LogisticRegression(C=4.500000000000001, fit_intercept=False,\n",
      "                   intercept_scaling=4.500000000000001, random_state=6,\n",
      "                   solver='liblinear') score 0.2384779012053888\n"
     ]
    },
    {
     "name": "stderr",
     "output_type": "stream",
     "text": [
      "C:\\Users\\Liptee\\AppData\\Local\\Programs\\Python\\Python39\\lib\\site-packages\\sklearn\\linear_model\\_sag.py:352: ConvergenceWarning: The max_iter was reached which means the coef_ did not converge\n",
      "  warnings.warn(\n"
     ]
    },
    {
     "name": "stdout",
     "output_type": "stream",
     "text": [
      "LogisticRegression(C=4.6000000000000005, class_weight='balanced',\n",
      "                   fit_intercept=False, intercept_scaling=4.6000000000000005,\n",
      "                   random_state=4, solver='sag') score 0.06523280548333728\n"
     ]
    },
    {
     "name": "stderr",
     "output_type": "stream",
     "text": [
      "C:\\Users\\Liptee\\AppData\\Local\\Programs\\Python\\Python39\\lib\\site-packages\\sklearn\\linear_model\\_sag.py:352: ConvergenceWarning: The max_iter was reached which means the coef_ did not converge\n",
      "  warnings.warn(\n"
     ]
    },
    {
     "name": "stdout",
     "output_type": "stream",
     "text": [
      "LogisticRegression(C=4.7, class_weight='balanced', fit_intercept=False,\n",
      "                   intercept_scaling=4.7, random_state=4, solver='saga') score 0.06523280548333728\n",
      "LogisticRegression(C=4.8, class_weight='balanced', fit_intercept=False,\n",
      "                   intercept_scaling=4.8, random_state=4, solver='liblinear') score 0.19309855826045852\n"
     ]
    },
    {
     "name": "stderr",
     "output_type": "stream",
     "text": [
      "C:\\Users\\Liptee\\AppData\\Local\\Programs\\Python\\Python39\\lib\\site-packages\\sklearn\\linear_model\\_sag.py:352: ConvergenceWarning: The max_iter was reached which means the coef_ did not converge\n",
      "  warnings.warn(\n"
     ]
    },
    {
     "name": "stdout",
     "output_type": "stream",
     "text": [
      "LogisticRegression(C=4.8999999999999995, fit_intercept=False,\n",
      "                   intercept_scaling=4.8999999999999995, random_state=10,\n",
      "                   solver='sag') score 0.06523280548333728\n"
     ]
    },
    {
     "name": "stderr",
     "output_type": "stream",
     "text": [
      "C:\\Users\\Liptee\\AppData\\Local\\Programs\\Python\\Python39\\lib\\site-packages\\sklearn\\linear_model\\_sag.py:352: ConvergenceWarning: The max_iter was reached which means the coef_ did not converge\n",
      "  warnings.warn(\n"
     ]
    },
    {
     "name": "stdout",
     "output_type": "stream",
     "text": [
      "LogisticRegression(C=4.999999999999999, fit_intercept=False,\n",
      "                   intercept_scaling=4.999999999999999, random_state=8,\n",
      "                   solver='saga') score 0.06523280548333728\n",
      "LogisticRegression(C=5.099999999999999, fit_intercept=False,\n",
      "                   intercept_scaling=5.099999999999999, random_state=10,\n",
      "                   solver='liblinear') score 0.2384779012053888\n"
     ]
    },
    {
     "name": "stderr",
     "output_type": "stream",
     "text": [
      "C:\\Users\\Liptee\\AppData\\Local\\Programs\\Python\\Python39\\lib\\site-packages\\sklearn\\linear_model\\_sag.py:352: ConvergenceWarning: The max_iter was reached which means the coef_ did not converge\n",
      "  warnings.warn(\n"
     ]
    },
    {
     "name": "stdout",
     "output_type": "stream",
     "text": [
      "LogisticRegression(C=5.199999999999998, class_weight='balanced',\n",
      "                   fit_intercept=False, intercept_scaling=5.199999999999998,\n",
      "                   random_state=8, solver='sag') score 0.06523280548333728\n"
     ]
    },
    {
     "name": "stderr",
     "output_type": "stream",
     "text": [
      "C:\\Users\\Liptee\\AppData\\Local\\Programs\\Python\\Python39\\lib\\site-packages\\sklearn\\linear_model\\_sag.py:352: ConvergenceWarning: The max_iter was reached which means the coef_ did not converge\n",
      "  warnings.warn(\n"
     ]
    },
    {
     "name": "stdout",
     "output_type": "stream",
     "text": [
      "LogisticRegression(C=5.299999999999998, class_weight='balanced',\n",
      "                   fit_intercept=False, intercept_scaling=5.299999999999998,\n",
      "                   random_state=10, solver='saga') score 0.06523280548333728\n",
      "LogisticRegression(C=5.399999999999998, class_weight='balanced',\n",
      "                   fit_intercept=False, intercept_scaling=5.399999999999998,\n",
      "                   random_state=1, solver='liblinear') score 0.19309855826045852\n"
     ]
    },
    {
     "name": "stderr",
     "output_type": "stream",
     "text": [
      "C:\\Users\\Liptee\\AppData\\Local\\Programs\\Python\\Python39\\lib\\site-packages\\sklearn\\linear_model\\_sag.py:352: ConvergenceWarning: The max_iter was reached which means the coef_ did not converge\n",
      "  warnings.warn(\n"
     ]
    },
    {
     "name": "stdout",
     "output_type": "stream",
     "text": [
      "LogisticRegression(C=5.499999999999997, fit_intercept=False,\n",
      "                   intercept_scaling=5.499999999999997, random_state=2,\n",
      "                   solver='sag') score 0.06523280548333728\n"
     ]
    },
    {
     "name": "stderr",
     "output_type": "stream",
     "text": [
      "C:\\Users\\Liptee\\AppData\\Local\\Programs\\Python\\Python39\\lib\\site-packages\\sklearn\\linear_model\\_sag.py:352: ConvergenceWarning: The max_iter was reached which means the coef_ did not converge\n",
      "  warnings.warn(\n"
     ]
    },
    {
     "name": "stdout",
     "output_type": "stream",
     "text": [
      "LogisticRegression(C=5.599999999999997, fit_intercept=False,\n",
      "                   intercept_scaling=5.599999999999997, random_state=4,\n",
      "                   solver='saga') score 0.06523280548333728\n",
      "LogisticRegression(C=5.699999999999997, fit_intercept=False,\n",
      "                   intercept_scaling=5.699999999999997, random_state=9,\n",
      "                   solver='liblinear') score 0.2384779012053888\n"
     ]
    },
    {
     "name": "stderr",
     "output_type": "stream",
     "text": [
      "C:\\Users\\Liptee\\AppData\\Local\\Programs\\Python\\Python39\\lib\\site-packages\\sklearn\\linear_model\\_sag.py:352: ConvergenceWarning: The max_iter was reached which means the coef_ did not converge\n",
      "  warnings.warn(\n"
     ]
    },
    {
     "name": "stdout",
     "output_type": "stream",
     "text": [
      "LogisticRegression(C=5.799999999999996, class_weight='balanced',\n",
      "                   fit_intercept=False, intercept_scaling=5.799999999999996,\n",
      "                   random_state=6, solver='sag') score 0.06523280548333728\n"
     ]
    },
    {
     "name": "stderr",
     "output_type": "stream",
     "text": [
      "C:\\Users\\Liptee\\AppData\\Local\\Programs\\Python\\Python39\\lib\\site-packages\\sklearn\\linear_model\\_sag.py:352: ConvergenceWarning: The max_iter was reached which means the coef_ did not converge\n",
      "  warnings.warn(\n"
     ]
    },
    {
     "name": "stdout",
     "output_type": "stream",
     "text": [
      "LogisticRegression(C=5.899999999999996, class_weight='balanced',\n",
      "                   fit_intercept=False, intercept_scaling=5.899999999999996,\n",
      "                   random_state=8, solver='saga') score 0.06523280548333728\n",
      "LogisticRegression(C=5.999999999999996, class_weight='balanced',\n",
      "                   fit_intercept=False, intercept_scaling=5.999999999999996,\n",
      "                   random_state=5, solver='liblinear') score 0.19309855826045852\n"
     ]
    },
    {
     "name": "stderr",
     "output_type": "stream",
     "text": [
      "C:\\Users\\Liptee\\AppData\\Local\\Programs\\Python\\Python39\\lib\\site-packages\\sklearn\\linear_model\\_sag.py:352: ConvergenceWarning: The max_iter was reached which means the coef_ did not converge\n",
      "  warnings.warn(\n"
     ]
    },
    {
     "name": "stdout",
     "output_type": "stream",
     "text": [
      "LogisticRegression(C=6.099999999999995, fit_intercept=False,\n",
      "                   intercept_scaling=6.099999999999995, random_state=4,\n",
      "                   solver='sag') score 0.06523280548333728\n"
     ]
    },
    {
     "name": "stderr",
     "output_type": "stream",
     "text": [
      "C:\\Users\\Liptee\\AppData\\Local\\Programs\\Python\\Python39\\lib\\site-packages\\sklearn\\linear_model\\_sag.py:352: ConvergenceWarning: The max_iter was reached which means the coef_ did not converge\n",
      "  warnings.warn(\n"
     ]
    },
    {
     "name": "stdout",
     "output_type": "stream",
     "text": [
      "LogisticRegression(C=6.199999999999995, fit_intercept=False,\n",
      "                   intercept_scaling=6.199999999999995, random_state=7,\n",
      "                   solver='saga') score 0.06523280548333728\n",
      "LogisticRegression(C=6.2999999999999945, fit_intercept=False,\n",
      "                   intercept_scaling=6.2999999999999945, random_state=2,\n",
      "                   solver='liblinear') score 0.2384779012053888\n"
     ]
    },
    {
     "name": "stderr",
     "output_type": "stream",
     "text": [
      "C:\\Users\\Liptee\\AppData\\Local\\Programs\\Python\\Python39\\lib\\site-packages\\sklearn\\linear_model\\_sag.py:352: ConvergenceWarning: The max_iter was reached which means the coef_ did not converge\n",
      "  warnings.warn(\n"
     ]
    },
    {
     "name": "stdout",
     "output_type": "stream",
     "text": [
      "LogisticRegression(C=6.399999999999994, class_weight='balanced',\n",
      "                   fit_intercept=False, intercept_scaling=6.399999999999994,\n",
      "                   random_state=9, solver='sag') score 0.06523280548333728\n"
     ]
    },
    {
     "name": "stderr",
     "output_type": "stream",
     "text": [
      "C:\\Users\\Liptee\\AppData\\Local\\Programs\\Python\\Python39\\lib\\site-packages\\sklearn\\linear_model\\_sag.py:352: ConvergenceWarning: The max_iter was reached which means the coef_ did not converge\n",
      "  warnings.warn(\n"
     ]
    },
    {
     "name": "stdout",
     "output_type": "stream",
     "text": [
      "LogisticRegression(C=6.499999999999994, class_weight='balanced',\n",
      "                   fit_intercept=False, intercept_scaling=6.499999999999994,\n",
      "                   random_state=3, solver='saga') score 0.06523280548333728\n",
      "LogisticRegression(C=6.599999999999993, class_weight='balanced',\n",
      "                   fit_intercept=False, intercept_scaling=6.599999999999993,\n",
      "                   random_state=3, solver='liblinear') score 0.19309855826045852\n"
     ]
    },
    {
     "name": "stderr",
     "output_type": "stream",
     "text": [
      "C:\\Users\\Liptee\\AppData\\Local\\Programs\\Python\\Python39\\lib\\site-packages\\sklearn\\linear_model\\_sag.py:352: ConvergenceWarning: The max_iter was reached which means the coef_ did not converge\n",
      "  warnings.warn(\n"
     ]
    },
    {
     "name": "stdout",
     "output_type": "stream",
     "text": [
      "LogisticRegression(C=6.699999999999993, fit_intercept=False,\n",
      "                   intercept_scaling=6.699999999999993, random_state=5,\n",
      "                   solver='sag') score 0.06523280548333728\n"
     ]
    },
    {
     "name": "stderr",
     "output_type": "stream",
     "text": [
      "C:\\Users\\Liptee\\AppData\\Local\\Programs\\Python\\Python39\\lib\\site-packages\\sklearn\\linear_model\\_sag.py:352: ConvergenceWarning: The max_iter was reached which means the coef_ did not converge\n",
      "  warnings.warn(\n"
     ]
    },
    {
     "name": "stdout",
     "output_type": "stream",
     "text": [
      "LogisticRegression(C=6.799999999999993, fit_intercept=False,\n",
      "                   intercept_scaling=6.799999999999993, random_state=7,\n",
      "                   solver='saga') score 0.06523280548333728\n",
      "LogisticRegression(C=6.899999999999992, fit_intercept=False,\n",
      "                   intercept_scaling=6.899999999999992, random_state=7,\n",
      "                   solver='liblinear') score 0.2384779012053888\n"
     ]
    },
    {
     "name": "stderr",
     "output_type": "stream",
     "text": [
      "C:\\Users\\Liptee\\AppData\\Local\\Programs\\Python\\Python39\\lib\\site-packages\\sklearn\\linear_model\\_sag.py:352: ConvergenceWarning: The max_iter was reached which means the coef_ did not converge\n",
      "  warnings.warn(\n"
     ]
    },
    {
     "name": "stdout",
     "output_type": "stream",
     "text": [
      "LogisticRegression(C=6.999999999999992, class_weight='balanced',\n",
      "                   fit_intercept=False, intercept_scaling=6.999999999999992,\n",
      "                   random_state=10, solver='sag') score 0.06523280548333728\n"
     ]
    },
    {
     "name": "stderr",
     "output_type": "stream",
     "text": [
      "C:\\Users\\Liptee\\AppData\\Local\\Programs\\Python\\Python39\\lib\\site-packages\\sklearn\\linear_model\\_sag.py:352: ConvergenceWarning: The max_iter was reached which means the coef_ did not converge\n",
      "  warnings.warn(\n"
     ]
    },
    {
     "name": "stdout",
     "output_type": "stream",
     "text": [
      "LogisticRegression(C=7.099999999999992, class_weight='balanced',\n",
      "                   fit_intercept=False, intercept_scaling=7.099999999999992,\n",
      "                   random_state=10, solver='saga') score 0.06523280548333728\n",
      "LogisticRegression(C=7.199999999999991, class_weight='balanced',\n",
      "                   fit_intercept=False, intercept_scaling=7.199999999999991,\n",
      "                   random_state=2, solver='liblinear') score 0.19309855826045852\n"
     ]
    },
    {
     "name": "stderr",
     "output_type": "stream",
     "text": [
      "C:\\Users\\Liptee\\AppData\\Local\\Programs\\Python\\Python39\\lib\\site-packages\\sklearn\\linear_model\\_sag.py:352: ConvergenceWarning: The max_iter was reached which means the coef_ did not converge\n",
      "  warnings.warn(\n"
     ]
    },
    {
     "name": "stdout",
     "output_type": "stream",
     "text": [
      "LogisticRegression(C=7.299999999999991, fit_intercept=False,\n",
      "                   intercept_scaling=7.299999999999991, random_state=7,\n",
      "                   solver='sag') score 0.06523280548333728\n"
     ]
    },
    {
     "name": "stderr",
     "output_type": "stream",
     "text": [
      "C:\\Users\\Liptee\\AppData\\Local\\Programs\\Python\\Python39\\lib\\site-packages\\sklearn\\linear_model\\_sag.py:352: ConvergenceWarning: The max_iter was reached which means the coef_ did not converge\n",
      "  warnings.warn(\n"
     ]
    },
    {
     "name": "stdout",
     "output_type": "stream",
     "text": [
      "LogisticRegression(C=7.399999999999991, fit_intercept=False,\n",
      "                   intercept_scaling=7.399999999999991, random_state=2,\n",
      "                   solver='saga') score 0.06523280548333728\n",
      "LogisticRegression(C=7.49999999999999, fit_intercept=False,\n",
      "                   intercept_scaling=7.49999999999999, random_state=10,\n",
      "                   solver='liblinear') score 0.2384779012053888\n"
     ]
    },
    {
     "name": "stderr",
     "output_type": "stream",
     "text": [
      "C:\\Users\\Liptee\\AppData\\Local\\Programs\\Python\\Python39\\lib\\site-packages\\sklearn\\linear_model\\_sag.py:352: ConvergenceWarning: The max_iter was reached which means the coef_ did not converge\n",
      "  warnings.warn(\n"
     ]
    },
    {
     "name": "stdout",
     "output_type": "stream",
     "text": [
      "LogisticRegression(C=7.59999999999999, class_weight='balanced',\n",
      "                   fit_intercept=False, intercept_scaling=7.59999999999999,\n",
      "                   random_state=2, solver='sag') score 0.06523280548333728\n"
     ]
    },
    {
     "name": "stderr",
     "output_type": "stream",
     "text": [
      "C:\\Users\\Liptee\\AppData\\Local\\Programs\\Python\\Python39\\lib\\site-packages\\sklearn\\linear_model\\_sag.py:352: ConvergenceWarning: The max_iter was reached which means the coef_ did not converge\n",
      "  warnings.warn(\n"
     ]
    },
    {
     "name": "stdout",
     "output_type": "stream",
     "text": [
      "LogisticRegression(C=7.6999999999999895, class_weight='balanced',\n",
      "                   fit_intercept=False, intercept_scaling=7.6999999999999895,\n",
      "                   random_state=7, solver='saga') score 0.06523280548333728\n",
      "LogisticRegression(C=7.799999999999989, class_weight='balanced',\n",
      "                   fit_intercept=False, intercept_scaling=7.799999999999989,\n",
      "                   random_state=5, solver='liblinear') score 0.19309855826045852\n"
     ]
    },
    {
     "name": "stderr",
     "output_type": "stream",
     "text": [
      "C:\\Users\\Liptee\\AppData\\Local\\Programs\\Python\\Python39\\lib\\site-packages\\sklearn\\linear_model\\_sag.py:352: ConvergenceWarning: The max_iter was reached which means the coef_ did not converge\n",
      "  warnings.warn(\n"
     ]
    },
    {
     "name": "stdout",
     "output_type": "stream",
     "text": [
      "LogisticRegression(C=7.899999999999989, fit_intercept=False,\n",
      "                   intercept_scaling=7.899999999999989, random_state=7,\n",
      "                   solver='sag') score 0.06523280548333728\n"
     ]
    },
    {
     "name": "stderr",
     "output_type": "stream",
     "text": [
      "C:\\Users\\Liptee\\AppData\\Local\\Programs\\Python\\Python39\\lib\\site-packages\\sklearn\\linear_model\\_sag.py:352: ConvergenceWarning: The max_iter was reached which means the coef_ did not converge\n",
      "  warnings.warn(\n"
     ]
    },
    {
     "name": "stdout",
     "output_type": "stream",
     "text": [
      "LogisticRegression(C=7.9999999999999885, fit_intercept=False,\n",
      "                   intercept_scaling=7.9999999999999885, random_state=8,\n",
      "                   solver='saga') score 0.06523280548333728\n",
      "LogisticRegression(C=8.099999999999989, fit_intercept=False,\n",
      "                   intercept_scaling=8.099999999999989, random_state=4,\n",
      "                   solver='liblinear') score 0.2384779012053888\n"
     ]
    },
    {
     "name": "stderr",
     "output_type": "stream",
     "text": [
      "C:\\Users\\Liptee\\AppData\\Local\\Programs\\Python\\Python39\\lib\\site-packages\\sklearn\\linear_model\\_sag.py:352: ConvergenceWarning: The max_iter was reached which means the coef_ did not converge\n",
      "  warnings.warn(\n"
     ]
    },
    {
     "name": "stdout",
     "output_type": "stream",
     "text": [
      "LogisticRegression(C=8.199999999999989, class_weight='balanced',\n",
      "                   fit_intercept=False, intercept_scaling=8.199999999999989,\n",
      "                   random_state=7, solver='sag') score 0.06523280548333728\n"
     ]
    },
    {
     "name": "stderr",
     "output_type": "stream",
     "text": [
      "C:\\Users\\Liptee\\AppData\\Local\\Programs\\Python\\Python39\\lib\\site-packages\\sklearn\\linear_model\\_sag.py:352: ConvergenceWarning: The max_iter was reached which means the coef_ did not converge\n",
      "  warnings.warn(\n"
     ]
    },
    {
     "name": "stdout",
     "output_type": "stream",
     "text": [
      "LogisticRegression(C=8.299999999999988, class_weight='balanced',\n",
      "                   fit_intercept=False, intercept_scaling=8.299999999999988,\n",
      "                   random_state=7, solver='saga') score 0.06523280548333728\n",
      "LogisticRegression(C=8.399999999999988, class_weight='balanced',\n",
      "                   fit_intercept=False, intercept_scaling=8.399999999999988,\n",
      "                   random_state=9, solver='liblinear') score 0.19309855826045852\n"
     ]
    },
    {
     "name": "stderr",
     "output_type": "stream",
     "text": [
      "C:\\Users\\Liptee\\AppData\\Local\\Programs\\Python\\Python39\\lib\\site-packages\\sklearn\\linear_model\\_sag.py:352: ConvergenceWarning: The max_iter was reached which means the coef_ did not converge\n",
      "  warnings.warn(\n"
     ]
    },
    {
     "name": "stdout",
     "output_type": "stream",
     "text": [
      "LogisticRegression(C=8.499999999999988, fit_intercept=False,\n",
      "                   intercept_scaling=8.499999999999988, random_state=2,\n",
      "                   solver='sag') score 0.06523280548333728\n"
     ]
    },
    {
     "name": "stderr",
     "output_type": "stream",
     "text": [
      "C:\\Users\\Liptee\\AppData\\Local\\Programs\\Python\\Python39\\lib\\site-packages\\sklearn\\linear_model\\_sag.py:352: ConvergenceWarning: The max_iter was reached which means the coef_ did not converge\n",
      "  warnings.warn(\n"
     ]
    },
    {
     "name": "stdout",
     "output_type": "stream",
     "text": [
      "LogisticRegression(C=8.599999999999987, fit_intercept=False,\n",
      "                   intercept_scaling=8.599999999999987, random_state=4,\n",
      "                   solver='saga') score 0.06523280548333728\n",
      "LogisticRegression(C=8.699999999999987, fit_intercept=False,\n",
      "                   intercept_scaling=8.699999999999987, random_state=4,\n",
      "                   solver='liblinear') score 0.2384779012053888\n"
     ]
    },
    {
     "name": "stderr",
     "output_type": "stream",
     "text": [
      "C:\\Users\\Liptee\\AppData\\Local\\Programs\\Python\\Python39\\lib\\site-packages\\sklearn\\linear_model\\_sag.py:352: ConvergenceWarning: The max_iter was reached which means the coef_ did not converge\n",
      "  warnings.warn(\n"
     ]
    },
    {
     "name": "stdout",
     "output_type": "stream",
     "text": [
      "LogisticRegression(C=8.799999999999986, class_weight='balanced',\n",
      "                   fit_intercept=False, intercept_scaling=8.799999999999986,\n",
      "                   random_state=6, solver='sag') score 0.06523280548333728\n"
     ]
    },
    {
     "name": "stderr",
     "output_type": "stream",
     "text": [
      "C:\\Users\\Liptee\\AppData\\Local\\Programs\\Python\\Python39\\lib\\site-packages\\sklearn\\linear_model\\_sag.py:352: ConvergenceWarning: The max_iter was reached which means the coef_ did not converge\n",
      "  warnings.warn(\n"
     ]
    },
    {
     "name": "stdout",
     "output_type": "stream",
     "text": [
      "LogisticRegression(C=8.899999999999986, class_weight='balanced',\n",
      "                   fit_intercept=False, intercept_scaling=8.899999999999986,\n",
      "                   random_state=1, solver='saga') score 0.06523280548333728\n",
      "LogisticRegression(C=8.999999999999986, class_weight='balanced',\n",
      "                   fit_intercept=False, intercept_scaling=8.999999999999986,\n",
      "                   random_state=8, solver='liblinear') score 0.19309855826045852\n"
     ]
    },
    {
     "name": "stderr",
     "output_type": "stream",
     "text": [
      "C:\\Users\\Liptee\\AppData\\Local\\Programs\\Python\\Python39\\lib\\site-packages\\sklearn\\linear_model\\_sag.py:352: ConvergenceWarning: The max_iter was reached which means the coef_ did not converge\n",
      "  warnings.warn(\n"
     ]
    },
    {
     "name": "stdout",
     "output_type": "stream",
     "text": [
      "LogisticRegression(C=9.099999999999985, fit_intercept=False,\n",
      "                   intercept_scaling=9.099999999999985, random_state=1,\n",
      "                   solver='sag') score 0.06523280548333728\n"
     ]
    },
    {
     "name": "stderr",
     "output_type": "stream",
     "text": [
      "C:\\Users\\Liptee\\AppData\\Local\\Programs\\Python\\Python39\\lib\\site-packages\\sklearn\\linear_model\\_sag.py:352: ConvergenceWarning: The max_iter was reached which means the coef_ did not converge\n",
      "  warnings.warn(\n"
     ]
    },
    {
     "name": "stdout",
     "output_type": "stream",
     "text": [
      "LogisticRegression(C=9.199999999999985, fit_intercept=False,\n",
      "                   intercept_scaling=9.199999999999985, random_state=4,\n",
      "                   solver='saga') score 0.06523280548333728\n",
      "LogisticRegression(C=9.299999999999985, fit_intercept=False,\n",
      "                   intercept_scaling=9.299999999999985, random_state=7,\n",
      "                   solver='liblinear') score 0.2384779012053888\n"
     ]
    },
    {
     "name": "stderr",
     "output_type": "stream",
     "text": [
      "C:\\Users\\Liptee\\AppData\\Local\\Programs\\Python\\Python39\\lib\\site-packages\\sklearn\\linear_model\\_sag.py:352: ConvergenceWarning: The max_iter was reached which means the coef_ did not converge\n",
      "  warnings.warn(\n"
     ]
    },
    {
     "name": "stdout",
     "output_type": "stream",
     "text": [
      "LogisticRegression(C=9.399999999999984, class_weight='balanced',\n",
      "                   fit_intercept=False, intercept_scaling=9.399999999999984,\n",
      "                   random_state=10, solver='sag') score 0.06523280548333728\n"
     ]
    },
    {
     "name": "stderr",
     "output_type": "stream",
     "text": [
      "C:\\Users\\Liptee\\AppData\\Local\\Programs\\Python\\Python39\\lib\\site-packages\\sklearn\\linear_model\\_sag.py:352: ConvergenceWarning: The max_iter was reached which means the coef_ did not converge\n",
      "  warnings.warn(\n"
     ]
    },
    {
     "name": "stdout",
     "output_type": "stream",
     "text": [
      "LogisticRegression(C=9.499999999999984, class_weight='balanced',\n",
      "                   fit_intercept=False, intercept_scaling=9.499999999999984,\n",
      "                   random_state=6, solver='saga') score 0.06523280548333728\n",
      "LogisticRegression(C=9.599999999999984, class_weight='balanced',\n",
      "                   fit_intercept=False, intercept_scaling=9.599999999999984,\n",
      "                   random_state=5, solver='liblinear') score 0.19309855826045852\n"
     ]
    },
    {
     "name": "stderr",
     "output_type": "stream",
     "text": [
      "C:\\Users\\Liptee\\AppData\\Local\\Programs\\Python\\Python39\\lib\\site-packages\\sklearn\\linear_model\\_sag.py:352: ConvergenceWarning: The max_iter was reached which means the coef_ did not converge\n",
      "  warnings.warn(\n"
     ]
    },
    {
     "name": "stdout",
     "output_type": "stream",
     "text": [
      "LogisticRegression(C=9.699999999999983, fit_intercept=False,\n",
      "                   intercept_scaling=9.699999999999983, random_state=1,\n",
      "                   solver='sag') score 0.06523280548333728\n"
     ]
    },
    {
     "name": "stderr",
     "output_type": "stream",
     "text": [
      "C:\\Users\\Liptee\\AppData\\Local\\Programs\\Python\\Python39\\lib\\site-packages\\sklearn\\linear_model\\_sag.py:352: ConvergenceWarning: The max_iter was reached which means the coef_ did not converge\n",
      "  warnings.warn(\n"
     ]
    },
    {
     "name": "stdout",
     "output_type": "stream",
     "text": [
      "LogisticRegression(C=9.799999999999983, fit_intercept=False,\n",
      "                   intercept_scaling=9.799999999999983, random_state=2,\n",
      "                   solver='saga') score 0.06523280548333728\n",
      "LogisticRegression(C=9.899999999999983, fit_intercept=False,\n",
      "                   intercept_scaling=9.899999999999983, random_state=7,\n",
      "                   solver='liblinear') score 0.2384779012053888\n"
     ]
    },
    {
     "name": "stderr",
     "output_type": "stream",
     "text": [
      "C:\\Users\\Liptee\\AppData\\Local\\Programs\\Python\\Python39\\lib\\site-packages\\sklearn\\linear_model\\_sag.py:352: ConvergenceWarning: The max_iter was reached which means the coef_ did not converge\n",
      "  warnings.warn(\n"
     ]
    },
    {
     "name": "stdout",
     "output_type": "stream",
     "text": [
      "LogisticRegression(C=9.999999999999982, class_weight='balanced',\n",
      "                   fit_intercept=False, intercept_scaling=9.999999999999982,\n",
      "                   random_state=2, solver='sag') score 0.06523280548333728\n"
     ]
    },
    {
     "name": "stderr",
     "output_type": "stream",
     "text": [
      "C:\\Users\\Liptee\\AppData\\Local\\Programs\\Python\\Python39\\lib\\site-packages\\sklearn\\linear_model\\_sag.py:352: ConvergenceWarning: The max_iter was reached which means the coef_ did not converge\n",
      "  warnings.warn(\n"
     ]
    },
    {
     "name": "stdout",
     "output_type": "stream",
     "text": [
      "LogisticRegression(C=10.099999999999982, class_weight='balanced',\n",
      "                   fit_intercept=False, intercept_scaling=10.099999999999982,\n",
      "                   random_state=8, solver='saga') score 0.06523280548333728\n",
      "LogisticRegression(C=10.199999999999982, class_weight='balanced',\n",
      "                   fit_intercept=False, intercept_scaling=10.199999999999982,\n",
      "                   random_state=7, solver='liblinear') score 0.19309855826045852\n"
     ]
    },
    {
     "name": "stderr",
     "output_type": "stream",
     "text": [
      "C:\\Users\\Liptee\\AppData\\Local\\Programs\\Python\\Python39\\lib\\site-packages\\sklearn\\linear_model\\_sag.py:352: ConvergenceWarning: The max_iter was reached which means the coef_ did not converge\n",
      "  warnings.warn(\n"
     ]
    },
    {
     "name": "stdout",
     "output_type": "stream",
     "text": [
      "LogisticRegression(C=10.299999999999981, fit_intercept=False,\n",
      "                   intercept_scaling=10.299999999999981, random_state=2,\n",
      "                   solver='sag') score 0.06523280548333728\n"
     ]
    },
    {
     "name": "stderr",
     "output_type": "stream",
     "text": [
      "C:\\Users\\Liptee\\AppData\\Local\\Programs\\Python\\Python39\\lib\\site-packages\\sklearn\\linear_model\\_sag.py:352: ConvergenceWarning: The max_iter was reached which means the coef_ did not converge\n",
      "  warnings.warn(\n"
     ]
    },
    {
     "name": "stdout",
     "output_type": "stream",
     "text": [
      "LogisticRegression(C=10.39999999999998, fit_intercept=False,\n",
      "                   intercept_scaling=10.39999999999998, random_state=1,\n",
      "                   solver='saga') score 0.06523280548333728\n",
      "LogisticRegression(C=10.49999999999998, fit_intercept=False,\n",
      "                   intercept_scaling=10.49999999999998, random_state=3,\n",
      "                   solver='liblinear') score 0.2384779012053888\n"
     ]
    }
   ],
   "source": [
    "best = 0\n",
    "for pen in penalty:\n",
    "    for du in dual:\n",
    "        while c < 10:\n",
    "            for fit_i in fit_intercept:\n",
    "                while intercept_scaling_p < 10:\n",
    "                    for cw in class_weight:\n",
    "                        for sol in solver:\n",
    "                            classifier = LogisticRegression(penalty=pen, dual=du, C=c, fit_intercept=fit_i, intercept_scaling=intercept_scaling_p, class_weight=cw, random_state=randint(1,10), solver=sol)\n",
    "                            classifier.fit(Xtrain_spotify, Ytrain_spotify)\n",
    "                            predict = classifier.predict(Xtest_spotify)\n",
    "                            score = accuracy_score(Ytest_spotify, predict)\n",
    "                            c+=0.1\n",
    "                            intercept_scaling_p+=0.1\n",
    "                            print(f\"{classifier} score {score}\")\n",
    "                            if score > best:\n",
    "                                best = score\n",
    "                                best_classifier = classifier"
   ]
  },
  {
   "cell_type": "code",
   "execution_count": 38,
   "metadata": {},
   "outputs": [
    {
     "name": "stdout",
     "output_type": "stream",
     "text": [
      "LogisticRegression(C=1.5000000000000004, fit_intercept=False,\n",
      "                   intercept_scaling=1.5000000000000004, random_state=6,\n",
      "                   solver='liblinear')\n",
      "0.2384779012053888\n"
     ]
    }
   ],
   "source": [
    "print(best_classifier)\n",
    "print(best)"
   ]
  },
  {
   "cell_type": "markdown",
   "metadata": {},
   "source": [
    "### 1.4 Создание расширенной матрицы ошибок"
   ]
  },
  {
   "cell_type": "code",
   "execution_count": 20,
   "metadata": {},
   "outputs": [],
   "source": [
    "from sklearn.metrics import plot_confusion_matrix"
   ]
  },
  {
   "cell_type": "code",
   "execution_count": 21,
   "metadata": {},
   "outputs": [
    {
     "name": "stderr",
     "output_type": "stream",
     "text": [
      "C:\\Users\\Liptee\\AppData\\Local\\Programs\\Python\\Python39\\lib\\site-packages\\sklearn\\utils\\deprecation.py:87: FutureWarning: Function plot_confusion_matrix is deprecated; Function `plot_confusion_matrix` is deprecated in 1.0 and will be removed in 1.2. Use one of the class methods: ConfusionMatrixDisplay.from_predictions or ConfusionMatrixDisplay.from_estimator.\n",
      "  warnings.warn(msg, category=FutureWarning)\n"
     ]
    },
    {
     "data": {
      "text/plain": [
       "<sklearn.metrics._plot.confusion_matrix.ConfusionMatrixDisplay at 0x14043551cd0>"
      ]
     },
     "execution_count": 21,
     "metadata": {},
     "output_type": "execute_result"
    },
    {
     "data": {
      "image/png": "[encoded data removed]",
      "text/plain": [
       "<Figure size 432x288 with 2 Axes>"
      ]
     },
     "metadata": {
      "needs_background": "light"
     },
     "output_type": "display_data"
    }
   ],
   "source": [
    "best_classifier.fit(Xtrain_spotify, Ytrain_spotify)\n",
    "plot_confusion_matrix(best_classifier, Xtest_spotify, Ytest_spotify)"
   ]
  },
  {
   "cell_type": "code",
   "execution_count": 22,
   "metadata": {},
   "outputs": [
    {
     "name": "stdout",
     "output_type": "stream",
     "text": [
      "0: Dark Trap\n",
      "1: Underground Rap\n",
      "2: Trap Metal\n",
      "3: Emo\n",
      "4: Rap\n",
      "5: RnB\n",
      "6: Pop\n",
      "7: Hiphop\n",
      "8: techhouse\n",
      "9: techno\n",
      "10: trance\n",
      "11: psytrance\n",
      "12: trap\n",
      "13: dnb\n",
      "14: hardstyle\n"
     ]
    }
   ],
   "source": [
    "for i in range (len(repitless(genres))):\n",
    "    print(f'{i}: {repitless(genres)[i]}')"
   ]
  },
  {
   "cell_type": "markdown",
   "metadata": {},
   "source": [
    "## 2. Бинарная классификация"
   ]
  },
  {
   "cell_type": "code",
   "execution_count": 23,
   "metadata": {},
   "outputs": [],
   "source": [
    "cancer_df = pd.read_csv('data/cancer.csv')"
   ]
  },
  {
   "cell_type": "markdown",
   "metadata": {},
   "source": [
    "В данном датасете содержится характеристики ядер клеток, присутствующих на изображении молочной железы людей, а также диагноз (**М** - Malignant, т.е. злокачественное образование, **В** - benign, т.е. доброкачественное). Всего 31 характеристика с типом данных `float64`."
   ]
  },
  {
   "cell_type": "code",
   "execution_count": 24,
   "metadata": {},
   "outputs": [
    {
     "data": {
      "text/html": [
       "<div>\n",
       "<style scoped>\n",
       "    .dataframe tbody tr th:only-of-type {\n",
       "        vertical-align: middle;\n",
       "    }\n",
       "\n",
       "    .dataframe tbody tr th {\n",
       "        vertical-align: top;\n",
       "    }\n",
       "\n",
       "    .dataframe thead th {\n",
       "        text-align: right;\n",
       "    }\n",
       "</style>\n",
       "<table border=\"1\" class=\"dataframe\">\n",
       "  <thead>\n",
       "    <tr style=\"text-align: right;\">\n",
       "      <th></th>\n",
       "      <th>id</th>\n",
       "      <th>diagnosis</th>\n",
       "      <th>radius_mean</th>\n",
       "      <th>texture_mean</th>\n",
       "      <th>perimeter_mean</th>\n",
       "      <th>area_mean</th>\n",
       "      <th>smoothness_mean</th>\n",
       "      <th>compactness_mean</th>\n",
       "      <th>concavity_mean</th>\n",
       "      <th>concave points_mean</th>\n",
       "      <th>...</th>\n",
       "      <th>texture_worst</th>\n",
       "      <th>perimeter_worst</th>\n",
       "      <th>area_worst</th>\n",
       "      <th>smoothness_worst</th>\n",
       "      <th>compactness_worst</th>\n",
       "      <th>concavity_worst</th>\n",
       "      <th>concave points_worst</th>\n",
       "      <th>symmetry_worst</th>\n",
       "      <th>fractal_dimension_worst</th>\n",
       "      <th>Unnamed: 32</th>\n",
       "    </tr>\n",
       "  </thead>\n",
       "  <tbody>\n",
       "    <tr>\n",
       "      <th>0</th>\n",
       "      <td>842302</td>\n",
       "      <td>M</td>\n",
       "      <td>17.99</td>\n",
       "      <td>10.38</td>\n",
       "      <td>122.8</td>\n",
       "      <td>1001.0</td>\n",
       "      <td>0.11840</td>\n",
       "      <td>0.27760</td>\n",
       "      <td>0.3001</td>\n",
       "      <td>0.14710</td>\n",
       "      <td>...</td>\n",
       "      <td>17.33</td>\n",
       "      <td>184.6</td>\n",
       "      <td>2019.0</td>\n",
       "      <td>0.1622</td>\n",
       "      <td>0.6656</td>\n",
       "      <td>0.7119</td>\n",
       "      <td>0.2654</td>\n",
       "      <td>0.4601</td>\n",
       "      <td>0.11890</td>\n",
       "      <td>NaN</td>\n",
       "    </tr>\n",
       "    <tr>\n",
       "      <th>1</th>\n",
       "      <td>842517</td>\n",
       "      <td>M</td>\n",
       "      <td>20.57</td>\n",
       "      <td>17.77</td>\n",
       "      <td>132.9</td>\n",
       "      <td>1326.0</td>\n",
       "      <td>0.08474</td>\n",
       "      <td>0.07864</td>\n",
       "      <td>0.0869</td>\n",
       "      <td>0.07017</td>\n",
       "      <td>...</td>\n",
       "      <td>23.41</td>\n",
       "      <td>158.8</td>\n",
       "      <td>1956.0</td>\n",
       "      <td>0.1238</td>\n",
       "      <td>0.1866</td>\n",
       "      <td>0.2416</td>\n",
       "      <td>0.1860</td>\n",
       "      <td>0.2750</td>\n",
       "      <td>0.08902</td>\n",
       "      <td>NaN</td>\n",
       "    </tr>\n",
       "    <tr>\n",
       "      <th>2</th>\n",
       "      <td>84300903</td>\n",
       "      <td>M</td>\n",
       "      <td>19.69</td>\n",
       "      <td>21.25</td>\n",
       "      <td>130.0</td>\n",
       "      <td>1203.0</td>\n",
       "      <td>0.10960</td>\n",
       "      <td>0.15990</td>\n",
       "      <td>0.1974</td>\n",
       "      <td>0.12790</td>\n",
       "      <td>...</td>\n",
       "      <td>25.53</td>\n",
       "      <td>152.5</td>\n",
       "      <td>1709.0</td>\n",
       "      <td>0.1444</td>\n",
       "      <td>0.4245</td>\n",
       "      <td>0.4504</td>\n",
       "      <td>0.2430</td>\n",
       "      <td>0.3613</td>\n",
       "      <td>0.08758</td>\n",
       "      <td>NaN</td>\n",
       "    </tr>\n",
       "  </tbody>\n",
       "</table>\n",
       "<p>3 rows × 33 columns</p>\n",
       "</div>"
      ],
      "text/plain": [
       "         id diagnosis  radius_mean  texture_mean  perimeter_mean  area_mean  \\\n",
       "0    842302         M        17.99         10.38           122.8     1001.0   \n",
       "1    842517         M        20.57         17.77           132.9     1326.0   \n",
       "2  84300903         M        19.69         21.25           130.0     1203.0   \n",
       "\n",
       "   smoothness_mean  compactness_mean  concavity_mean  concave points_mean  \\\n",
       "0          0.11840           0.27760          0.3001              0.14710   \n",
       "1          0.08474           0.07864          0.0869              0.07017   \n",
       "2          0.10960           0.15990          0.1974              0.12790   \n",
       "\n",
       "   ...  texture_worst  perimeter_worst  area_worst  smoothness_worst  \\\n",
       "0  ...          17.33            184.6      2019.0            0.1622   \n",
       "1  ...          23.41            158.8      1956.0            0.1238   \n",
       "2  ...          25.53            152.5      1709.0            0.1444   \n",
       "\n",
       "   compactness_worst  concavity_worst  concave points_worst  symmetry_worst  \\\n",
       "0             0.6656           0.7119                0.2654          0.4601   \n",
       "1             0.1866           0.2416                0.1860          0.2750   \n",
       "2             0.4245           0.4504                0.2430          0.3613   \n",
       "\n",
       "   fractal_dimension_worst  Unnamed: 32  \n",
       "0                  0.11890          NaN  \n",
       "1                  0.08902          NaN  \n",
       "2                  0.08758          NaN  \n",
       "\n",
       "[3 rows x 33 columns]"
      ]
     },
     "execution_count": 24,
     "metadata": {},
     "output_type": "execute_result"
    }
   ],
   "source": [
    "cancer_df.head(3)"
   ]
  },
  {
   "cell_type": "code",
   "execution_count": 25,
   "metadata": {},
   "outputs": [],
   "source": [
    "Y_cancer = str_to_int(list(cancer_df['diagnosis']))"
   ]
  },
  {
   "cell_type": "code",
   "execution_count": 26,
   "metadata": {},
   "outputs": [
    {
     "data": {
      "text/plain": [
       "0     NaN\n",
       "1     NaN\n",
       "2     NaN\n",
       "3     NaN\n",
       "4     NaN\n",
       "       ..\n",
       "564   NaN\n",
       "565   NaN\n",
       "566   NaN\n",
       "567   NaN\n",
       "568   NaN\n",
       "Name: Unnamed: 32, Length: 569, dtype: float64"
      ]
     },
     "execution_count": 26,
     "metadata": {},
     "output_type": "execute_result"
    }
   ],
   "source": [
    "cancer_df.pop('id')\n",
    "cancer_df.pop('diagnosis')\n",
    "cancer_df.pop('Unnamed: 32')"
   ]
  },
  {
   "cell_type": "code",
   "execution_count": 27,
   "metadata": {},
   "outputs": [],
   "source": [
    "X_cancer = []\n",
    "for i in range(len(cancer_df)):\n",
    "    X_cancer.append([])\n",
    "for column in list(cancer_df):\n",
    "    new_list = list(cancer_df[column])\n",
    "    for i in range(len(new_list)):\n",
    "        X_cancer[i].append(new_list[i])"
   ]
  },
  {
   "cell_type": "code",
   "execution_count": 28,
   "metadata": {},
   "outputs": [],
   "source": [
    "data_cancer, labels_cancer = shuffle(X_cancer, Y_cancer)"
   ]
  },
  {
   "cell_type": "code",
   "execution_count": 29,
   "metadata": {},
   "outputs": [
    {
     "name": "stderr",
     "output_type": "stream",
     "text": [
      "C:\\Users\\Liptee\\AppData\\Local\\Programs\\Python\\Python39\\lib\\site-packages\\sklearn\\linear_model\\_logistic.py:814: ConvergenceWarning: lbfgs failed to converge (status=1):\n",
      "STOP: TOTAL NO. of ITERATIONS REACHED LIMIT.\n",
      "\n",
      "Increase the number of iterations (max_iter) or scale the data as shown in:\n",
      "    https://scikit-learn.org/stable/modules/preprocessing.html\n",
      "Please also refer to the documentation for alternative solver options:\n",
      "    https://scikit-learn.org/stable/modules/linear_model.html#logistic-regression\n",
      "  n_iter_i = _check_optimize_result(\n"
     ]
    },
    {
     "data": {
      "text/plain": [
       "0.9473684210526315"
      ]
     },
     "execution_count": 29,
     "metadata": {},
     "output_type": "execute_result"
    }
   ],
   "source": [
    "test_size = int(len(data_cancer) * 0.9)\n",
    "Xtrain_cancer = data_cancer[:test_size]\n",
    "Ytrain_cancer = labels_cancer[:test_size]\n",
    "Xtest_cancer = data_cancer[test_size:]\n",
    "Ytest_cancer = labels_cancer[test_size:]\n",
    "clf = LogisticRegression()\n",
    "clf.fit(Xtrain_cancer, Ytrain_cancer)\n",
    "predictions = clf.predict(Xtest_cancer)\n",
    "accuracy_score(Ytest_cancer, predictions)"
   ]
  },
  {
   "cell_type": "markdown",
   "metadata": {},
   "source": [
    "## 3. С использованием нормализации признаков для двух датасетов"
   ]
  },
  {
   "cell_type": "markdown",
   "metadata": {},
   "source": [
    "### Для Spotify датасета"
   ]
  },
  {
   "cell_type": "code",
   "execution_count": 30,
   "metadata": {},
   "outputs": [],
   "source": [
    "from sklearn.preprocessing import MinMaxScaler\n",
    "import numpy as np"
   ]
  },
  {
   "cell_type": "code",
   "execution_count": 31,
   "metadata": {},
   "outputs": [],
   "source": [
    "norm_spotify_data = np.array(data_spotify, copy=True)"
   ]
  },
  {
   "cell_type": "code",
   "execution_count": 32,
   "metadata": {},
   "outputs": [
    {
     "data": {
      "text/plain": [
       "MinMaxScaler()"
      ]
     },
     "execution_count": 32,
     "metadata": {},
     "output_type": "execute_result"
    }
   ],
   "source": [
    "scaler = MinMaxScaler()\n",
    "scaler.fit(norm_spotify_data)"
   ]
  },
  {
   "cell_type": "code",
   "execution_count": 33,
   "metadata": {},
   "outputs": [],
   "source": [
    "scaled_data_spotify = scaler.transform(norm_spotify_data)"
   ]
  },
  {
   "cell_type": "code",
   "execution_count": 34,
   "metadata": {},
   "outputs": [],
   "source": [
    "test_size = int(len(scaled_data_spotify) * 0.9)\n",
    "Xtrain_spotify = scaled_data_spotify[:test_size]\n",
    "Ytrain_spotify = labels_spotify[:test_size]\n",
    "Xtest_spotify = scaled_data_spotify[test_size:]\n",
    "Ytest_spotify = labels_spotify[test_size:]"
   ]
  },
  {
   "cell_type": "code",
   "execution_count": 35,
   "metadata": {},
   "outputs": [
    {
     "data": {
      "text/plain": [
       "0.5431340108721342"
      ]
     },
     "execution_count": 35,
     "metadata": {},
     "output_type": "execute_result"
    }
   ],
   "source": [
    "best_classifier.fit(Xtrain_spotify, Ytrain_spotify)\n",
    "predictions = best_classifier.predict(Xtest_spotify)\n",
    "accuracy_score(Ytest_spotify, predictions)"
   ]
  },
  {
   "cell_type": "markdown",
   "metadata": {},
   "source": [
    "### Для Cancer датасета"
   ]
  },
  {
   "cell_type": "code",
   "execution_count": 36,
   "metadata": {},
   "outputs": [],
   "source": [
    "norm_cancer_data = np.array(data_cancer, copy=True)\n",
    "scaler = MinMaxScaler()\n",
    "scaler.fit(norm_cancer_data)\n",
    "scaled_data_cancer = scaler.transform(norm_cancer_data)\n",
    "\n",
    "test_size = int(len(scaled_data_cancer) * 0.9)\n",
    "Xtrain_cancer = scaled_data_cancer[:test_size]\n",
    "Ytrain_cacner = labels_cancer[:test_size]\n",
    "Xtest_cancer = scaled_data_cancer[test_size:]\n",
    "Ytest_cancer = labels_cancer[test_size:]"
   ]
  },
  {
   "cell_type": "code",
   "execution_count": 37,
   "metadata": {},
   "outputs": [
    {
     "data": {
      "text/plain": [
       "0.9649122807017544"
      ]
     },
     "execution_count": 37,
     "metadata": {},
     "output_type": "execute_result"
    }
   ],
   "source": [
    "clf = LogisticRegression()\n",
    "clf.fit(Xtrain_cancer, Ytrain_cancer)\n",
    "predictions = clf.predict(Xtest_cancer)\n",
    "accuracy_score(Ytest_cancer, predictions)"
   ]
  },
  {
   "cell_type": "markdown",
   "metadata": {},
   "source": [
    "Раз уж такое дело, то найдем и самые лучшие гиперпараметры для этой задачи."
   ]
  },
  {
   "cell_type": "code",
   "execution_count": 41,
   "metadata": {},
   "outputs": [
    {
     "name": "stdout",
     "output_type": "stream",
     "text": [
      "LogisticRegression(C=1, class_weight='balanced', fit_intercept=False,\n",
      "                   random_state=1, solver='sag') score 0.9298245614035088\n",
      "LogisticRegression(C=1.1, class_weight='balanced', fit_intercept=False,\n",
      "                   intercept_scaling=1.1, random_state=5, solver='saga') score 0.9298245614035088\n",
      "LogisticRegression(C=1.2000000000000002, class_weight='balanced',\n",
      "                   fit_intercept=False, intercept_scaling=1.2000000000000002,\n",
      "                   random_state=1, solver='liblinear') score 0.9298245614035088\n",
      "LogisticRegression(C=1.3000000000000003, fit_intercept=False,\n",
      "                   intercept_scaling=1.3000000000000003, random_state=1,\n",
      "                   solver='sag') score 0.9649122807017544\n",
      "LogisticRegression(C=1.4000000000000004, fit_intercept=False,\n",
      "                   intercept_scaling=1.4000000000000004, random_state=5,\n",
      "                   solver='saga') score 0.9649122807017544\n",
      "LogisticRegression(C=1.5000000000000004, fit_intercept=False,\n",
      "                   intercept_scaling=1.5000000000000004, random_state=7,\n",
      "                   solver='liblinear') score 0.9649122807017544\n",
      "LogisticRegression(C=1.6000000000000005, class_weight='balanced',\n",
      "                   fit_intercept=False, intercept_scaling=1.6000000000000005,\n",
      "                   random_state=4, solver='sag') score 0.9298245614035088\n",
      "LogisticRegression(C=1.7000000000000006, class_weight='balanced',\n",
      "                   fit_intercept=False, intercept_scaling=1.7000000000000006,\n",
      "                   random_state=1, solver='saga') score 0.9298245614035088\n",
      "LogisticRegression(C=1.8000000000000007, class_weight='balanced',\n",
      "                   fit_intercept=False, intercept_scaling=1.8000000000000007,\n",
      "                   random_state=6, solver='liblinear') score 0.9298245614035088\n",
      "LogisticRegression(C=1.9000000000000008, fit_intercept=False,\n",
      "                   intercept_scaling=1.9000000000000008, random_state=2,\n",
      "                   solver='sag') score 0.9649122807017544\n",
      "LogisticRegression(C=2.000000000000001, fit_intercept=False,\n",
      "                   intercept_scaling=2.000000000000001, random_state=6,\n",
      "                   solver='saga') score 0.9649122807017544\n",
      "LogisticRegression(C=2.100000000000001, fit_intercept=False,\n",
      "                   intercept_scaling=2.100000000000001, random_state=3,\n",
      "                   solver='liblinear') score 0.9649122807017544\n",
      "LogisticRegression(C=2.200000000000001, class_weight='balanced',\n",
      "                   fit_intercept=False, intercept_scaling=2.200000000000001,\n",
      "                   random_state=5, solver='sag') score 0.9298245614035088\n",
      "LogisticRegression(C=2.300000000000001, class_weight='balanced',\n",
      "                   fit_intercept=False, intercept_scaling=2.300000000000001,\n",
      "                   random_state=10, solver='saga') score 0.9298245614035088\n",
      "LogisticRegression(C=2.4000000000000012, class_weight='balanced',\n",
      "                   fit_intercept=False, intercept_scaling=2.4000000000000012,\n",
      "                   random_state=4, solver='liblinear') score 0.9298245614035088\n",
      "LogisticRegression(C=2.5000000000000013, fit_intercept=False,\n",
      "                   intercept_scaling=2.5000000000000013, random_state=6,\n",
      "                   solver='sag') score 0.9649122807017544\n",
      "LogisticRegression(C=2.6000000000000014, fit_intercept=False,\n",
      "                   intercept_scaling=2.6000000000000014, random_state=2,\n",
      "                   solver='saga') score 0.9649122807017544\n",
      "LogisticRegression(C=2.7000000000000015, fit_intercept=False,\n",
      "                   intercept_scaling=2.7000000000000015, random_state=2,\n",
      "                   solver='liblinear') score 0.9649122807017544\n",
      "LogisticRegression(C=2.8000000000000016, class_weight='balanced',\n",
      "                   fit_intercept=False, intercept_scaling=2.8000000000000016,\n",
      "                   random_state=10, solver='sag') score 0.9298245614035088\n",
      "LogisticRegression(C=2.9000000000000017, class_weight='balanced',\n",
      "                   fit_intercept=False, intercept_scaling=2.9000000000000017,\n",
      "                   random_state=8, solver='saga') score 0.9298245614035088\n",
      "LogisticRegression(C=3.0000000000000018, class_weight='balanced',\n",
      "                   fit_intercept=False, intercept_scaling=3.0000000000000018,\n",
      "                   random_state=2, solver='liblinear') score 0.9298245614035088\n",
      "LogisticRegression(C=3.100000000000002, fit_intercept=False,\n",
      "                   intercept_scaling=3.100000000000002, random_state=7,\n",
      "                   solver='sag') score 0.9649122807017544\n",
      "LogisticRegression(C=3.200000000000002, fit_intercept=False,\n",
      "                   intercept_scaling=3.200000000000002, random_state=2,\n",
      "                   solver='saga') score 0.9649122807017544\n",
      "LogisticRegression(C=3.300000000000002, fit_intercept=False,\n",
      "                   intercept_scaling=3.300000000000002, random_state=3,\n",
      "                   solver='liblinear') score 0.9649122807017544\n",
      "LogisticRegression(C=3.400000000000002, class_weight='balanced',\n",
      "                   fit_intercept=False, intercept_scaling=3.400000000000002,\n",
      "                   random_state=8, solver='sag') score 0.9298245614035088\n",
      "LogisticRegression(C=3.500000000000002, class_weight='balanced',\n",
      "                   fit_intercept=False, intercept_scaling=3.500000000000002,\n",
      "                   random_state=3, solver='saga') score 0.9298245614035088\n",
      "LogisticRegression(C=3.6000000000000023, class_weight='balanced',\n",
      "                   fit_intercept=False, intercept_scaling=3.6000000000000023,\n",
      "                   random_state=3, solver='liblinear') score 0.9298245614035088\n",
      "LogisticRegression(C=3.7000000000000024, fit_intercept=False,\n",
      "                   intercept_scaling=3.7000000000000024, random_state=5,\n",
      "                   solver='sag') score 0.9649122807017544\n",
      "LogisticRegression(C=3.8000000000000025, fit_intercept=False,\n",
      "                   intercept_scaling=3.8000000000000025, random_state=5,\n",
      "                   solver='saga') score 0.9649122807017544\n",
      "LogisticRegression(C=3.9000000000000026, fit_intercept=False,\n",
      "                   intercept_scaling=3.9000000000000026, random_state=5,\n",
      "                   solver='liblinear') score 0.9649122807017544\n",
      "LogisticRegression(C=4.000000000000003, class_weight='balanced',\n",
      "                   fit_intercept=False, intercept_scaling=4.000000000000003,\n",
      "                   random_state=9, solver='sag') score 0.9298245614035088\n",
      "LogisticRegression(C=4.100000000000002, class_weight='balanced',\n",
      "                   fit_intercept=False, intercept_scaling=4.100000000000002,\n",
      "                   random_state=3, solver='saga') score 0.9298245614035088\n",
      "LogisticRegression(C=4.200000000000002, class_weight='balanced',\n",
      "                   fit_intercept=False, intercept_scaling=4.200000000000002,\n",
      "                   random_state=9, solver='liblinear') score 0.9298245614035088\n",
      "LogisticRegression(C=4.300000000000002, fit_intercept=False,\n",
      "                   intercept_scaling=4.300000000000002, random_state=7,\n",
      "                   solver='sag') score 0.9649122807017544\n",
      "LogisticRegression(C=4.400000000000001, fit_intercept=False,\n",
      "                   intercept_scaling=4.400000000000001, random_state=2,\n",
      "                   solver='saga') score 0.9649122807017544\n",
      "LogisticRegression(C=4.500000000000001, fit_intercept=False,\n",
      "                   intercept_scaling=4.500000000000001, random_state=2,\n",
      "                   solver='liblinear') score 0.9649122807017544\n",
      "LogisticRegression(C=4.6000000000000005, class_weight='balanced',\n",
      "                   fit_intercept=False, intercept_scaling=4.6000000000000005,\n",
      "                   random_state=8, solver='sag') score 0.9298245614035088\n",
      "LogisticRegression(C=4.7, class_weight='balanced', fit_intercept=False,\n",
      "                   intercept_scaling=4.7, random_state=4, solver='saga') score 0.9298245614035088\n",
      "LogisticRegression(C=4.8, class_weight='balanced', fit_intercept=False,\n",
      "                   intercept_scaling=4.8, random_state=9, solver='liblinear') score 0.9298245614035088\n",
      "LogisticRegression(C=4.8999999999999995, fit_intercept=False,\n",
      "                   intercept_scaling=4.8999999999999995, random_state=5,\n",
      "                   solver='sag') score 0.9649122807017544\n"
     ]
    },
    {
     "name": "stderr",
     "output_type": "stream",
     "text": [
      "C:\\Users\\Liptee\\AppData\\Local\\Programs\\Python\\Python39\\lib\\site-packages\\sklearn\\linear_model\\_sag.py:352: ConvergenceWarning: The max_iter was reached which means the coef_ did not converge\n",
      "  warnings.warn(\n",
      "C:\\Users\\Liptee\\AppData\\Local\\Programs\\Python\\Python39\\lib\\site-packages\\sklearn\\linear_model\\_sag.py:352: ConvergenceWarning: The max_iter was reached which means the coef_ did not converge\n",
      "  warnings.warn(\n",
      "C:\\Users\\Liptee\\AppData\\Local\\Programs\\Python\\Python39\\lib\\site-packages\\sklearn\\linear_model\\_sag.py:352: ConvergenceWarning: The max_iter was reached which means the coef_ did not converge\n",
      "  warnings.warn(\n",
      "C:\\Users\\Liptee\\AppData\\Local\\Programs\\Python\\Python39\\lib\\site-packages\\sklearn\\linear_model\\_sag.py:352: ConvergenceWarning: The max_iter was reached which means the coef_ did not converge\n",
      "  warnings.warn(\n"
     ]
    },
    {
     "name": "stdout",
     "output_type": "stream",
     "text": [
      "LogisticRegression(C=4.999999999999999, fit_intercept=False,\n",
      "                   intercept_scaling=4.999999999999999, random_state=2,\n",
      "                   solver='saga') score 0.9649122807017544\n",
      "LogisticRegression(C=5.099999999999999, fit_intercept=False,\n",
      "                   intercept_scaling=5.099999999999999, random_state=10,\n",
      "                   solver='liblinear') score 0.9649122807017544\n",
      "LogisticRegression(C=5.199999999999998, class_weight='balanced',\n",
      "                   fit_intercept=False, intercept_scaling=5.199999999999998,\n",
      "                   random_state=7, solver='sag') score 0.9298245614035088\n",
      "LogisticRegression(C=5.299999999999998, class_weight='balanced',\n",
      "                   fit_intercept=False, intercept_scaling=5.299999999999998,\n",
      "                   random_state=4, solver='saga') score 0.9298245614035088\n",
      "LogisticRegression(C=5.399999999999998, class_weight='balanced',\n",
      "                   fit_intercept=False, intercept_scaling=5.399999999999998,\n",
      "                   random_state=3, solver='liblinear') score 0.9298245614035088\n",
      "LogisticRegression(C=5.499999999999997, fit_intercept=False,\n",
      "                   intercept_scaling=5.499999999999997, random_state=1,\n",
      "                   solver='sag') score 0.9649122807017544\n",
      "LogisticRegression(C=5.599999999999997, fit_intercept=False,\n",
      "                   intercept_scaling=5.599999999999997, random_state=8,\n",
      "                   solver='saga') score 0.9649122807017544\n",
      "LogisticRegression(C=5.699999999999997, fit_intercept=False,\n",
      "                   intercept_scaling=5.699999999999997, random_state=10,\n",
      "                   solver='liblinear') score 0.9649122807017544\n",
      "LogisticRegression(C=5.799999999999996, class_weight='balanced',\n",
      "                   fit_intercept=False, intercept_scaling=5.799999999999996,\n",
      "                   random_state=7, solver='sag') score 0.9298245614035088\n",
      "LogisticRegression(C=5.899999999999996, class_weight='balanced',\n",
      "                   fit_intercept=False, intercept_scaling=5.899999999999996,\n",
      "                   random_state=5, solver='saga') score 0.9298245614035088\n",
      "LogisticRegression(C=5.999999999999996, class_weight='balanced',\n",
      "                   fit_intercept=False, intercept_scaling=5.999999999999996,\n",
      "                   random_state=6, solver='liblinear') score 0.9298245614035088\n",
      "LogisticRegression(C=6.099999999999995, fit_intercept=False,\n",
      "                   intercept_scaling=6.099999999999995, random_state=3,\n",
      "                   solver='sag') score 0.9649122807017544\n",
      "LogisticRegression(C=6.199999999999995, fit_intercept=False,\n",
      "                   intercept_scaling=6.199999999999995, random_state=3,\n",
      "                   solver='saga') score 0.9649122807017544"
     ]
    },
    {
     "name": "stderr",
     "output_type": "stream",
     "text": [
      "C:\\Users\\Liptee\\AppData\\Local\\Programs\\Python\\Python39\\lib\\site-packages\\sklearn\\linear_model\\_sag.py:352: ConvergenceWarning: The max_iter was reached which means the coef_ did not converge\n",
      "  warnings.warn(\n",
      "C:\\Users\\Liptee\\AppData\\Local\\Programs\\Python\\Python39\\lib\\site-packages\\sklearn\\linear_model\\_sag.py:352: ConvergenceWarning: The max_iter was reached which means the coef_ did not converge\n",
      "  warnings.warn(\n",
      "C:\\Users\\Liptee\\AppData\\Local\\Programs\\Python\\Python39\\lib\\site-packages\\sklearn\\linear_model\\_sag.py:352: ConvergenceWarning: The max_iter was reached which means the coef_ did not converge\n",
      "  warnings.warn(\n",
      "C:\\Users\\Liptee\\AppData\\Local\\Programs\\Python\\Python39\\lib\\site-packages\\sklearn\\linear_model\\_sag.py:352: ConvergenceWarning: The max_iter was reached which means the coef_ did not converge\n",
      "  warnings.warn(\n"
     ]
    },
    {
     "name": "stdout",
     "output_type": "stream",
     "text": [
      "\n",
      "LogisticRegression(C=6.2999999999999945, fit_intercept=False,\n",
      "                   intercept_scaling=6.2999999999999945, random_state=1,\n",
      "                   solver='liblinear') score 0.9649122807017544\n",
      "LogisticRegression(C=6.399999999999994, class_weight='balanced',\n",
      "                   fit_intercept=False, intercept_scaling=6.399999999999994,\n",
      "                   random_state=6, solver='sag') score 0.9298245614035088\n",
      "LogisticRegression(C=6.499999999999994, class_weight='balanced',\n",
      "                   fit_intercept=False, intercept_scaling=6.499999999999994,\n",
      "                   random_state=10, solver='saga') score 0.9298245614035088\n",
      "LogisticRegression(C=6.599999999999993, class_weight='balanced',\n",
      "                   fit_intercept=False, intercept_scaling=6.599999999999993,\n",
      "                   random_state=8, solver='liblinear') score 0.9298245614035088\n",
      "LogisticRegression(C=6.699999999999993, fit_intercept=False,\n",
      "                   intercept_scaling=6.699999999999993, random_state=7,\n",
      "                   solver='sag') score 0.9649122807017544\n",
      "LogisticRegression(C=6.799999999999993, fit_intercept=False,\n",
      "                   intercept_scaling=6.799999999999993, random_state=8,\n",
      "                   solver='saga') score 0.9649122807017544\n",
      "LogisticRegression(C=6.899999999999992, fit_intercept=False,\n",
      "                   intercept_scaling=6.899999999999992, random_state=7,\n",
      "                   solver='liblinear') score 0.9649122807017544\n",
      "LogisticRegression(C=6.999999999999992, class_weight='balanced',\n",
      "                   fit_intercept=False, intercept_scaling=6.999999999999992,\n",
      "                   random_state=2, solver='sag') score 0.9298245614035088\n",
      "LogisticRegression(C=7.099999999999992, class_weight='balanced',\n",
      "                   fit_intercept=False, intercept_scaling=7.099999999999992,\n",
      "                   random_state=5, solver='saga') score 0.9298245614035088\n",
      "LogisticRegression(C=7.199999999999991, class_weight='balanced',\n",
      "                   fit_intercept=False, intercept_scaling=7.199999999999991,\n",
      "                   random_state=1, solver='liblinear') score 0.9298245614035088\n",
      "LogisticRegression(C=7.299999999999991, fit_intercept=False,\n",
      "                   intercept_scaling=7.299999999999991, random_state=8,\n",
      "                   solver='sag') score 0.9649122807017544\n"
     ]
    },
    {
     "name": "stderr",
     "output_type": "stream",
     "text": [
      "C:\\Users\\Liptee\\AppData\\Local\\Programs\\Python\\Python39\\lib\\site-packages\\sklearn\\linear_model\\_sag.py:352: ConvergenceWarning: The max_iter was reached which means the coef_ did not converge\n",
      "  warnings.warn(\n",
      "C:\\Users\\Liptee\\AppData\\Local\\Programs\\Python\\Python39\\lib\\site-packages\\sklearn\\linear_model\\_sag.py:352: ConvergenceWarning: The max_iter was reached which means the coef_ did not converge\n",
      "  warnings.warn(\n",
      "C:\\Users\\Liptee\\AppData\\Local\\Programs\\Python\\Python39\\lib\\site-packages\\sklearn\\linear_model\\_sag.py:352: ConvergenceWarning: The max_iter was reached which means the coef_ did not converge\n",
      "  warnings.warn(\n",
      "C:\\Users\\Liptee\\AppData\\Local\\Programs\\Python\\Python39\\lib\\site-packages\\sklearn\\linear_model\\_sag.py:352: ConvergenceWarning: The max_iter was reached which means the coef_ did not converge\n",
      "  warnings.warn(\n"
     ]
    },
    {
     "name": "stdout",
     "output_type": "stream",
     "text": [
      "LogisticRegression(C=7.399999999999991, fit_intercept=False,\n",
      "                   intercept_scaling=7.399999999999991, random_state=5,\n",
      "                   solver='saga') score 0.9649122807017544\n",
      "LogisticRegression(C=7.49999999999999, fit_intercept=False,\n",
      "                   intercept_scaling=7.49999999999999, random_state=8,\n",
      "                   solver='liblinear') score 0.9649122807017544\n",
      "LogisticRegression(C=7.59999999999999, class_weight='balanced',\n",
      "                   fit_intercept=False, intercept_scaling=7.59999999999999,\n",
      "                   random_state=5, solver='sag') score 0.9298245614035088\n",
      "LogisticRegression(C=7.6999999999999895, class_weight='balanced',\n",
      "                   fit_intercept=False, intercept_scaling=7.6999999999999895,\n",
      "                   random_state=4, solver='saga') score 0.9122807017543859\n",
      "LogisticRegression(C=7.799999999999989, class_weight='balanced',\n",
      "                   fit_intercept=False, intercept_scaling=7.799999999999989,\n",
      "                   random_state=1, solver='liblinear') score 0.9122807017543859\n",
      "LogisticRegression(C=7.899999999999989, fit_intercept=False,\n",
      "                   intercept_scaling=7.899999999999989, random_state=4,\n",
      "                   solver='sag') score 0.9649122807017544\n",
      "LogisticRegression(C=7.9999999999999885, fit_intercept=False,\n",
      "                   intercept_scaling=7.9999999999999885, random_state=1,\n",
      "                   solver='saga') score 0.9649122807017544\n",
      "LogisticRegression(C=8.099999999999989, fit_intercept=False,\n",
      "                   intercept_scaling=8.099999999999989, random_state=7,\n",
      "                   solver='liblinear') score 0.9649122807017544\n",
      "LogisticRegression(C=8.199999999999989, class_weight='balanced',\n",
      "                   fit_intercept=False, intercept_scaling=8.199999999999989,\n",
      "                   random_state=7, solver='sag') score 0.9122807017543859\n",
      "LogisticRegression(C=8.299999999999988, class_weight='balanced',\n",
      "                   fit_intercept=False, intercept_scaling=8.299999999999988,\n",
      "                   random_state=2, solver='saga') score 0.9122807017543859\n",
      "LogisticRegression(C=8.399999999999988, class_weight='balanced',\n",
      "                   fit_intercept=False, intercept_scaling=8.399999999999988,\n",
      "                   random_state=3, solver='liblinear') score 0.9122807017543859\n"
     ]
    },
    {
     "name": "stderr",
     "output_type": "stream",
     "text": [
      "C:\\Users\\Liptee\\AppData\\Local\\Programs\\Python\\Python39\\lib\\site-packages\\sklearn\\linear_model\\_sag.py:352: ConvergenceWarning: The max_iter was reached which means the coef_ did not converge\n",
      "  warnings.warn(\n",
      "C:\\Users\\Liptee\\AppData\\Local\\Programs\\Python\\Python39\\lib\\site-packages\\sklearn\\linear_model\\_sag.py:352: ConvergenceWarning: The max_iter was reached which means the coef_ did not converge\n",
      "  warnings.warn(\n",
      "C:\\Users\\Liptee\\AppData\\Local\\Programs\\Python\\Python39\\lib\\site-packages\\sklearn\\linear_model\\_sag.py:352: ConvergenceWarning: The max_iter was reached which means the coef_ did not converge\n",
      "  warnings.warn(\n",
      "C:\\Users\\Liptee\\AppData\\Local\\Programs\\Python\\Python39\\lib\\site-packages\\sklearn\\linear_model\\_sag.py:352: ConvergenceWarning: The max_iter was reached which means the coef_ did not converge\n",
      "  warnings.warn(\n",
      "C:\\Users\\Liptee\\AppData\\Local\\Programs\\Python\\Python39\\lib\\site-packages\\sklearn\\linear_model\\_sag.py:352: ConvergenceWarning: The max_iter was reached which means the coef_ did not converge\n",
      "  warnings.warn(\n",
      "C:\\Users\\Liptee\\AppData\\Local\\Programs\\Python\\Python39\\lib\\site-packages\\sklearn\\linear_model\\_sag.py:352: ConvergenceWarning: The max_iter was reached which means the coef_ did not converge\n",
      "  warnings.warn(\n"
     ]
    },
    {
     "name": "stdout",
     "output_type": "stream",
     "text": [
      "LogisticRegression(C=8.499999999999988, fit_intercept=False,\n",
      "                   intercept_scaling=8.499999999999988, random_state=2,\n",
      "                   solver='sag') score 0.9649122807017544\n",
      "LogisticRegression(C=8.599999999999987, fit_intercept=False,\n",
      "                   intercept_scaling=8.599999999999987, random_state=1,\n",
      "                   solver='saga') score 0.9649122807017544\n",
      "LogisticRegression(C=8.699999999999987, fit_intercept=False,\n",
      "                   intercept_scaling=8.699999999999987, random_state=1,\n",
      "                   solver='liblinear') score 0.9649122807017544\n",
      "LogisticRegression(C=8.799999999999986, class_weight='balanced',\n",
      "                   fit_intercept=False, intercept_scaling=8.799999999999986,\n",
      "                   random_state=3, solver='sag') score 0.9122807017543859\n",
      "LogisticRegression(C=8.899999999999986, class_weight='balanced',\n",
      "                   fit_intercept=False, intercept_scaling=8.899999999999986,\n",
      "                   random_state=5, solver='saga') score 0.9122807017543859\n",
      "LogisticRegression(C=8.999999999999986, class_weight='balanced',\n",
      "                   fit_intercept=False, intercept_scaling=8.999999999999986,\n",
      "                   random_state=7, solver='liblinear') score 0.9122807017543859\n",
      "LogisticRegression(C=9.099999999999985, fit_intercept=False,\n",
      "                   intercept_scaling=9.099999999999985, random_state=1,\n",
      "                   solver='sag') score 0.9649122807017544\n",
      "LogisticRegression(C=9.199999999999985, fit_intercept=False,\n",
      "                   intercept_scaling=9.199999999999985, random_state=10,\n",
      "                   solver='saga') score 0.9649122807017544\n",
      "LogisticRegression(C=9.299999999999985, fit_intercept=False,\n",
      "                   intercept_scaling=9.299999999999985, random_state=5,\n",
      "                   solver='liblinear') score 0.9649122807017544\n",
      "LogisticRegression(C=9.399999999999984, class_weight='balanced',\n",
      "                   fit_intercept=False, intercept_scaling=9.399999999999984,\n",
      "                   random_state=10, solver='sag') score 0.9122807017543859\n"
     ]
    },
    {
     "name": "stderr",
     "output_type": "stream",
     "text": [
      "C:\\Users\\Liptee\\AppData\\Local\\Programs\\Python\\Python39\\lib\\site-packages\\sklearn\\linear_model\\_sag.py:352: ConvergenceWarning: The max_iter was reached which means the coef_ did not converge\n",
      "  warnings.warn(\n",
      "C:\\Users\\Liptee\\AppData\\Local\\Programs\\Python\\Python39\\lib\\site-packages\\sklearn\\linear_model\\_sag.py:352: ConvergenceWarning: The max_iter was reached which means the coef_ did not converge\n",
      "  warnings.warn(\n",
      "C:\\Users\\Liptee\\AppData\\Local\\Programs\\Python\\Python39\\lib\\site-packages\\sklearn\\linear_model\\_sag.py:352: ConvergenceWarning: The max_iter was reached which means the coef_ did not converge\n",
      "  warnings.warn(\n",
      "C:\\Users\\Liptee\\AppData\\Local\\Programs\\Python\\Python39\\lib\\site-packages\\sklearn\\linear_model\\_sag.py:352: ConvergenceWarning: The max_iter was reached which means the coef_ did not converge\n",
      "  warnings.warn(\n",
      "C:\\Users\\Liptee\\AppData\\Local\\Programs\\Python\\Python39\\lib\\site-packages\\sklearn\\linear_model\\_sag.py:352: ConvergenceWarning: The max_iter was reached which means the coef_ did not converge\n",
      "  warnings.warn(\n",
      "C:\\Users\\Liptee\\AppData\\Local\\Programs\\Python\\Python39\\lib\\site-packages\\sklearn\\linear_model\\_sag.py:352: ConvergenceWarning: The max_iter was reached which means the coef_ did not converge\n",
      "  warnings.warn(\n",
      "C:\\Users\\Liptee\\AppData\\Local\\Programs\\Python\\Python39\\lib\\site-packages\\sklearn\\linear_model\\_sag.py:352: ConvergenceWarning: The max_iter was reached which means the coef_ did not converge\n",
      "  warnings.warn(\n",
      "C:\\Users\\Liptee\\AppData\\Local\\Programs\\Python\\Python39\\lib\\site-packages\\sklearn\\linear_model\\_sag.py:352: ConvergenceWarning: The max_iter was reached which means the coef_ did not converge\n",
      "  warnings.warn(\n"
     ]
    },
    {
     "name": "stdout",
     "output_type": "stream",
     "text": [
      "LogisticRegression(C=9.499999999999984, class_weight='balanced',\n",
      "                   fit_intercept=False, intercept_scaling=9.499999999999984,\n",
      "                   random_state=3, solver='saga') score 0.9122807017543859\n",
      "LogisticRegression(C=9.599999999999984, class_weight='balanced',\n",
      "                   fit_intercept=False, intercept_scaling=9.599999999999984,\n",
      "                   random_state=3, solver='liblinear') score 0.9122807017543859\n",
      "LogisticRegression(C=9.699999999999983, fit_intercept=False,\n",
      "                   intercept_scaling=9.699999999999983, random_state=6,\n",
      "                   solver='sag') score 0.9649122807017544\n",
      "LogisticRegression(C=9.799999999999983, fit_intercept=False,\n",
      "                   intercept_scaling=9.799999999999983, random_state=4,\n",
      "                   solver='saga') score 0.9649122807017544\n",
      "LogisticRegression(C=9.899999999999983, fit_intercept=False,\n",
      "                   intercept_scaling=9.899999999999983, random_state=6,\n",
      "                   solver='liblinear') score 0.9649122807017544\n",
      "LogisticRegression(C=9.999999999999982, class_weight='balanced',\n",
      "                   fit_intercept=False, intercept_scaling=9.999999999999982,\n",
      "                   random_state=6, solver='sag') score 0.9122807017543859\n",
      "LogisticRegression(C=10.099999999999982, class_weight='balanced',\n",
      "                   fit_intercept=False, intercept_scaling=10.099999999999982,\n",
      "                   random_state=4, solver='saga') score 0.9122807017543859\n",
      "LogisticRegression(C=10.199999999999982, class_weight='balanced',\n",
      "                   fit_intercept=False, intercept_scaling=10.199999999999982,\n",
      "                   random_state=9, solver='liblinear') score 0.9122807017543859\n",
      "LogisticRegression(C=10.299999999999981, fit_intercept=False,\n",
      "                   intercept_scaling=10.299999999999981, random_state=1,\n",
      "                   solver='sag') score 0.9649122807017544\n",
      "LogisticRegression(C=10.39999999999998, fit_intercept=False,\n",
      "                   intercept_scaling=10.39999999999998, random_state=1,\n",
      "                   solver='saga') score 0.9649122807017544\n",
      "LogisticRegression(C=10.49999999999998, fit_intercept=False,\n",
      "                   intercept_scaling=10.49999999999998, random_state=6,\n",
      "                   solver='liblinear') score 0.9649122807017544\n"
     ]
    },
    {
     "name": "stderr",
     "output_type": "stream",
     "text": [
      "C:\\Users\\Liptee\\AppData\\Local\\Programs\\Python\\Python39\\lib\\site-packages\\sklearn\\linear_model\\_sag.py:352: ConvergenceWarning: The max_iter was reached which means the coef_ did not converge\n",
      "  warnings.warn(\n",
      "C:\\Users\\Liptee\\AppData\\Local\\Programs\\Python\\Python39\\lib\\site-packages\\sklearn\\linear_model\\_sag.py:352: ConvergenceWarning: The max_iter was reached which means the coef_ did not converge\n",
      "  warnings.warn(\n",
      "C:\\Users\\Liptee\\AppData\\Local\\Programs\\Python\\Python39\\lib\\site-packages\\sklearn\\linear_model\\_sag.py:352: ConvergenceWarning: The max_iter was reached which means the coef_ did not converge\n",
      "  warnings.warn(\n"
     ]
    }
   ],
   "source": [
    "c = 1\n",
    "intercept_scaling_p = 1\n",
    "best_for_cancer = 0\n",
    "for pen in penalty:\n",
    "    for du in dual:\n",
    "        while c < 10:\n",
    "            for fit_i in fit_intercept:\n",
    "                while intercept_scaling_p < 10:\n",
    "                    for cw in class_weight:\n",
    "                        for sol in solver:\n",
    "                            classifier = LogisticRegression(penalty=pen, dual=du, C=c, fit_intercept=fit_i, intercept_scaling=intercept_scaling_p, class_weight=cw, random_state=randint(1,10), solver=sol)\n",
    "                            classifier.fit(Xtrain_cancer, Ytrain_cancer)\n",
    "                            predict = classifier.predict(Xtest_cancer)\n",
    "                            score = accuracy_score(Ytest_cancer, predict)\n",
    "                            c+=0.1\n",
    "                            intercept_scaling_p+=0.1\n",
    "                            print(f\"{classifier} score {score}\")\n",
    "                            if score > best_for_cancer:\n",
    "                                best_for_cancer = score\n",
    "                                best_classifier_for_cancer = classifier"
   ]
  },
  {
   "cell_type": "code",
   "execution_count": 42,
   "metadata": {},
   "outputs": [
    {
     "name": "stdout",
     "output_type": "stream",
     "text": [
      "LogisticRegression(C=1.3000000000000003, fit_intercept=False,\n",
      "                   intercept_scaling=1.3000000000000003, random_state=1,\n",
      "                   solver='sag')\n",
      "0.9649122807017544\n"
     ]
    }
   ],
   "source": [
    "print(best_classifier_for_cancer)\n",
    "print(best_for_cancer)"
   ]
  }
 ],
 "metadata": {
  "interpreter": {
   "hash": "5d00fe9463615c7d2f04bd21cf4d3dd7cfe8c073f4fa7f37537a4dba5ea0ea78"
  },
  "kernelspec": {
   "display_name": "Python 3.9.4 64-bit",
   "language": "python",
   "name": "python3"
  },
  "language_info": {
   "codemirror_mode": {
    "name": "ipython",
    "version": 3
   },
   "file_extension": ".py",
   "mimetype": "text/x-python",
   "name": "python",
   "nbconvert_exporter": "python",
   "pygments_lexer": "ipython3",
   "version": "3.9.4"
  },
  "orig_nbformat": 4
 },
 "nbformat": 4,
 "nbformat_minor": 2
}
